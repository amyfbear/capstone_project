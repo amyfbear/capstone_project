{
 "cells": [
  {
   "cell_type": "markdown",
   "metadata": {
    "toc": true
   },
   "source": [
    "<h1>Table of Contents<span class=\"tocSkip\"></span></h1>\n",
    "<div class=\"toc\"><ul class=\"toc-item\"><li><span><a href=\"#Importing-Packages\" data-toc-modified-id=\"Importing-Packages-1\"><span class=\"toc-item-num\">1&nbsp;&nbsp;</span>Importing Packages</a></span></li></ul></div>"
   ]
  },
  {
   "cell_type": "markdown",
   "metadata": {},
   "source": [
    "## Importing Packages"
   ]
  },
  {
   "cell_type": "markdown",
   "metadata": {},
   "source": [
    "- model interpetation \n",
    "- coeffs on time lags"
   ]
  },
  {
   "cell_type": "code",
   "execution_count": 1,
   "metadata": {},
   "outputs": [],
   "source": [
    "import pandas as pd\n",
    "import numpy as np\n",
    "import matplotlib.pyplot as plt\n",
    "from datetime import datetime\n",
    "from sklearn.model_selection import train_test_split\n",
    "from statsmodels.tsa.statespace.sarimax import SARIMAX\n",
    "# Import ARIMA model.\n",
    "from statsmodels.tsa.arima_model import ARIMA\n",
    "import statsmodels.api as sm\n",
    "from statsmodels.graphics.tsaplots import plot_acf, plot_pacf\n",
    "\n",
    "%matplotlib inline\n",
    "\n",
    "# We are required to do this in order to avoid \"FutureWarning\" issues.\n",
    "from pandas.plotting import register_matplotlib_converters\n",
    "register_matplotlib_converters()\n",
    "\n",
    "\n",
    "\n",
    "import warnings\n",
    "warnings.filterwarnings(\"ignore\")"
   ]
  },
  {
   "cell_type": "code",
   "execution_count": 2,
   "metadata": {},
   "outputs": [],
   "source": [
    "# #CREATE FUNCTION THAT READS IN CSV AND AND CLEANS DATA\n",
    "# def data_reader_cleaner(df):\n",
    "# # 1) read in csv\n",
    "# data = pd.read_csv('./data/data_1.csv')\n",
    "# # 2) reset_index\n",
    "# data.reset_index(inplace=True)\n",
    "# # 3)set colunms as row 0 \n",
    "# data.columns = data.iloc[0]\n",
    "# # 4) drop first and last columns\n",
    "# data.drop([0,31], axis = 0, inplace = True)\n",
    "# # 5) set index as date\n",
    "#  data.set_index('Date', inplace = True)   \n",
    "# 6) concats\n",
    "# return df"
   ]
  },
  {
   "cell_type": "code",
   "execution_count": 3,
   "metadata": {},
   "outputs": [],
   "source": [
    "data = pd.read_csv('./data/data_1.csv')"
   ]
  },
  {
   "cell_type": "code",
   "execution_count": 4,
   "metadata": {},
   "outputs": [],
   "source": [
    "data_2 = pd.read_csv('./data/data_2.csv')"
   ]
  },
  {
   "cell_type": "code",
   "execution_count": 5,
   "metadata": {},
   "outputs": [],
   "source": [
    "data_3 = pd.read_csv('./data/data_3.csv')"
   ]
  },
  {
   "cell_type": "code",
   "execution_count": 6,
   "metadata": {},
   "outputs": [],
   "source": [
    "data_4 = pd.read_csv('./data/data_4.csv')"
   ]
  },
  {
   "cell_type": "code",
   "execution_count": 7,
   "metadata": {},
   "outputs": [],
   "source": [
    "data_5 = pd.read_csv('./data/data_5.csv')"
   ]
  },
  {
   "cell_type": "code",
   "execution_count": 8,
   "metadata": {},
   "outputs": [],
   "source": [
    "data.reset_index(inplace=True)"
   ]
  },
  {
   "cell_type": "code",
   "execution_count": 9,
   "metadata": {},
   "outputs": [],
   "source": [
    "data_2.reset_index(inplace=True)"
   ]
  },
  {
   "cell_type": "code",
   "execution_count": 10,
   "metadata": {
    "scrolled": false
   },
   "outputs": [],
   "source": [
    "data_3.reset_index(inplace=True)"
   ]
  },
  {
   "cell_type": "code",
   "execution_count": 11,
   "metadata": {},
   "outputs": [],
   "source": [
    "data_4.reset_index(inplace=True)"
   ]
  },
  {
   "cell_type": "code",
   "execution_count": 12,
   "metadata": {},
   "outputs": [],
   "source": [
    "data_5.reset_index(inplace=True)"
   ]
  },
  {
   "cell_type": "code",
   "execution_count": 13,
   "metadata": {},
   "outputs": [],
   "source": [
    "data.columns = data.iloc[0]"
   ]
  },
  {
   "cell_type": "code",
   "execution_count": 14,
   "metadata": {},
   "outputs": [],
   "source": [
    "data_2.columns = data_2.iloc[0]"
   ]
  },
  {
   "cell_type": "code",
   "execution_count": 15,
   "metadata": {},
   "outputs": [],
   "source": [
    "data_3.columns = data_3.iloc[0]"
   ]
  },
  {
   "cell_type": "code",
   "execution_count": 16,
   "metadata": {},
   "outputs": [],
   "source": [
    "data_4.columns = data_4.iloc[0]"
   ]
  },
  {
   "cell_type": "code",
   "execution_count": 17,
   "metadata": {},
   "outputs": [],
   "source": [
    "data_5.columns = data_5.iloc[0]"
   ]
  },
  {
   "cell_type": "code",
   "execution_count": 18,
   "metadata": {},
   "outputs": [
    {
     "data": {
      "text/plain": [
       "Index(['Date', 'Day of the Week', 'Bill Count', 'Voids', 'Gross Sales',\n",
       "       'Discounts', 'Net Sales', 'Menu Item Cost', 'Labor Cost', 'Margin'],\n",
       "      dtype='object', name=0)"
      ]
     },
     "execution_count": 18,
     "metadata": {},
     "output_type": "execute_result"
    }
   ],
   "source": [
    "data_2.columns"
   ]
  },
  {
   "cell_type": "code",
   "execution_count": 19,
   "metadata": {},
   "outputs": [
    {
     "data": {
      "text/plain": [
       "(32, 10)"
      ]
     },
     "execution_count": 19,
     "metadata": {},
     "output_type": "execute_result"
    }
   ],
   "source": [
    "data.shape"
   ]
  },
  {
   "cell_type": "code",
   "execution_count": 20,
   "metadata": {},
   "outputs": [
    {
     "data": {
      "text/plain": [
       "(185, 10)"
      ]
     },
     "execution_count": 20,
     "metadata": {},
     "output_type": "execute_result"
    }
   ],
   "source": [
    "data_2.shape"
   ]
  },
  {
   "cell_type": "code",
   "execution_count": 21,
   "metadata": {},
   "outputs": [
    {
     "data": {
      "text/plain": [
       "(183, 10)"
      ]
     },
     "execution_count": 21,
     "metadata": {},
     "output_type": "execute_result"
    }
   ],
   "source": [
    "data_3.shape"
   ]
  },
  {
   "cell_type": "code",
   "execution_count": 22,
   "metadata": {},
   "outputs": [
    {
     "data": {
      "text/plain": [
       "(182, 10)"
      ]
     },
     "execution_count": 22,
     "metadata": {},
     "output_type": "execute_result"
    }
   ],
   "source": [
    "data_4.shape"
   ]
  },
  {
   "cell_type": "code",
   "execution_count": 23,
   "metadata": {},
   "outputs": [
    {
     "data": {
      "text/plain": [
       "(49, 10)"
      ]
     },
     "execution_count": 23,
     "metadata": {},
     "output_type": "execute_result"
    }
   ],
   "source": [
    "data_5.shape"
   ]
  },
  {
   "cell_type": "code",
   "execution_count": 24,
   "metadata": {},
   "outputs": [],
   "source": [
    "data.drop([0,31], axis = 0, inplace = True)"
   ]
  },
  {
   "cell_type": "code",
   "execution_count": 25,
   "metadata": {},
   "outputs": [],
   "source": [
    "data_2.drop([0,184], axis = 0, inplace = True)"
   ]
  },
  {
   "cell_type": "code",
   "execution_count": 26,
   "metadata": {},
   "outputs": [],
   "source": [
    "data_3.drop([0,182], axis = 0, inplace = True)"
   ]
  },
  {
   "cell_type": "code",
   "execution_count": 27,
   "metadata": {},
   "outputs": [],
   "source": [
    "data_4.drop([0,181], axis = 0, inplace = True)"
   ]
  },
  {
   "cell_type": "code",
   "execution_count": 28,
   "metadata": {},
   "outputs": [],
   "source": [
    "data_5.drop([0,48], axis = 0, inplace = True)"
   ]
  },
  {
   "cell_type": "code",
   "execution_count": 29,
   "metadata": {},
   "outputs": [],
   "source": [
    "data.set_index('Date', inplace = True)"
   ]
  },
  {
   "cell_type": "code",
   "execution_count": 30,
   "metadata": {},
   "outputs": [],
   "source": [
    "data_2.set_index('Date', inplace = True)"
   ]
  },
  {
   "cell_type": "code",
   "execution_count": 31,
   "metadata": {},
   "outputs": [],
   "source": [
    "data_3.set_index('Date', inplace = True)"
   ]
  },
  {
   "cell_type": "code",
   "execution_count": 32,
   "metadata": {},
   "outputs": [],
   "source": [
    "data_4.set_index('Date', inplace = True)"
   ]
  },
  {
   "cell_type": "code",
   "execution_count": 33,
   "metadata": {},
   "outputs": [],
   "source": [
    "data_5.set_index('Date', inplace = True)"
   ]
  },
  {
   "cell_type": "code",
   "execution_count": 34,
   "metadata": {},
   "outputs": [
    {
     "data": {
      "text/html": [
       "<div>\n",
       "<style scoped>\n",
       "    .dataframe tbody tr th:only-of-type {\n",
       "        vertical-align: middle;\n",
       "    }\n",
       "\n",
       "    .dataframe tbody tr th {\n",
       "        vertical-align: top;\n",
       "    }\n",
       "\n",
       "    .dataframe thead th {\n",
       "        text-align: right;\n",
       "    }\n",
       "</style>\n",
       "<table border=\"1\" class=\"dataframe\">\n",
       "  <thead>\n",
       "    <tr style=\"text-align: right;\">\n",
       "      <th></th>\n",
       "      <th>Day of the Week</th>\n",
       "      <th>Bill Count</th>\n",
       "      <th>Voids</th>\n",
       "      <th>Gross Sales</th>\n",
       "      <th>Discounts</th>\n",
       "      <th>Net Sales</th>\n",
       "      <th>Menu Item Cost</th>\n",
       "      <th>Labor Cost</th>\n",
       "      <th>Margin</th>\n",
       "    </tr>\n",
       "    <tr>\n",
       "      <th>Date</th>\n",
       "      <th></th>\n",
       "      <th></th>\n",
       "      <th></th>\n",
       "      <th></th>\n",
       "      <th></th>\n",
       "      <th></th>\n",
       "      <th></th>\n",
       "      <th></th>\n",
       "      <th></th>\n",
       "    </tr>\n",
       "  </thead>\n",
       "  <tbody>\n",
       "    <tr>\n",
       "      <td>2018-07-01</td>\n",
       "      <td>Sunday</td>\n",
       "      <td>94</td>\n",
       "      <td>$268.00</td>\n",
       "      <td>$5,132.03</td>\n",
       "      <td>$0.00</td>\n",
       "      <td>$5,132.03</td>\n",
       "      <td>$0.00</td>\n",
       "      <td>$1,316.44</td>\n",
       "      <td>$3,815.59</td>\n",
       "    </tr>\n",
       "    <tr>\n",
       "      <td>2018-07-02</td>\n",
       "      <td>Monday</td>\n",
       "      <td>75</td>\n",
       "      <td>$154.00</td>\n",
       "      <td>$3,904.01</td>\n",
       "      <td>$0.00</td>\n",
       "      <td>$3,904.01</td>\n",
       "      <td>$0.00</td>\n",
       "      <td>$855.73</td>\n",
       "      <td>$3,048.28</td>\n",
       "    </tr>\n",
       "    <tr>\n",
       "      <td>2018-07-03</td>\n",
       "      <td>Tuesday</td>\n",
       "      <td>72</td>\n",
       "      <td>$61.00</td>\n",
       "      <td>$3,555.00</td>\n",
       "      <td>$0.00</td>\n",
       "      <td>$3,555.00</td>\n",
       "      <td>$0.00</td>\n",
       "      <td>$909.48</td>\n",
       "      <td>$2,645.52</td>\n",
       "    </tr>\n",
       "    <tr>\n",
       "      <td>2018-07-04</td>\n",
       "      <td>Wednesday</td>\n",
       "      <td>66</td>\n",
       "      <td>$115.00</td>\n",
       "      <td>$3,027.00</td>\n",
       "      <td>$6.00</td>\n",
       "      <td>$3,021.00</td>\n",
       "      <td>$0.00</td>\n",
       "      <td>$744.24</td>\n",
       "      <td>$2,276.76</td>\n",
       "    </tr>\n",
       "    <tr>\n",
       "      <td>2018-07-05</td>\n",
       "      <td>Thursday</td>\n",
       "      <td>58</td>\n",
       "      <td>$39.00</td>\n",
       "      <td>$2,809.00</td>\n",
       "      <td>$0.00</td>\n",
       "      <td>$2,809.00</td>\n",
       "      <td>$0.00</td>\n",
       "      <td>$1,060.46</td>\n",
       "      <td>$1,748.54</td>\n",
       "    </tr>\n",
       "    <tr>\n",
       "      <td>...</td>\n",
       "      <td>...</td>\n",
       "      <td>...</td>\n",
       "      <td>...</td>\n",
       "      <td>...</td>\n",
       "      <td>...</td>\n",
       "      <td>...</td>\n",
       "      <td>...</td>\n",
       "      <td>...</td>\n",
       "      <td>...</td>\n",
       "    </tr>\n",
       "    <tr>\n",
       "      <td>2018-12-27</td>\n",
       "      <td>Thursday</td>\n",
       "      <td>76</td>\n",
       "      <td>$89.00</td>\n",
       "      <td>$4,706.00</td>\n",
       "      <td>$6.60</td>\n",
       "      <td>$4,699.40</td>\n",
       "      <td>$114.00</td>\n",
       "      <td>$696.53</td>\n",
       "      <td>$3,888.87</td>\n",
       "    </tr>\n",
       "    <tr>\n",
       "      <td>2018-12-28</td>\n",
       "      <td>Friday</td>\n",
       "      <td>82</td>\n",
       "      <td>$100.00</td>\n",
       "      <td>$4,895.00</td>\n",
       "      <td>$10.00</td>\n",
       "      <td>$4,885.00</td>\n",
       "      <td>$72.00</td>\n",
       "      <td>$833.36</td>\n",
       "      <td>$3,979.64</td>\n",
       "    </tr>\n",
       "    <tr>\n",
       "      <td>2018-12-29</td>\n",
       "      <td>Saturday</td>\n",
       "      <td>111</td>\n",
       "      <td>$124.00</td>\n",
       "      <td>$6,307.00</td>\n",
       "      <td>$0.00</td>\n",
       "      <td>$6,307.00</td>\n",
       "      <td>$212.00</td>\n",
       "      <td>$1,244.73</td>\n",
       "      <td>$4,850.27</td>\n",
       "    </tr>\n",
       "    <tr>\n",
       "      <td>2018-12-30</td>\n",
       "      <td>Sunday</td>\n",
       "      <td>94</td>\n",
       "      <td>$227.00</td>\n",
       "      <td>$5,393.00</td>\n",
       "      <td>$10.10</td>\n",
       "      <td>$5,382.90</td>\n",
       "      <td>$48.00</td>\n",
       "      <td>$1,142.10</td>\n",
       "      <td>$4,192.80</td>\n",
       "    </tr>\n",
       "    <tr>\n",
       "      <td>2018-12-31</td>\n",
       "      <td>Monday</td>\n",
       "      <td>72</td>\n",
       "      <td>$123.00</td>\n",
       "      <td>$4,845.00</td>\n",
       "      <td>$0.00</td>\n",
       "      <td>$4,845.00</td>\n",
       "      <td>$84.00</td>\n",
       "      <td>$1,187.05</td>\n",
       "      <td>$3,573.95</td>\n",
       "    </tr>\n",
       "  </tbody>\n",
       "</table>\n",
       "<p>183 rows × 9 columns</p>\n",
       "</div>"
      ],
      "text/plain": [
       "0          Day of the Week Bill Count    Voids Gross Sales Discounts  \\\n",
       "Date                                                                   \n",
       "2018-07-01          Sunday         94  $268.00   $5,132.03     $0.00   \n",
       "2018-07-02          Monday         75  $154.00   $3,904.01     $0.00   \n",
       "2018-07-03         Tuesday         72   $61.00   $3,555.00     $0.00   \n",
       "2018-07-04       Wednesday         66  $115.00   $3,027.00     $6.00   \n",
       "2018-07-05        Thursday         58   $39.00   $2,809.00     $0.00   \n",
       "...                    ...        ...      ...         ...       ...   \n",
       "2018-12-27        Thursday         76   $89.00   $4,706.00     $6.60   \n",
       "2018-12-28          Friday         82  $100.00   $4,895.00    $10.00   \n",
       "2018-12-29        Saturday        111  $124.00   $6,307.00     $0.00   \n",
       "2018-12-30          Sunday         94  $227.00   $5,393.00    $10.10   \n",
       "2018-12-31          Monday         72  $123.00   $4,845.00     $0.00   \n",
       "\n",
       "0           Net Sales Menu Item Cost Labor Cost     Margin  \n",
       "Date                                                        \n",
       "2018-07-01  $5,132.03          $0.00  $1,316.44  $3,815.59  \n",
       "2018-07-02  $3,904.01          $0.00    $855.73  $3,048.28  \n",
       "2018-07-03  $3,555.00          $0.00    $909.48  $2,645.52  \n",
       "2018-07-04  $3,021.00          $0.00    $744.24  $2,276.76  \n",
       "2018-07-05  $2,809.00          $0.00  $1,060.46  $1,748.54  \n",
       "...               ...            ...        ...        ...  \n",
       "2018-12-27  $4,699.40        $114.00    $696.53  $3,888.87  \n",
       "2018-12-28  $4,885.00         $72.00    $833.36  $3,979.64  \n",
       "2018-12-29  $6,307.00        $212.00  $1,244.73  $4,850.27  \n",
       "2018-12-30  $5,382.90         $48.00  $1,142.10  $4,192.80  \n",
       "2018-12-31  $4,845.00         $84.00  $1,187.05  $3,573.95  \n",
       "\n",
       "[183 rows x 9 columns]"
      ]
     },
     "execution_count": 34,
     "metadata": {},
     "output_type": "execute_result"
    }
   ],
   "source": [
    "data_2"
   ]
  },
  {
   "cell_type": "code",
   "execution_count": 35,
   "metadata": {},
   "outputs": [
    {
     "data": {
      "text/html": [
       "<div>\n",
       "<style scoped>\n",
       "    .dataframe tbody tr th:only-of-type {\n",
       "        vertical-align: middle;\n",
       "    }\n",
       "\n",
       "    .dataframe tbody tr th {\n",
       "        vertical-align: top;\n",
       "    }\n",
       "\n",
       "    .dataframe thead th {\n",
       "        text-align: right;\n",
       "    }\n",
       "</style>\n",
       "<table border=\"1\" class=\"dataframe\">\n",
       "  <thead>\n",
       "    <tr style=\"text-align: right;\">\n",
       "      <th></th>\n",
       "      <th>Day of the Week</th>\n",
       "      <th>Bill Count</th>\n",
       "      <th>Voids</th>\n",
       "      <th>Gross Sales</th>\n",
       "      <th>Discounts</th>\n",
       "      <th>Net Sales</th>\n",
       "      <th>Menu Item Cost</th>\n",
       "      <th>Labor Cost</th>\n",
       "      <th>Margin</th>\n",
       "    </tr>\n",
       "  </thead>\n",
       "  <tbody>\n",
       "    <tr>\n",
       "      <td>count</td>\n",
       "      <td>30</td>\n",
       "      <td>30</td>\n",
       "      <td>30</td>\n",
       "      <td>30</td>\n",
       "      <td>30</td>\n",
       "      <td>30</td>\n",
       "      <td>30</td>\n",
       "      <td>30</td>\n",
       "      <td>30</td>\n",
       "    </tr>\n",
       "    <tr>\n",
       "      <td>unique</td>\n",
       "      <td>7</td>\n",
       "      <td>26</td>\n",
       "      <td>27</td>\n",
       "      <td>30</td>\n",
       "      <td>18</td>\n",
       "      <td>30</td>\n",
       "      <td>1</td>\n",
       "      <td>30</td>\n",
       "      <td>30</td>\n",
       "    </tr>\n",
       "    <tr>\n",
       "      <td>top</td>\n",
       "      <td>Friday</td>\n",
       "      <td>103</td>\n",
       "      <td>$144.00</td>\n",
       "      <td>$6,165.00</td>\n",
       "      <td>$0.00</td>\n",
       "      <td>$4,657.50</td>\n",
       "      <td>$0.00</td>\n",
       "      <td>$751.85</td>\n",
       "      <td>$4,911.79</td>\n",
       "    </tr>\n",
       "    <tr>\n",
       "      <td>freq</td>\n",
       "      <td>5</td>\n",
       "      <td>3</td>\n",
       "      <td>2</td>\n",
       "      <td>1</td>\n",
       "      <td>13</td>\n",
       "      <td>1</td>\n",
       "      <td>30</td>\n",
       "      <td>1</td>\n",
       "      <td>1</td>\n",
       "    </tr>\n",
       "  </tbody>\n",
       "</table>\n",
       "</div>"
      ],
      "text/plain": [
       "0      Day of the Week Bill Count    Voids Gross Sales Discounts  Net Sales  \\\n",
       "count               30         30       30          30        30         30   \n",
       "unique               7         26       27          30        18         30   \n",
       "top             Friday        103  $144.00   $6,165.00     $0.00  $4,657.50   \n",
       "freq                 5          3        2           1        13          1   \n",
       "\n",
       "0      Menu Item Cost Labor Cost     Margin  \n",
       "count              30         30         30  \n",
       "unique              1         30         30  \n",
       "top             $0.00    $751.85  $4,911.79  \n",
       "freq               30          1          1  "
      ]
     },
     "execution_count": 35,
     "metadata": {},
     "output_type": "execute_result"
    }
   ],
   "source": [
    "data.describe()"
   ]
  },
  {
   "cell_type": "code",
   "execution_count": 36,
   "metadata": {},
   "outputs": [
    {
     "data": {
      "text/html": [
       "<div>\n",
       "<style scoped>\n",
       "    .dataframe tbody tr th:only-of-type {\n",
       "        vertical-align: middle;\n",
       "    }\n",
       "\n",
       "    .dataframe tbody tr th {\n",
       "        vertical-align: top;\n",
       "    }\n",
       "\n",
       "    .dataframe thead th {\n",
       "        text-align: right;\n",
       "    }\n",
       "</style>\n",
       "<table border=\"1\" class=\"dataframe\">\n",
       "  <thead>\n",
       "    <tr style=\"text-align: right;\">\n",
       "      <th></th>\n",
       "      <th>Day of the Week</th>\n",
       "      <th>Bill Count</th>\n",
       "      <th>Voids</th>\n",
       "      <th>Gross Sales</th>\n",
       "      <th>Discounts</th>\n",
       "      <th>Net Sales</th>\n",
       "      <th>Menu Item Cost</th>\n",
       "      <th>Labor Cost</th>\n",
       "      <th>Margin</th>\n",
       "    </tr>\n",
       "  </thead>\n",
       "  <tbody>\n",
       "    <tr>\n",
       "      <td>count</td>\n",
       "      <td>183</td>\n",
       "      <td>183</td>\n",
       "      <td>183</td>\n",
       "      <td>183</td>\n",
       "      <td>183</td>\n",
       "      <td>183</td>\n",
       "      <td>183</td>\n",
       "      <td>183</td>\n",
       "      <td>183</td>\n",
       "    </tr>\n",
       "    <tr>\n",
       "      <td>unique</td>\n",
       "      <td>7</td>\n",
       "      <td>88</td>\n",
       "      <td>135</td>\n",
       "      <td>182</td>\n",
       "      <td>103</td>\n",
       "      <td>179</td>\n",
       "      <td>38</td>\n",
       "      <td>182</td>\n",
       "      <td>182</td>\n",
       "    </tr>\n",
       "    <tr>\n",
       "      <td>top</td>\n",
       "      <td>Sunday</td>\n",
       "      <td>82</td>\n",
       "      <td>$86.00</td>\n",
       "      <td>$3,555.00</td>\n",
       "      <td>$0.00</td>\n",
       "      <td>$6,029.00</td>\n",
       "      <td>$0.00</td>\n",
       "      <td>$1,136.97</td>\n",
       "      <td>$3,048.28</td>\n",
       "    </tr>\n",
       "    <tr>\n",
       "      <td>freq</td>\n",
       "      <td>27</td>\n",
       "      <td>8</td>\n",
       "      <td>5</td>\n",
       "      <td>2</td>\n",
       "      <td>70</td>\n",
       "      <td>3</td>\n",
       "      <td>86</td>\n",
       "      <td>2</td>\n",
       "      <td>2</td>\n",
       "    </tr>\n",
       "  </tbody>\n",
       "</table>\n",
       "</div>"
      ],
      "text/plain": [
       "0      Day of the Week Bill Count   Voids Gross Sales Discounts  Net Sales  \\\n",
       "count              183        183     183         183       183        183   \n",
       "unique               7         88     135         182       103        179   \n",
       "top             Sunday         82  $86.00   $3,555.00     $0.00  $6,029.00   \n",
       "freq                27          8       5           2        70          3   \n",
       "\n",
       "0      Menu Item Cost Labor Cost     Margin  \n",
       "count             183        183        183  \n",
       "unique             38        182        182  \n",
       "top             $0.00  $1,136.97  $3,048.28  \n",
       "freq               86          2          2  "
      ]
     },
     "execution_count": 36,
     "metadata": {},
     "output_type": "execute_result"
    }
   ],
   "source": [
    "data_2.describe()"
   ]
  },
  {
   "cell_type": "code",
   "execution_count": 37,
   "metadata": {},
   "outputs": [
    {
     "data": {
      "text/plain": [
       "0\n",
       "Margin             0\n",
       "Labor Cost         0\n",
       "Menu Item Cost     0\n",
       "Net Sales          0\n",
       "Discounts          0\n",
       "Gross Sales        0\n",
       "Voids              0\n",
       "Bill Count         0\n",
       "Day of the Week    0\n",
       "dtype: int64"
      ]
     },
     "execution_count": 37,
     "metadata": {},
     "output_type": "execute_result"
    }
   ],
   "source": [
    "data_2.isnull().sum().sort_values(ascending = False)"
   ]
  },
  {
   "cell_type": "code",
   "execution_count": 38,
   "metadata": {},
   "outputs": [
    {
     "data": {
      "text/plain": [
       "0\n",
       "Margin             0\n",
       "Labor Cost         0\n",
       "Menu Item Cost     0\n",
       "Net Sales          0\n",
       "Discounts          0\n",
       "Gross Sales        0\n",
       "Voids              0\n",
       "Bill Count         0\n",
       "Day of the Week    0\n",
       "dtype: int64"
      ]
     },
     "execution_count": 38,
     "metadata": {},
     "output_type": "execute_result"
    }
   ],
   "source": [
    "data.isnull().sum().sort_values(ascending = False)"
   ]
  },
  {
   "cell_type": "code",
   "execution_count": 39,
   "metadata": {},
   "outputs": [
    {
     "data": {
      "text/plain": [
       "0\n",
       "Margin             0\n",
       "Labor Cost         0\n",
       "Menu Item Cost     0\n",
       "Net Sales          0\n",
       "Discounts          0\n",
       "Gross Sales        0\n",
       "Voids              0\n",
       "Bill Count         0\n",
       "Day of the Week    0\n",
       "dtype: int64"
      ]
     },
     "execution_count": 39,
     "metadata": {},
     "output_type": "execute_result"
    }
   ],
   "source": [
    "data_3.isnull().sum().sort_values(ascending = False)"
   ]
  },
  {
   "cell_type": "code",
   "execution_count": 40,
   "metadata": {},
   "outputs": [
    {
     "data": {
      "text/plain": [
       "0\n",
       "Margin             0\n",
       "Labor Cost         0\n",
       "Menu Item Cost     0\n",
       "Net Sales          0\n",
       "Discounts          0\n",
       "Gross Sales        0\n",
       "Voids              0\n",
       "Bill Count         0\n",
       "Day of the Week    0\n",
       "dtype: int64"
      ]
     },
     "execution_count": 40,
     "metadata": {},
     "output_type": "execute_result"
    }
   ],
   "source": [
    "data_4.isnull().sum().sort_values(ascending = False)"
   ]
  },
  {
   "cell_type": "code",
   "execution_count": 41,
   "metadata": {},
   "outputs": [
    {
     "data": {
      "text/plain": [
       "0\n",
       "Margin             0\n",
       "Labor Cost         0\n",
       "Menu Item Cost     0\n",
       "Net Sales          0\n",
       "Discounts          0\n",
       "Gross Sales        0\n",
       "Voids              0\n",
       "Bill Count         0\n",
       "Day of the Week    0\n",
       "dtype: int64"
      ]
     },
     "execution_count": 41,
     "metadata": {},
     "output_type": "execute_result"
    }
   ],
   "source": [
    "data_5.isnull().sum().sort_values(ascending = False)"
   ]
  },
  {
   "cell_type": "code",
   "execution_count": 42,
   "metadata": {},
   "outputs": [
    {
     "data": {
      "text/html": [
       "<div>\n",
       "<style scoped>\n",
       "    .dataframe tbody tr th:only-of-type {\n",
       "        vertical-align: middle;\n",
       "    }\n",
       "\n",
       "    .dataframe tbody tr th {\n",
       "        vertical-align: top;\n",
       "    }\n",
       "\n",
       "    .dataframe thead th {\n",
       "        text-align: right;\n",
       "    }\n",
       "</style>\n",
       "<table border=\"1\" class=\"dataframe\">\n",
       "  <thead>\n",
       "    <tr style=\"text-align: right;\">\n",
       "      <th></th>\n",
       "      <th>Day of the Week</th>\n",
       "      <th>Bill Count</th>\n",
       "      <th>Voids</th>\n",
       "      <th>Gross Sales</th>\n",
       "      <th>Discounts</th>\n",
       "      <th>Net Sales</th>\n",
       "      <th>Menu Item Cost</th>\n",
       "      <th>Labor Cost</th>\n",
       "      <th>Margin</th>\n",
       "    </tr>\n",
       "    <tr>\n",
       "      <th>Date</th>\n",
       "      <th></th>\n",
       "      <th></th>\n",
       "      <th></th>\n",
       "      <th></th>\n",
       "      <th></th>\n",
       "      <th></th>\n",
       "      <th></th>\n",
       "      <th></th>\n",
       "      <th></th>\n",
       "    </tr>\n",
       "  </thead>\n",
       "  <tbody>\n",
       "    <tr>\n",
       "      <td>2018-07-01</td>\n",
       "      <td>Sunday</td>\n",
       "      <td>94</td>\n",
       "      <td>$268.00</td>\n",
       "      <td>$5,132.03</td>\n",
       "      <td>$0.00</td>\n",
       "      <td>$5,132.03</td>\n",
       "      <td>$0.00</td>\n",
       "      <td>$1,316.44</td>\n",
       "      <td>$3,815.59</td>\n",
       "    </tr>\n",
       "    <tr>\n",
       "      <td>2018-07-02</td>\n",
       "      <td>Monday</td>\n",
       "      <td>75</td>\n",
       "      <td>$154.00</td>\n",
       "      <td>$3,904.01</td>\n",
       "      <td>$0.00</td>\n",
       "      <td>$3,904.01</td>\n",
       "      <td>$0.00</td>\n",
       "      <td>$855.73</td>\n",
       "      <td>$3,048.28</td>\n",
       "    </tr>\n",
       "    <tr>\n",
       "      <td>2018-07-03</td>\n",
       "      <td>Tuesday</td>\n",
       "      <td>72</td>\n",
       "      <td>$61.00</td>\n",
       "      <td>$3,555.00</td>\n",
       "      <td>$0.00</td>\n",
       "      <td>$3,555.00</td>\n",
       "      <td>$0.00</td>\n",
       "      <td>$909.48</td>\n",
       "      <td>$2,645.52</td>\n",
       "    </tr>\n",
       "    <tr>\n",
       "      <td>2018-07-04</td>\n",
       "      <td>Wednesday</td>\n",
       "      <td>66</td>\n",
       "      <td>$115.00</td>\n",
       "      <td>$3,027.00</td>\n",
       "      <td>$6.00</td>\n",
       "      <td>$3,021.00</td>\n",
       "      <td>$0.00</td>\n",
       "      <td>$744.24</td>\n",
       "      <td>$2,276.76</td>\n",
       "    </tr>\n",
       "    <tr>\n",
       "      <td>2018-07-05</td>\n",
       "      <td>Thursday</td>\n",
       "      <td>58</td>\n",
       "      <td>$39.00</td>\n",
       "      <td>$2,809.00</td>\n",
       "      <td>$0.00</td>\n",
       "      <td>$2,809.00</td>\n",
       "      <td>$0.00</td>\n",
       "      <td>$1,060.46</td>\n",
       "      <td>$1,748.54</td>\n",
       "    </tr>\n",
       "    <tr>\n",
       "      <td>...</td>\n",
       "      <td>...</td>\n",
       "      <td>...</td>\n",
       "      <td>...</td>\n",
       "      <td>...</td>\n",
       "      <td>...</td>\n",
       "      <td>...</td>\n",
       "      <td>...</td>\n",
       "      <td>...</td>\n",
       "      <td>...</td>\n",
       "    </tr>\n",
       "    <tr>\n",
       "      <td>2018-12-27</td>\n",
       "      <td>Thursday</td>\n",
       "      <td>76</td>\n",
       "      <td>$89.00</td>\n",
       "      <td>$4,706.00</td>\n",
       "      <td>$6.60</td>\n",
       "      <td>$4,699.40</td>\n",
       "      <td>$114.00</td>\n",
       "      <td>$696.53</td>\n",
       "      <td>$3,888.87</td>\n",
       "    </tr>\n",
       "    <tr>\n",
       "      <td>2018-12-28</td>\n",
       "      <td>Friday</td>\n",
       "      <td>82</td>\n",
       "      <td>$100.00</td>\n",
       "      <td>$4,895.00</td>\n",
       "      <td>$10.00</td>\n",
       "      <td>$4,885.00</td>\n",
       "      <td>$72.00</td>\n",
       "      <td>$833.36</td>\n",
       "      <td>$3,979.64</td>\n",
       "    </tr>\n",
       "    <tr>\n",
       "      <td>2018-12-29</td>\n",
       "      <td>Saturday</td>\n",
       "      <td>111</td>\n",
       "      <td>$124.00</td>\n",
       "      <td>$6,307.00</td>\n",
       "      <td>$0.00</td>\n",
       "      <td>$6,307.00</td>\n",
       "      <td>$212.00</td>\n",
       "      <td>$1,244.73</td>\n",
       "      <td>$4,850.27</td>\n",
       "    </tr>\n",
       "    <tr>\n",
       "      <td>2018-12-30</td>\n",
       "      <td>Sunday</td>\n",
       "      <td>94</td>\n",
       "      <td>$227.00</td>\n",
       "      <td>$5,393.00</td>\n",
       "      <td>$10.10</td>\n",
       "      <td>$5,382.90</td>\n",
       "      <td>$48.00</td>\n",
       "      <td>$1,142.10</td>\n",
       "      <td>$4,192.80</td>\n",
       "    </tr>\n",
       "    <tr>\n",
       "      <td>2018-12-31</td>\n",
       "      <td>Monday</td>\n",
       "      <td>72</td>\n",
       "      <td>$123.00</td>\n",
       "      <td>$4,845.00</td>\n",
       "      <td>$0.00</td>\n",
       "      <td>$4,845.00</td>\n",
       "      <td>$84.00</td>\n",
       "      <td>$1,187.05</td>\n",
       "      <td>$3,573.95</td>\n",
       "    </tr>\n",
       "  </tbody>\n",
       "</table>\n",
       "<p>183 rows × 9 columns</p>\n",
       "</div>"
      ],
      "text/plain": [
       "0          Day of the Week Bill Count    Voids Gross Sales Discounts  \\\n",
       "Date                                                                   \n",
       "2018-07-01          Sunday         94  $268.00   $5,132.03     $0.00   \n",
       "2018-07-02          Monday         75  $154.00   $3,904.01     $0.00   \n",
       "2018-07-03         Tuesday         72   $61.00   $3,555.00     $0.00   \n",
       "2018-07-04       Wednesday         66  $115.00   $3,027.00     $6.00   \n",
       "2018-07-05        Thursday         58   $39.00   $2,809.00     $0.00   \n",
       "...                    ...        ...      ...         ...       ...   \n",
       "2018-12-27        Thursday         76   $89.00   $4,706.00     $6.60   \n",
       "2018-12-28          Friday         82  $100.00   $4,895.00    $10.00   \n",
       "2018-12-29        Saturday        111  $124.00   $6,307.00     $0.00   \n",
       "2018-12-30          Sunday         94  $227.00   $5,393.00    $10.10   \n",
       "2018-12-31          Monday         72  $123.00   $4,845.00     $0.00   \n",
       "\n",
       "0           Net Sales Menu Item Cost Labor Cost     Margin  \n",
       "Date                                                        \n",
       "2018-07-01  $5,132.03          $0.00  $1,316.44  $3,815.59  \n",
       "2018-07-02  $3,904.01          $0.00    $855.73  $3,048.28  \n",
       "2018-07-03  $3,555.00          $0.00    $909.48  $2,645.52  \n",
       "2018-07-04  $3,021.00          $0.00    $744.24  $2,276.76  \n",
       "2018-07-05  $2,809.00          $0.00  $1,060.46  $1,748.54  \n",
       "...               ...            ...        ...        ...  \n",
       "2018-12-27  $4,699.40        $114.00    $696.53  $3,888.87  \n",
       "2018-12-28  $4,885.00         $72.00    $833.36  $3,979.64  \n",
       "2018-12-29  $6,307.00        $212.00  $1,244.73  $4,850.27  \n",
       "2018-12-30  $5,382.90         $48.00  $1,142.10  $4,192.80  \n",
       "2018-12-31  $4,845.00         $84.00  $1,187.05  $3,573.95  \n",
       "\n",
       "[183 rows x 9 columns]"
      ]
     },
     "execution_count": 42,
     "metadata": {},
     "output_type": "execute_result"
    }
   ],
   "source": [
    "data_2"
   ]
  },
  {
   "cell_type": "code",
   "execution_count": 43,
   "metadata": {},
   "outputs": [],
   "source": [
    "merge=pd.concat([data,data_2,data_3,data_4,data_5])"
   ]
  },
  {
   "cell_type": "code",
   "execution_count": 44,
   "metadata": {},
   "outputs": [
    {
     "data": {
      "text/plain": [
       "0\n",
       "Day of the Week    object\n",
       "Bill Count         object\n",
       "Voids              object\n",
       "Gross Sales        object\n",
       "Discounts          object\n",
       "Net Sales          object\n",
       "Menu Item Cost     object\n",
       "Labor Cost         object\n",
       "Margin             object\n",
       "dtype: object"
      ]
     },
     "execution_count": 44,
     "metadata": {},
     "output_type": "execute_result"
    }
   ],
   "source": [
    "merge.dtypes"
   ]
  },
  {
   "cell_type": "code",
   "execution_count": 45,
   "metadata": {},
   "outputs": [],
   "source": [
    "t = [\"Voids\", \"Gross Sales\", \"Discounts\", \"Net Sales\", \"Menu Item Cost\", \"Labor Cost\", \"Margin\"]\n"
   ]
  },
  {
   "cell_type": "code",
   "execution_count": 46,
   "metadata": {},
   "outputs": [],
   "source": [
    "merge[t] = merge[t].replace({'\\$': '', ',': ''}, regex=True).astype(float)"
   ]
  },
  {
   "cell_type": "code",
   "execution_count": 47,
   "metadata": {},
   "outputs": [],
   "source": [
    "merge[\"Bill Count\"] = merge[\"Bill Count\"].astype(int)"
   ]
  },
  {
   "cell_type": "code",
   "execution_count": 48,
   "metadata": {},
   "outputs": [
    {
     "data": {
      "text/html": [
       "<div>\n",
       "<style scoped>\n",
       "    .dataframe tbody tr th:only-of-type {\n",
       "        vertical-align: middle;\n",
       "    }\n",
       "\n",
       "    .dataframe tbody tr th {\n",
       "        vertical-align: top;\n",
       "    }\n",
       "\n",
       "    .dataframe thead th {\n",
       "        text-align: right;\n",
       "    }\n",
       "</style>\n",
       "<table border=\"1\" class=\"dataframe\">\n",
       "  <thead>\n",
       "    <tr style=\"text-align: right;\">\n",
       "      <th></th>\n",
       "      <th>Day of the Week</th>\n",
       "      <th>Bill Count</th>\n",
       "      <th>Voids</th>\n",
       "      <th>Gross Sales</th>\n",
       "      <th>Discounts</th>\n",
       "      <th>Net Sales</th>\n",
       "      <th>Menu Item Cost</th>\n",
       "      <th>Labor Cost</th>\n",
       "      <th>Margin</th>\n",
       "    </tr>\n",
       "    <tr>\n",
       "      <th>Date</th>\n",
       "      <th></th>\n",
       "      <th></th>\n",
       "      <th></th>\n",
       "      <th></th>\n",
       "      <th></th>\n",
       "      <th></th>\n",
       "      <th></th>\n",
       "      <th></th>\n",
       "      <th></th>\n",
       "    </tr>\n",
       "  </thead>\n",
       "  <tbody>\n",
       "    <tr>\n",
       "      <td>2018-06-01</td>\n",
       "      <td>Friday</td>\n",
       "      <td>103</td>\n",
       "      <td>144.0</td>\n",
       "      <td>6432.02</td>\n",
       "      <td>0.00</td>\n",
       "      <td>6432.02</td>\n",
       "      <td>0.0</td>\n",
       "      <td>918.64</td>\n",
       "      <td>5513.38</td>\n",
       "    </tr>\n",
       "    <tr>\n",
       "      <td>2018-06-02</td>\n",
       "      <td>Saturday</td>\n",
       "      <td>142</td>\n",
       "      <td>478.0</td>\n",
       "      <td>7812.00</td>\n",
       "      <td>0.00</td>\n",
       "      <td>7812.00</td>\n",
       "      <td>0.0</td>\n",
       "      <td>1539.21</td>\n",
       "      <td>6272.79</td>\n",
       "    </tr>\n",
       "    <tr>\n",
       "      <td>2018-06-03</td>\n",
       "      <td>Sunday</td>\n",
       "      <td>110</td>\n",
       "      <td>185.0</td>\n",
       "      <td>5772.00</td>\n",
       "      <td>52.75</td>\n",
       "      <td>5719.25</td>\n",
       "      <td>0.0</td>\n",
       "      <td>1249.21</td>\n",
       "      <td>4470.04</td>\n",
       "    </tr>\n",
       "    <tr>\n",
       "      <td>2018-06-04</td>\n",
       "      <td>Monday</td>\n",
       "      <td>108</td>\n",
       "      <td>28.0</td>\n",
       "      <td>5085.00</td>\n",
       "      <td>0.00</td>\n",
       "      <td>5085.00</td>\n",
       "      <td>0.0</td>\n",
       "      <td>1252.86</td>\n",
       "      <td>3832.14</td>\n",
       "    </tr>\n",
       "    <tr>\n",
       "      <td>2018-06-05</td>\n",
       "      <td>Tuesday</td>\n",
       "      <td>68</td>\n",
       "      <td>134.0</td>\n",
       "      <td>4568.00</td>\n",
       "      <td>18.00</td>\n",
       "      <td>4550.00</td>\n",
       "      <td>0.0</td>\n",
       "      <td>842.49</td>\n",
       "      <td>3707.51</td>\n",
       "    </tr>\n",
       "    <tr>\n",
       "      <td>...</td>\n",
       "      <td>...</td>\n",
       "      <td>...</td>\n",
       "      <td>...</td>\n",
       "      <td>...</td>\n",
       "      <td>...</td>\n",
       "      <td>...</td>\n",
       "      <td>...</td>\n",
       "      <td>...</td>\n",
       "      <td>...</td>\n",
       "    </tr>\n",
       "    <tr>\n",
       "      <td>2020-02-12</td>\n",
       "      <td>Wednesday</td>\n",
       "      <td>75</td>\n",
       "      <td>0.0</td>\n",
       "      <td>4043.00</td>\n",
       "      <td>42.00</td>\n",
       "      <td>4001.00</td>\n",
       "      <td>124.0</td>\n",
       "      <td>1341.20</td>\n",
       "      <td>2535.80</td>\n",
       "    </tr>\n",
       "    <tr>\n",
       "      <td>2020-02-13</td>\n",
       "      <td>Thursday</td>\n",
       "      <td>81</td>\n",
       "      <td>50.0</td>\n",
       "      <td>4754.50</td>\n",
       "      <td>0.00</td>\n",
       "      <td>4754.50</td>\n",
       "      <td>36.0</td>\n",
       "      <td>1654.26</td>\n",
       "      <td>3064.24</td>\n",
       "    </tr>\n",
       "    <tr>\n",
       "      <td>2020-02-14</td>\n",
       "      <td>Friday</td>\n",
       "      <td>162</td>\n",
       "      <td>93.0</td>\n",
       "      <td>10207.01</td>\n",
       "      <td>11.50</td>\n",
       "      <td>10195.51</td>\n",
       "      <td>350.0</td>\n",
       "      <td>2271.43</td>\n",
       "      <td>7574.08</td>\n",
       "    </tr>\n",
       "    <tr>\n",
       "      <td>2020-02-15</td>\n",
       "      <td>Saturday</td>\n",
       "      <td>135</td>\n",
       "      <td>146.0</td>\n",
       "      <td>8752.00</td>\n",
       "      <td>0.00</td>\n",
       "      <td>8752.00</td>\n",
       "      <td>94.0</td>\n",
       "      <td>2348.01</td>\n",
       "      <td>6309.99</td>\n",
       "    </tr>\n",
       "    <tr>\n",
       "      <td>2020-02-16</td>\n",
       "      <td>Sunday</td>\n",
       "      <td>113</td>\n",
       "      <td>148.0</td>\n",
       "      <td>6465.00</td>\n",
       "      <td>19.80</td>\n",
       "      <td>6445.20</td>\n",
       "      <td>370.0</td>\n",
       "      <td>2278.74</td>\n",
       "      <td>3796.46</td>\n",
       "    </tr>\n",
       "  </tbody>\n",
       "</table>\n",
       "<p>621 rows × 9 columns</p>\n",
       "</div>"
      ],
      "text/plain": [
       "0          Day of the Week  Bill Count  Voids  Gross Sales  Discounts  \\\n",
       "Date                                                                    \n",
       "2018-06-01          Friday         103  144.0      6432.02       0.00   \n",
       "2018-06-02        Saturday         142  478.0      7812.00       0.00   \n",
       "2018-06-03          Sunday         110  185.0      5772.00      52.75   \n",
       "2018-06-04          Monday         108   28.0      5085.00       0.00   \n",
       "2018-06-05         Tuesday          68  134.0      4568.00      18.00   \n",
       "...                    ...         ...    ...          ...        ...   \n",
       "2020-02-12       Wednesday          75    0.0      4043.00      42.00   \n",
       "2020-02-13        Thursday          81   50.0      4754.50       0.00   \n",
       "2020-02-14          Friday         162   93.0     10207.01      11.50   \n",
       "2020-02-15        Saturday         135  146.0      8752.00       0.00   \n",
       "2020-02-16          Sunday         113  148.0      6465.00      19.80   \n",
       "\n",
       "0           Net Sales  Menu Item Cost  Labor Cost   Margin  \n",
       "Date                                                        \n",
       "2018-06-01    6432.02             0.0      918.64  5513.38  \n",
       "2018-06-02    7812.00             0.0     1539.21  6272.79  \n",
       "2018-06-03    5719.25             0.0     1249.21  4470.04  \n",
       "2018-06-04    5085.00             0.0     1252.86  3832.14  \n",
       "2018-06-05    4550.00             0.0      842.49  3707.51  \n",
       "...               ...             ...         ...      ...  \n",
       "2020-02-12    4001.00           124.0     1341.20  2535.80  \n",
       "2020-02-13    4754.50            36.0     1654.26  3064.24  \n",
       "2020-02-14   10195.51           350.0     2271.43  7574.08  \n",
       "2020-02-15    8752.00            94.0     2348.01  6309.99  \n",
       "2020-02-16    6445.20           370.0     2278.74  3796.46  \n",
       "\n",
       "[621 rows x 9 columns]"
      ]
     },
     "execution_count": 48,
     "metadata": {},
     "output_type": "execute_result"
    }
   ],
   "source": [
    "merge"
   ]
  },
  {
   "cell_type": "code",
   "execution_count": 49,
   "metadata": {
    "scrolled": true
   },
   "outputs": [],
   "source": [
    "merge = pd.concat([merge, pd.get_dummies(merge['Day of the Week'])], axis=1)"
   ]
  },
  {
   "cell_type": "code",
   "execution_count": 50,
   "metadata": {},
   "outputs": [],
   "source": [
    "merge.drop('Day of the Week', axis = 1, inplace = True)"
   ]
  },
  {
   "cell_type": "code",
   "execution_count": 51,
   "metadata": {},
   "outputs": [],
   "source": [
    "merge.sort_index(inplace = True)"
   ]
  },
  {
   "cell_type": "code",
   "execution_count": 52,
   "metadata": {},
   "outputs": [],
   "source": [
    "x_cols = [\"Voids\", \"Discounts\", \"Net Sales\", \"Menu Item Cost\", \"Labor Cost\", \"Margin\", \"Bill Count\",\n",
    "         \"Friday\", \"Monday\", \"Saturday\", \"Sunday\", \"Thursday\", \"Tuesday\", \"Wednesday\"]"
   ]
  },
  {
   "cell_type": "code",
   "execution_count": 53,
   "metadata": {},
   "outputs": [],
   "source": [
    "\n",
    "# X_train, X_test, y_train, y_test = train_test_split(merge[x_cols],\n",
    "#                                                    merge['Gross Sales'],\n",
    "#                                                     shuffle = False)"
   ]
  },
  {
   "cell_type": "code",
   "execution_count": 54,
   "metadata": {},
   "outputs": [],
   "source": [
    "def plot_series(df, cols=None, title='Title', xlab=None, ylab=None, steps=1):\n",
    "    \n",
    "    # Set figure size to be (18, 9).\n",
    "    plt.figure(figsize=(18,9))\n",
    "    \n",
    "    # Iterate through each column name.\n",
    "    for col in cols:\n",
    "            \n",
    "        # Generate a line plot of the column name.\n",
    "        # You only have to specify Y, since our\n",
    "        # index will be a datetime index.\n",
    "        plt.plot(df[col])\n",
    "        \n",
    "    # Generate title and labels.\n",
    "    plt.title(title, fontsize=26)\n",
    "    plt.xlabel(xlab, fontsize=20)\n",
    "    plt.ylabel(ylab, fontsize=20)\n",
    "    \n",
    "    # Enlarge tick marks.\n",
    "    plt.yticks(fontsize=18)\n",
    "    plt.xticks(df.index[0::steps], fontsize=18);"
   ]
  },
  {
   "cell_type": "code",
   "execution_count": 55,
   "metadata": {},
   "outputs": [
    {
     "data": {
      "text/plain": [
       "4563.761674718196"
      ]
     },
     "execution_count": 55,
     "metadata": {},
     "output_type": "execute_result"
    }
   ],
   "source": [
    "merge['Gross Sales'].mean()"
   ]
  },
  {
   "cell_type": "code",
   "execution_count": 56,
   "metadata": {},
   "outputs": [
    {
     "data": {
      "image/png": "[encoded data removed]",
      "text/plain": [
       "<Figure size 1296x648 with 1 Axes>"
      ]
     },
     "metadata": {
      "needs_background": "light"
     },
     "output_type": "display_data"
    }
   ],
   "source": [
    "plot_series(merge, ['Gross Sales'], title = \"Monthly Ridership (in thousands)\", steps= 100)"
   ]
  },
  {
   "cell_type": "code",
   "execution_count": 57,
   "metadata": {},
   "outputs": [
    {
     "data": {
      "text/plain": [
       "(-4.413893331869137,\n",
       " 0.0002804708497872855,\n",
       " 14,\n",
       " 606,\n",
       " {'1%': -3.4411869900487906,\n",
       "  '5%': -2.866321181236609,\n",
       "  '10%': -2.569316262893616},\n",
       " 9994.277564875969)"
      ]
     },
     "execution_count": 57,
     "metadata": {},
     "output_type": "execute_result"
    }
   ],
   "source": [
    "# Import Augmented Dickey-Fuller test.\n",
    "from statsmodels.tsa.stattools import adfuller\n",
    "\n",
    "# Run ADF test on original (non-differenced!) data.\n",
    "adfuller(merge['Gross Sales'])"
   ]
  },
  {
   "cell_type": "code",
   "execution_count": 58,
   "metadata": {},
   "outputs": [],
   "source": [
    "# Code written by Joseph Nelson.\n",
    "\n",
    "def interpret_dftest(dftest):\n",
    "    dfoutput = pd.Series(dftest[0:2], index=['Test Statistic','p-value'])\n",
    "    return dfoutput"
   ]
  },
  {
   "cell_type": "code",
   "execution_count": 59,
   "metadata": {},
   "outputs": [
    {
     "data": {
      "text/plain": [
       "Test Statistic   -4.413893\n",
       "p-value           0.000280\n",
       "dtype: float64"
      ]
     },
     "execution_count": 59,
     "metadata": {},
     "output_type": "execute_result"
    }
   ],
   "source": [
    "# Run ADF test on original (non-differenced!) data.\n",
    "interpret_dftest(adfuller(merge['Gross Sales']))"
   ]
  },
  {
   "cell_type": "code",
   "execution_count": 60,
   "metadata": {},
   "outputs": [],
   "source": [
    "merge.index = pd.DatetimeIndex(merge.index).to_period('d')"
   ]
  },
  {
   "cell_type": "code",
   "execution_count": 61,
   "metadata": {},
   "outputs": [
    {
     "data": {
      "text/plain": [
       "(621, 15)"
      ]
     },
     "execution_count": 61,
     "metadata": {},
     "output_type": "execute_result"
    }
   ],
   "source": [
    "merge.shape"
   ]
  },
  {
   "cell_type": "code",
   "execution_count": 62,
   "metadata": {},
   "outputs": [
    {
     "data": {
      "text/plain": [
       "217.35"
      ]
     },
     "execution_count": 62,
     "metadata": {},
     "output_type": "execute_result"
    }
   ],
   "source": [
    "621 *.35"
   ]
  },
  {
   "cell_type": "code",
   "execution_count": 63,
   "metadata": {},
   "outputs": [],
   "source": [
    "X_test_exo = merge.iloc[:232,:]"
   ]
  },
  {
   "cell_type": "code",
   "execution_count": 64,
   "metadata": {},
   "outputs": [
    {
     "data": {
      "text/html": [
       "<div>\n",
       "<style scoped>\n",
       "    .dataframe tbody tr th:only-of-type {\n",
       "        vertical-align: middle;\n",
       "    }\n",
       "\n",
       "    .dataframe tbody tr th {\n",
       "        vertical-align: top;\n",
       "    }\n",
       "\n",
       "    .dataframe thead th {\n",
       "        text-align: right;\n",
       "    }\n",
       "</style>\n",
       "<table border=\"1\" class=\"dataframe\">\n",
       "  <thead>\n",
       "    <tr style=\"text-align: right;\">\n",
       "      <th></th>\n",
       "      <th>Bill Count</th>\n",
       "      <th>Voids</th>\n",
       "      <th>Gross Sales</th>\n",
       "      <th>Discounts</th>\n",
       "      <th>Net Sales</th>\n",
       "      <th>Menu Item Cost</th>\n",
       "      <th>Labor Cost</th>\n",
       "      <th>Margin</th>\n",
       "      <th>Friday</th>\n",
       "      <th>Monday</th>\n",
       "      <th>Saturday</th>\n",
       "      <th>Sunday</th>\n",
       "      <th>Thursday</th>\n",
       "      <th>Tuesday</th>\n",
       "      <th>Wednesday</th>\n",
       "    </tr>\n",
       "    <tr>\n",
       "      <th>Date</th>\n",
       "      <th></th>\n",
       "      <th></th>\n",
       "      <th></th>\n",
       "      <th></th>\n",
       "      <th></th>\n",
       "      <th></th>\n",
       "      <th></th>\n",
       "      <th></th>\n",
       "      <th></th>\n",
       "      <th></th>\n",
       "      <th></th>\n",
       "      <th></th>\n",
       "      <th></th>\n",
       "      <th></th>\n",
       "      <th></th>\n",
       "    </tr>\n",
       "  </thead>\n",
       "  <tbody>\n",
       "    <tr>\n",
       "      <td>2020-02-12</td>\n",
       "      <td>75</td>\n",
       "      <td>0.0</td>\n",
       "      <td>4043.00</td>\n",
       "      <td>42.0</td>\n",
       "      <td>4001.00</td>\n",
       "      <td>124.0</td>\n",
       "      <td>1341.20</td>\n",
       "      <td>2535.80</td>\n",
       "      <td>0</td>\n",
       "      <td>0</td>\n",
       "      <td>0</td>\n",
       "      <td>0</td>\n",
       "      <td>0</td>\n",
       "      <td>0</td>\n",
       "      <td>1</td>\n",
       "    </tr>\n",
       "    <tr>\n",
       "      <td>2020-02-13</td>\n",
       "      <td>81</td>\n",
       "      <td>50.0</td>\n",
       "      <td>4754.50</td>\n",
       "      <td>0.0</td>\n",
       "      <td>4754.50</td>\n",
       "      <td>36.0</td>\n",
       "      <td>1654.26</td>\n",
       "      <td>3064.24</td>\n",
       "      <td>0</td>\n",
       "      <td>0</td>\n",
       "      <td>0</td>\n",
       "      <td>0</td>\n",
       "      <td>1</td>\n",
       "      <td>0</td>\n",
       "      <td>0</td>\n",
       "    </tr>\n",
       "    <tr>\n",
       "      <td>2020-02-14</td>\n",
       "      <td>162</td>\n",
       "      <td>93.0</td>\n",
       "      <td>10207.01</td>\n",
       "      <td>11.5</td>\n",
       "      <td>10195.51</td>\n",
       "      <td>350.0</td>\n",
       "      <td>2271.43</td>\n",
       "      <td>7574.08</td>\n",
       "      <td>1</td>\n",
       "      <td>0</td>\n",
       "      <td>0</td>\n",
       "      <td>0</td>\n",
       "      <td>0</td>\n",
       "      <td>0</td>\n",
       "      <td>0</td>\n",
       "    </tr>\n",
       "    <tr>\n",
       "      <td>2020-02-15</td>\n",
       "      <td>135</td>\n",
       "      <td>146.0</td>\n",
       "      <td>8752.00</td>\n",
       "      <td>0.0</td>\n",
       "      <td>8752.00</td>\n",
       "      <td>94.0</td>\n",
       "      <td>2348.01</td>\n",
       "      <td>6309.99</td>\n",
       "      <td>0</td>\n",
       "      <td>0</td>\n",
       "      <td>1</td>\n",
       "      <td>0</td>\n",
       "      <td>0</td>\n",
       "      <td>0</td>\n",
       "      <td>0</td>\n",
       "    </tr>\n",
       "    <tr>\n",
       "      <td>2020-02-16</td>\n",
       "      <td>113</td>\n",
       "      <td>148.0</td>\n",
       "      <td>6465.00</td>\n",
       "      <td>19.8</td>\n",
       "      <td>6445.20</td>\n",
       "      <td>370.0</td>\n",
       "      <td>2278.74</td>\n",
       "      <td>3796.46</td>\n",
       "      <td>0</td>\n",
       "      <td>0</td>\n",
       "      <td>0</td>\n",
       "      <td>1</td>\n",
       "      <td>0</td>\n",
       "      <td>0</td>\n",
       "      <td>0</td>\n",
       "    </tr>\n",
       "  </tbody>\n",
       "</table>\n",
       "</div>"
      ],
      "text/plain": [
       "            Bill Count  Voids  Gross Sales  Discounts  Net Sales  \\\n",
       "Date                                                               \n",
       "2020-02-12          75    0.0      4043.00       42.0    4001.00   \n",
       "2020-02-13          81   50.0      4754.50        0.0    4754.50   \n",
       "2020-02-14         162   93.0     10207.01       11.5   10195.51   \n",
       "2020-02-15         135  146.0      8752.00        0.0    8752.00   \n",
       "2020-02-16         113  148.0      6465.00       19.8    6445.20   \n",
       "\n",
       "            Menu Item Cost  Labor Cost   Margin  Friday  Monday  Saturday  \\\n",
       "Date                                                                        \n",
       "2020-02-12           124.0     1341.20  2535.80       0       0         0   \n",
       "2020-02-13            36.0     1654.26  3064.24       0       0         0   \n",
       "2020-02-14           350.0     2271.43  7574.08       1       0         0   \n",
       "2020-02-15            94.0     2348.01  6309.99       0       0         1   \n",
       "2020-02-16           370.0     2278.74  3796.46       0       0         0   \n",
       "\n",
       "            Sunday  Thursday  Tuesday  Wednesday  \n",
       "Date                                              \n",
       "2020-02-12       0         0        0          1  \n",
       "2020-02-13       0         1        0          0  \n",
       "2020-02-14       0         0        0          0  \n",
       "2020-02-15       0         0        0          0  \n",
       "2020-02-16       1         0        0          0  "
      ]
     },
     "execution_count": 64,
     "metadata": {},
     "output_type": "execute_result"
    }
   ],
   "source": [
    "merge.tail()"
   ]
  },
  {
   "cell_type": "code",
   "execution_count": 65,
   "metadata": {},
   "outputs": [
    {
     "data": {
      "text/plain": [
       "(232, 15)"
      ]
     },
     "execution_count": 65,
     "metadata": {},
     "output_type": "execute_result"
    }
   ],
   "source": [
    "X_test_exo.shape"
   ]
  },
  {
   "cell_type": "code",
   "execution_count": 66,
   "metadata": {},
   "outputs": [],
   "source": [
    "X_train_exo = merge.iloc[:404:]"
   ]
  },
  {
   "cell_type": "code",
   "execution_count": 67,
   "metadata": {},
   "outputs": [],
   "source": [
    "X_train = X_train_exo.drop(\"Gross Sales\", axis = 1)"
   ]
  },
  {
   "cell_type": "code",
   "execution_count": 68,
   "metadata": {},
   "outputs": [],
   "source": [
    "X_test = X_test_exo.drop(\"Gross Sales\", axis = 1)"
   ]
  },
  {
   "cell_type": "code",
   "execution_count": 69,
   "metadata": {},
   "outputs": [],
   "source": [
    "\n",
    "y_train = X_train_exo['Gross Sales']"
   ]
  },
  {
   "cell_type": "code",
   "execution_count": 70,
   "metadata": {},
   "outputs": [
    {
     "data": {
      "text/plain": [
       "(232, 14)"
      ]
     },
     "execution_count": 70,
     "metadata": {},
     "output_type": "execute_result"
    }
   ],
   "source": [
    "X_test.shape"
   ]
  },
  {
   "cell_type": "code",
   "execution_count": 71,
   "metadata": {},
   "outputs": [],
   "source": [
    "y_test = X_test_exo['Gross Sales']"
   ]
  },
  {
   "cell_type": "code",
   "execution_count": 72,
   "metadata": {},
   "outputs": [
    {
     "data": {
      "text/plain": [
       "Date\n",
       "2018-06-01    6432.02\n",
       "2018-06-02    7812.00\n",
       "2018-06-03    5772.00\n",
       "2018-06-04    5085.00\n",
       "2018-06-05    4568.00\n",
       "               ...   \n",
       "2019-07-06    4645.00\n",
       "2019-07-07    4198.00\n",
       "2019-07-08    2704.00\n",
       "2019-07-09    2683.00\n",
       "2019-07-10    4178.00\n",
       "Freq: D, Name: Gross Sales, Length: 404, dtype: float64"
      ]
     },
     "execution_count": 72,
     "metadata": {},
     "output_type": "execute_result"
    }
   ],
   "source": [
    "y_train"
   ]
  },
  {
   "cell_type": "code",
   "execution_count": 73,
   "metadata": {},
   "outputs": [
    {
     "data": {
      "text/plain": [
       "(232, 14)"
      ]
     },
     "execution_count": 73,
     "metadata": {},
     "output_type": "execute_result"
    }
   ],
   "source": [
    "X_test.shape"
   ]
  },
  {
   "cell_type": "code",
   "execution_count": 74,
   "metadata": {},
   "outputs": [
    {
     "data": {
      "text/html": [
       "<div>\n",
       "<style scoped>\n",
       "    .dataframe tbody tr th:only-of-type {\n",
       "        vertical-align: middle;\n",
       "    }\n",
       "\n",
       "    .dataframe tbody tr th {\n",
       "        vertical-align: top;\n",
       "    }\n",
       "\n",
       "    .dataframe thead th {\n",
       "        text-align: right;\n",
       "    }\n",
       "</style>\n",
       "<table border=\"1\" class=\"dataframe\">\n",
       "  <thead>\n",
       "    <tr style=\"text-align: right;\">\n",
       "      <th></th>\n",
       "      <th>Bill Count</th>\n",
       "      <th>Voids</th>\n",
       "      <th>Discounts</th>\n",
       "      <th>Net Sales</th>\n",
       "      <th>Menu Item Cost</th>\n",
       "      <th>Labor Cost</th>\n",
       "      <th>Margin</th>\n",
       "      <th>Friday</th>\n",
       "      <th>Monday</th>\n",
       "      <th>Saturday</th>\n",
       "      <th>Sunday</th>\n",
       "      <th>Thursday</th>\n",
       "      <th>Tuesday</th>\n",
       "      <th>Wednesday</th>\n",
       "    </tr>\n",
       "    <tr>\n",
       "      <th>Date</th>\n",
       "      <th></th>\n",
       "      <th></th>\n",
       "      <th></th>\n",
       "      <th></th>\n",
       "      <th></th>\n",
       "      <th></th>\n",
       "      <th></th>\n",
       "      <th></th>\n",
       "      <th></th>\n",
       "      <th></th>\n",
       "      <th></th>\n",
       "      <th></th>\n",
       "      <th></th>\n",
       "      <th></th>\n",
       "    </tr>\n",
       "  </thead>\n",
       "  <tbody>\n",
       "    <tr>\n",
       "      <td>2019-07-06</td>\n",
       "      <td>87</td>\n",
       "      <td>34.0</td>\n",
       "      <td>22.0</td>\n",
       "      <td>4623.0</td>\n",
       "      <td>48.0</td>\n",
       "      <td>1257.62</td>\n",
       "      <td>3317.38</td>\n",
       "      <td>0</td>\n",
       "      <td>0</td>\n",
       "      <td>1</td>\n",
       "      <td>0</td>\n",
       "      <td>0</td>\n",
       "      <td>0</td>\n",
       "      <td>0</td>\n",
       "    </tr>\n",
       "    <tr>\n",
       "      <td>2019-07-07</td>\n",
       "      <td>90</td>\n",
       "      <td>110.0</td>\n",
       "      <td>9.0</td>\n",
       "      <td>4189.0</td>\n",
       "      <td>0.0</td>\n",
       "      <td>1148.75</td>\n",
       "      <td>3040.25</td>\n",
       "      <td>0</td>\n",
       "      <td>0</td>\n",
       "      <td>0</td>\n",
       "      <td>1</td>\n",
       "      <td>0</td>\n",
       "      <td>0</td>\n",
       "      <td>0</td>\n",
       "    </tr>\n",
       "    <tr>\n",
       "      <td>2019-07-08</td>\n",
       "      <td>54</td>\n",
       "      <td>0.0</td>\n",
       "      <td>54.5</td>\n",
       "      <td>2649.5</td>\n",
       "      <td>0.0</td>\n",
       "      <td>912.43</td>\n",
       "      <td>1737.07</td>\n",
       "      <td>0</td>\n",
       "      <td>1</td>\n",
       "      <td>0</td>\n",
       "      <td>0</td>\n",
       "      <td>0</td>\n",
       "      <td>0</td>\n",
       "      <td>0</td>\n",
       "    </tr>\n",
       "    <tr>\n",
       "      <td>2019-07-09</td>\n",
       "      <td>59</td>\n",
       "      <td>11.0</td>\n",
       "      <td>63.5</td>\n",
       "      <td>2619.5</td>\n",
       "      <td>228.0</td>\n",
       "      <td>688.60</td>\n",
       "      <td>1702.90</td>\n",
       "      <td>0</td>\n",
       "      <td>0</td>\n",
       "      <td>0</td>\n",
       "      <td>0</td>\n",
       "      <td>0</td>\n",
       "      <td>1</td>\n",
       "      <td>0</td>\n",
       "    </tr>\n",
       "    <tr>\n",
       "      <td>2019-07-10</td>\n",
       "      <td>88</td>\n",
       "      <td>93.0</td>\n",
       "      <td>31.5</td>\n",
       "      <td>4146.5</td>\n",
       "      <td>96.0</td>\n",
       "      <td>1043.75</td>\n",
       "      <td>3006.75</td>\n",
       "      <td>0</td>\n",
       "      <td>0</td>\n",
       "      <td>0</td>\n",
       "      <td>0</td>\n",
       "      <td>0</td>\n",
       "      <td>0</td>\n",
       "      <td>1</td>\n",
       "    </tr>\n",
       "  </tbody>\n",
       "</table>\n",
       "</div>"
      ],
      "text/plain": [
       "            Bill Count  Voids  Discounts  Net Sales  Menu Item Cost  \\\n",
       "Date                                                                  \n",
       "2019-07-06          87   34.0       22.0     4623.0            48.0   \n",
       "2019-07-07          90  110.0        9.0     4189.0             0.0   \n",
       "2019-07-08          54    0.0       54.5     2649.5             0.0   \n",
       "2019-07-09          59   11.0       63.5     2619.5           228.0   \n",
       "2019-07-10          88   93.0       31.5     4146.5            96.0   \n",
       "\n",
       "            Labor Cost   Margin  Friday  Monday  Saturday  Sunday  Thursday  \\\n",
       "Date                                                                          \n",
       "2019-07-06     1257.62  3317.38       0       0         1       0         0   \n",
       "2019-07-07     1148.75  3040.25       0       0         0       1         0   \n",
       "2019-07-08      912.43  1737.07       0       1         0       0         0   \n",
       "2019-07-09      688.60  1702.90       0       0         0       0         0   \n",
       "2019-07-10     1043.75  3006.75       0       0         0       0         0   \n",
       "\n",
       "            Tuesday  Wednesday  \n",
       "Date                            \n",
       "2019-07-06        0          0  \n",
       "2019-07-07        0          0  \n",
       "2019-07-08        0          0  \n",
       "2019-07-09        1          0  \n",
       "2019-07-10        0          1  "
      ]
     },
     "execution_count": 74,
     "metadata": {},
     "output_type": "execute_result"
    }
   ],
   "source": [
    "X_train.tail()"
   ]
  },
  {
   "cell_type": "code",
   "execution_count": 75,
   "metadata": {},
   "outputs": [],
   "source": [
    "import itertools"
   ]
  },
  {
   "cell_type": "code",
   "execution_count": 76,
   "metadata": {},
   "outputs": [],
   "source": [
    "# Define the p, d and q parameters to take any value between 0 and 2\n",
    "p = d = q = range(0, 2)\n",
    "\n",
    "# Generate all different combinations of p, q and q triplets\n",
    "pdq = list(itertools.product(p, d, q))\n",
    "\n",
    "# Generate all different combinations of seasonal p, q and q triplets\n",
    "seasonal_pdq = [(x[0], x[1], x[2], 12) for x in list(itertools.product(p, d, q))]"
   ]
  },
  {
   "cell_type": "code",
   "execution_count": 77,
   "metadata": {},
   "outputs": [
    {
     "name": "stdout",
     "output_type": "stream",
     "text": [
      "ARIMA(0, 0, 0)x(0, 0, 0, 12)12 - AIC:7989.702069938601\n",
      "ARIMA(0, 0, 0)x(0, 0, 1, 12)12 - AIC:7463.397401631959\n",
      "ARIMA(0, 0, 0)x(0, 1, 0, 12)12 - AIC:7274.642726553804\n",
      "ARIMA(0, 0, 0)x(0, 1, 1, 12)12 - AIC:6860.0793481772325\n",
      "ARIMA(0, 0, 0)x(1, 0, 0, 12)12 - AIC:7260.1466576418225\n",
      "ARIMA(0, 0, 0)x(1, 0, 1, 12)12 - AIC:7091.125153149966\n",
      "ARIMA(0, 0, 0)x(1, 1, 0, 12)12 - AIC:7017.342987578313\n",
      "ARIMA(0, 0, 0)x(1, 1, 1, 12)12 - AIC:6766.319566697615\n",
      "ARIMA(0, 0, 1)x(0, 0, 0, 12)12 - AIC:7747.191675860482\n",
      "ARIMA(0, 0, 1)x(0, 0, 1, 12)12 - AIC:7446.007105501198\n",
      "ARIMA(0, 0, 1)x(0, 1, 0, 12)12 - AIC:7127.405912019112\n",
      "ARIMA(0, 0, 1)x(0, 1, 1, 12)12 - AIC:6648.291104601561\n",
      "ARIMA(0, 0, 1)x(1, 0, 0, 12)12 - AIC:7454.961710114107\n",
      "ARIMA(0, 0, 1)x(1, 0, 1, 12)12 - AIC:6901.881473996436\n",
      "ARIMA(0, 0, 1)x(1, 1, 0, 12)12 - AIC:6890.455762075684\n",
      "ARIMA(0, 0, 1)x(1, 1, 1, 12)12 - AIC:6644.501807498554\n",
      "ARIMA(0, 1, 0)x(0, 0, 0, 12)12 - AIC:7178.999621659536\n",
      "ARIMA(0, 1, 0)x(0, 0, 1, 12)12 - AIC:6924.191953280626\n",
      "ARIMA(0, 1, 0)x(0, 1, 0, 12)12 - AIC:7327.7993982389535\n",
      "ARIMA(0, 1, 0)x(0, 1, 1, 12)12 - AIC:6782.689855906143\n",
      "ARIMA(0, 1, 0)x(1, 0, 0, 12)12 - AIC:6959.516690804332\n",
      "ARIMA(0, 1, 0)x(1, 0, 1, 12)12 - AIC:6921.161569542328\n",
      "ARIMA(0, 1, 0)x(1, 1, 0, 12)12 - AIC:7015.449734101682\n",
      "ARIMA(0, 1, 0)x(1, 1, 1, 12)12 - AIC:6759.876564134413\n",
      "ARIMA(0, 1, 1)x(0, 0, 0, 12)12 - AIC:7161.545092770402\n",
      "ARIMA(0, 1, 1)x(0, 0, 1, 12)12 - AIC:6902.575757346508\n",
      "ARIMA(0, 1, 1)x(0, 1, 0, 12)12 - AIC:7306.0223839406735\n",
      "ARIMA(0, 1, 1)x(0, 1, 1, 12)12 - AIC:6728.9988793832335\n",
      "ARIMA(0, 1, 1)x(1, 0, 0, 12)12 - AIC:6961.992197867417\n",
      "ARIMA(0, 1, 1)x(1, 0, 1, 12)12 - AIC:6906.0028019469955\n",
      "ARIMA(0, 1, 1)x(1, 1, 0, 12)12 - AIC:6999.554391869671\n",
      "ARIMA(0, 1, 1)x(1, 1, 1, 12)12 - AIC:6714.159320645476\n",
      "ARIMA(1, 0, 0)x(0, 0, 0, 12)12 - AIC:7183.610677210684\n",
      "ARIMA(1, 0, 0)x(0, 0, 1, 12)12 - AIC:6935.471941622633\n",
      "ARIMA(1, 0, 0)x(0, 1, 0, 12)12 - AIC:7208.585931684211\n",
      "ARIMA(1, 0, 0)x(0, 1, 1, 12)12 - AIC:6689.9926088626935\n",
      "ARIMA(1, 0, 0)x(1, 0, 0, 12)12 - AIC:6953.031672433401\n",
      "ARIMA(1, 0, 0)x(1, 0, 1, 12)12 - AIC:6936.091534031314\n",
      "ARIMA(1, 0, 0)x(1, 1, 0, 12)12 - AIC:6904.778939236625\n",
      "ARIMA(1, 0, 0)x(1, 1, 1, 12)12 - AIC:6676.579781777666\n",
      "ARIMA(1, 0, 1)x(0, 0, 0, 12)12 - AIC:7163.413472799488\n",
      "ARIMA(1, 0, 1)x(0, 0, 1, 12)12 - AIC:6919.496223503935\n",
      "ARIMA(1, 0, 1)x(0, 1, 0, 12)12 - AIC:7127.952233467888\n",
      "ARIMA(1, 0, 1)x(0, 1, 1, 12)12 - AIC:6644.63772924634\n",
      "ARIMA(1, 0, 1)x(1, 0, 0, 12)12 - AIC:6953.462024202653\n",
      "ARIMA(1, 0, 1)x(1, 0, 1, 12)12 - AIC:6897.328768293575\n",
      "ARIMA(1, 0, 1)x(1, 1, 0, 12)12 - AIC:6844.157840442262\n",
      "ARIMA(1, 0, 1)x(1, 1, 1, 12)12 - AIC:6638.187697591549\n",
      "ARIMA(1, 1, 0)x(0, 0, 0, 12)12 - AIC:7180.399861672083\n",
      "ARIMA(1, 1, 0)x(0, 0, 1, 12)12 - AIC:6923.406039714706\n",
      "ARIMA(1, 1, 0)x(0, 1, 0, 12)12 - AIC:7328.5643412152085\n",
      "ARIMA(1, 1, 0)x(0, 1, 1, 12)12 - AIC:6783.99549812411\n",
      "ARIMA(1, 1, 0)x(1, 0, 0, 12)12 - AIC:6945.135251718382\n",
      "ARIMA(1, 1, 0)x(1, 0, 1, 12)12 - AIC:6923.764884699305\n",
      "ARIMA(1, 1, 0)x(1, 1, 0, 12)12 - AIC:6988.240143893388\n",
      "ARIMA(1, 1, 0)x(1, 1, 1, 12)12 - AIC:6761.45549069342\n",
      "ARIMA(1, 1, 1)x(0, 0, 0, 12)12 - AIC:7056.372439225321\n",
      "ARIMA(1, 1, 1)x(0, 0, 1, 12)12 - AIC:6782.579217566052\n",
      "ARIMA(1, 1, 1)x(0, 1, 0, 12)12 - AIC:7199.812336794306\n",
      "ARIMA(1, 1, 1)x(0, 1, 1, 12)12 - AIC:6656.493007262783\n",
      "ARIMA(1, 1, 1)x(1, 0, 0, 12)12 - AIC:6846.8567623555555\n",
      "ARIMA(1, 1, 1)x(1, 0, 1, 12)12 - AIC:6810.77846407751\n",
      "ARIMA(1, 1, 1)x(1, 1, 0, 12)12 - AIC:7000.784516097105\n",
      "ARIMA(1, 1, 1)x(1, 1, 1, 12)12 - AIC:6637.091345190136\n"
     ]
    }
   ],
   "source": [
    "for param in pdq:\n",
    "    for param_seasonal in seasonal_pdq:\n",
    "        try:\n",
    "            mod = sm.tsa.statespace.SARIMAX(y_train,\n",
    "                                            order=param,\n",
    "                                            seasonal_order=param_seasonal,\n",
    "                                            enforce_stationarity=False,\n",
    "                                            enforce_invertibility=False)\n",
    "\n",
    "            results = mod.fit()\n",
    "\n",
    "            print('ARIMA{}x{}12 - AIC:{}'.format(param, param_seasonal, results.aic))\n",
    "        except:\n",
    "            continue"
   ]
  },
  {
   "cell_type": "code",
   "execution_count": 78,
   "metadata": {},
   "outputs": [],
   "source": [
    "sarima = SARIMAX(endog = y_train,\n",
    "                 order = (0, 2, 1),              # (p, d, q)\n",
    "                 seasonal_order = (0, 1, 2, 4),  # (P, D, Q, S)\n",
    "                 exog = X_train) \n",
    "\n",
    "# Fit SARIMA model.\n",
    "model = sarima.fit()\n",
    "\n"
   ]
  },
  {
   "cell_type": "code",
   "execution_count": 79,
   "metadata": {},
   "outputs": [
    {
     "data": {
      "text/html": [
       "<div>\n",
       "<style scoped>\n",
       "    .dataframe tbody tr th:only-of-type {\n",
       "        vertical-align: middle;\n",
       "    }\n",
       "\n",
       "    .dataframe tbody tr th {\n",
       "        vertical-align: top;\n",
       "    }\n",
       "\n",
       "    .dataframe thead th {\n",
       "        text-align: right;\n",
       "    }\n",
       "</style>\n",
       "<table border=\"1\" class=\"dataframe\">\n",
       "  <thead>\n",
       "    <tr style=\"text-align: right;\">\n",
       "      <th></th>\n",
       "      <th>Bill Count</th>\n",
       "      <th>Voids</th>\n",
       "      <th>Discounts</th>\n",
       "      <th>Net Sales</th>\n",
       "      <th>Menu Item Cost</th>\n",
       "      <th>Labor Cost</th>\n",
       "      <th>Margin</th>\n",
       "      <th>Friday</th>\n",
       "      <th>Monday</th>\n",
       "      <th>Saturday</th>\n",
       "      <th>Sunday</th>\n",
       "      <th>Thursday</th>\n",
       "      <th>Tuesday</th>\n",
       "      <th>Wednesday</th>\n",
       "    </tr>\n",
       "    <tr>\n",
       "      <th>Date</th>\n",
       "      <th></th>\n",
       "      <th></th>\n",
       "      <th></th>\n",
       "      <th></th>\n",
       "      <th></th>\n",
       "      <th></th>\n",
       "      <th></th>\n",
       "      <th></th>\n",
       "      <th></th>\n",
       "      <th></th>\n",
       "      <th></th>\n",
       "      <th></th>\n",
       "      <th></th>\n",
       "      <th></th>\n",
       "    </tr>\n",
       "  </thead>\n",
       "  <tbody>\n",
       "    <tr>\n",
       "      <td>2018-06-01</td>\n",
       "      <td>103</td>\n",
       "      <td>144.0</td>\n",
       "      <td>0.00</td>\n",
       "      <td>6432.02</td>\n",
       "      <td>0.0</td>\n",
       "      <td>918.64</td>\n",
       "      <td>5513.38</td>\n",
       "      <td>1</td>\n",
       "      <td>0</td>\n",
       "      <td>0</td>\n",
       "      <td>0</td>\n",
       "      <td>0</td>\n",
       "      <td>0</td>\n",
       "      <td>0</td>\n",
       "    </tr>\n",
       "    <tr>\n",
       "      <td>2018-06-02</td>\n",
       "      <td>142</td>\n",
       "      <td>478.0</td>\n",
       "      <td>0.00</td>\n",
       "      <td>7812.00</td>\n",
       "      <td>0.0</td>\n",
       "      <td>1539.21</td>\n",
       "      <td>6272.79</td>\n",
       "      <td>0</td>\n",
       "      <td>0</td>\n",
       "      <td>1</td>\n",
       "      <td>0</td>\n",
       "      <td>0</td>\n",
       "      <td>0</td>\n",
       "      <td>0</td>\n",
       "    </tr>\n",
       "    <tr>\n",
       "      <td>2018-06-03</td>\n",
       "      <td>110</td>\n",
       "      <td>185.0</td>\n",
       "      <td>52.75</td>\n",
       "      <td>5719.25</td>\n",
       "      <td>0.0</td>\n",
       "      <td>1249.21</td>\n",
       "      <td>4470.04</td>\n",
       "      <td>0</td>\n",
       "      <td>0</td>\n",
       "      <td>0</td>\n",
       "      <td>1</td>\n",
       "      <td>0</td>\n",
       "      <td>0</td>\n",
       "      <td>0</td>\n",
       "    </tr>\n",
       "    <tr>\n",
       "      <td>2018-06-04</td>\n",
       "      <td>108</td>\n",
       "      <td>28.0</td>\n",
       "      <td>0.00</td>\n",
       "      <td>5085.00</td>\n",
       "      <td>0.0</td>\n",
       "      <td>1252.86</td>\n",
       "      <td>3832.14</td>\n",
       "      <td>0</td>\n",
       "      <td>1</td>\n",
       "      <td>0</td>\n",
       "      <td>0</td>\n",
       "      <td>0</td>\n",
       "      <td>0</td>\n",
       "      <td>0</td>\n",
       "    </tr>\n",
       "    <tr>\n",
       "      <td>2018-06-05</td>\n",
       "      <td>68</td>\n",
       "      <td>134.0</td>\n",
       "      <td>18.00</td>\n",
       "      <td>4550.00</td>\n",
       "      <td>0.0</td>\n",
       "      <td>842.49</td>\n",
       "      <td>3707.51</td>\n",
       "      <td>0</td>\n",
       "      <td>0</td>\n",
       "      <td>0</td>\n",
       "      <td>0</td>\n",
       "      <td>0</td>\n",
       "      <td>1</td>\n",
       "      <td>0</td>\n",
       "    </tr>\n",
       "  </tbody>\n",
       "</table>\n",
       "</div>"
      ],
      "text/plain": [
       "            Bill Count  Voids  Discounts  Net Sales  Menu Item Cost  \\\n",
       "Date                                                                  \n",
       "2018-06-01         103  144.0       0.00    6432.02             0.0   \n",
       "2018-06-02         142  478.0       0.00    7812.00             0.0   \n",
       "2018-06-03         110  185.0      52.75    5719.25             0.0   \n",
       "2018-06-04         108   28.0       0.00    5085.00             0.0   \n",
       "2018-06-05          68  134.0      18.00    4550.00             0.0   \n",
       "\n",
       "            Labor Cost   Margin  Friday  Monday  Saturday  Sunday  Thursday  \\\n",
       "Date                                                                          \n",
       "2018-06-01      918.64  5513.38       1       0         0       0         0   \n",
       "2018-06-02     1539.21  6272.79       0       0         1       0         0   \n",
       "2018-06-03     1249.21  4470.04       0       0         0       1         0   \n",
       "2018-06-04     1252.86  3832.14       0       1         0       0         0   \n",
       "2018-06-05      842.49  3707.51       0       0         0       0         0   \n",
       "\n",
       "            Tuesday  Wednesday  \n",
       "Date                            \n",
       "2018-06-01        0          0  \n",
       "2018-06-02        0          0  \n",
       "2018-06-03        0          0  \n",
       "2018-06-04        0          0  \n",
       "2018-06-05        1          0  "
      ]
     },
     "execution_count": 79,
     "metadata": {},
     "output_type": "execute_result"
    }
   ],
   "source": [
    "X_test.head()"
   ]
  },
  {
   "cell_type": "code",
   "execution_count": 80,
   "metadata": {},
   "outputs": [
    {
     "data": {
      "text/html": [
       "<div>\n",
       "<style scoped>\n",
       "    .dataframe tbody tr th:only-of-type {\n",
       "        vertical-align: middle;\n",
       "    }\n",
       "\n",
       "    .dataframe tbody tr th {\n",
       "        vertical-align: top;\n",
       "    }\n",
       "\n",
       "    .dataframe thead th {\n",
       "        text-align: right;\n",
       "    }\n",
       "</style>\n",
       "<table border=\"1\" class=\"dataframe\">\n",
       "  <thead>\n",
       "    <tr style=\"text-align: right;\">\n",
       "      <th></th>\n",
       "      <th>Bill Count</th>\n",
       "      <th>Voids</th>\n",
       "      <th>Discounts</th>\n",
       "      <th>Net Sales</th>\n",
       "      <th>Menu Item Cost</th>\n",
       "      <th>Labor Cost</th>\n",
       "      <th>Margin</th>\n",
       "      <th>Friday</th>\n",
       "      <th>Monday</th>\n",
       "      <th>Saturday</th>\n",
       "      <th>Sunday</th>\n",
       "      <th>Thursday</th>\n",
       "      <th>Tuesday</th>\n",
       "      <th>Wednesday</th>\n",
       "    </tr>\n",
       "    <tr>\n",
       "      <th>Date</th>\n",
       "      <th></th>\n",
       "      <th></th>\n",
       "      <th></th>\n",
       "      <th></th>\n",
       "      <th></th>\n",
       "      <th></th>\n",
       "      <th></th>\n",
       "      <th></th>\n",
       "      <th></th>\n",
       "      <th></th>\n",
       "      <th></th>\n",
       "      <th></th>\n",
       "      <th></th>\n",
       "      <th></th>\n",
       "    </tr>\n",
       "  </thead>\n",
       "  <tbody>\n",
       "    <tr>\n",
       "      <td>2019-01-15</td>\n",
       "      <td>51</td>\n",
       "      <td>95.0</td>\n",
       "      <td>0.0</td>\n",
       "      <td>2467.0</td>\n",
       "      <td>306.0</td>\n",
       "      <td>1162.90</td>\n",
       "      <td>998.10</td>\n",
       "      <td>0</td>\n",
       "      <td>0</td>\n",
       "      <td>0</td>\n",
       "      <td>0</td>\n",
       "      <td>0</td>\n",
       "      <td>1</td>\n",
       "      <td>0</td>\n",
       "    </tr>\n",
       "    <tr>\n",
       "      <td>2019-01-16</td>\n",
       "      <td>48</td>\n",
       "      <td>40.0</td>\n",
       "      <td>0.0</td>\n",
       "      <td>3217.0</td>\n",
       "      <td>48.0</td>\n",
       "      <td>734.65</td>\n",
       "      <td>2434.35</td>\n",
       "      <td>0</td>\n",
       "      <td>0</td>\n",
       "      <td>0</td>\n",
       "      <td>0</td>\n",
       "      <td>0</td>\n",
       "      <td>0</td>\n",
       "      <td>1</td>\n",
       "    </tr>\n",
       "    <tr>\n",
       "      <td>2019-01-17</td>\n",
       "      <td>70</td>\n",
       "      <td>32.0</td>\n",
       "      <td>0.0</td>\n",
       "      <td>3559.0</td>\n",
       "      <td>242.0</td>\n",
       "      <td>1092.19</td>\n",
       "      <td>2224.81</td>\n",
       "      <td>0</td>\n",
       "      <td>0</td>\n",
       "      <td>0</td>\n",
       "      <td>0</td>\n",
       "      <td>1</td>\n",
       "      <td>0</td>\n",
       "      <td>0</td>\n",
       "    </tr>\n",
       "    <tr>\n",
       "      <td>2019-01-18</td>\n",
       "      <td>99</td>\n",
       "      <td>6.0</td>\n",
       "      <td>0.0</td>\n",
       "      <td>5602.0</td>\n",
       "      <td>178.0</td>\n",
       "      <td>1189.36</td>\n",
       "      <td>4234.64</td>\n",
       "      <td>1</td>\n",
       "      <td>0</td>\n",
       "      <td>0</td>\n",
       "      <td>0</td>\n",
       "      <td>0</td>\n",
       "      <td>0</td>\n",
       "      <td>0</td>\n",
       "    </tr>\n",
       "    <tr>\n",
       "      <td>2019-01-19</td>\n",
       "      <td>127</td>\n",
       "      <td>110.0</td>\n",
       "      <td>0.0</td>\n",
       "      <td>6134.0</td>\n",
       "      <td>118.0</td>\n",
       "      <td>1434.65</td>\n",
       "      <td>4581.35</td>\n",
       "      <td>0</td>\n",
       "      <td>0</td>\n",
       "      <td>1</td>\n",
       "      <td>0</td>\n",
       "      <td>0</td>\n",
       "      <td>0</td>\n",
       "      <td>0</td>\n",
       "    </tr>\n",
       "  </tbody>\n",
       "</table>\n",
       "</div>"
      ],
      "text/plain": [
       "            Bill Count  Voids  Discounts  Net Sales  Menu Item Cost  \\\n",
       "Date                                                                  \n",
       "2019-01-15          51   95.0        0.0     2467.0           306.0   \n",
       "2019-01-16          48   40.0        0.0     3217.0            48.0   \n",
       "2019-01-17          70   32.0        0.0     3559.0           242.0   \n",
       "2019-01-18          99    6.0        0.0     5602.0           178.0   \n",
       "2019-01-19         127  110.0        0.0     6134.0           118.0   \n",
       "\n",
       "            Labor Cost   Margin  Friday  Monday  Saturday  Sunday  Thursday  \\\n",
       "Date                                                                          \n",
       "2019-01-15     1162.90   998.10       0       0         0       0         0   \n",
       "2019-01-16      734.65  2434.35       0       0         0       0         0   \n",
       "2019-01-17     1092.19  2224.81       0       0         0       0         1   \n",
       "2019-01-18     1189.36  4234.64       1       0         0       0         0   \n",
       "2019-01-19     1434.65  4581.35       0       0         1       0         0   \n",
       "\n",
       "            Tuesday  Wednesday  \n",
       "Date                            \n",
       "2019-01-15        1          0  \n",
       "2019-01-16        0          1  \n",
       "2019-01-17        0          0  \n",
       "2019-01-18        0          0  \n",
       "2019-01-19        0          0  "
      ]
     },
     "execution_count": 80,
     "metadata": {},
     "output_type": "execute_result"
    }
   ],
   "source": [
    "X_test.tail()"
   ]
  },
  {
   "cell_type": "code",
   "execution_count": 81,
   "metadata": {},
   "outputs": [],
   "source": [
    "# # # Generate predictions based on test set.\n",
    "preds = model.predict(start=datetime(2018,6,5),\n",
    "                    end=datetime(2019,1,18),\n",
    "                     exog=X_test)"
   ]
  },
  {
   "cell_type": "code",
   "execution_count": 82,
   "metadata": {},
   "outputs": [
    {
     "data": {
      "text/plain": [
       "PeriodIndex(['2018-06-05', '2018-06-06', '2018-06-07', '2018-06-08',\n",
       "             '2018-06-09', '2018-06-10', '2018-06-11', '2018-06-12',\n",
       "             '2018-06-13', '2018-06-14',\n",
       "             ...\n",
       "             '2019-01-09', '2019-01-10', '2019-01-11', '2019-01-12',\n",
       "             '2019-01-13', '2019-01-14', '2019-01-15', '2019-01-16',\n",
       "             '2019-01-17', '2019-01-18'],\n",
       "            dtype='period[D]', name='Date', length=227, freq='D')"
      ]
     },
     "execution_count": 82,
     "metadata": {},
     "output_type": "execute_result"
    }
   ],
   "source": [
    "preds.index"
   ]
  },
  {
   "cell_type": "code",
   "execution_count": 83,
   "metadata": {},
   "outputs": [
    {
     "data": {
      "text/plain": [
       "PeriodIndex(['2018-06-01', '2018-06-02', '2018-06-03', '2018-06-04',\n",
       "             '2018-06-05', '2018-06-06', '2018-06-07', '2018-06-08',\n",
       "             '2018-06-09', '2018-06-10',\n",
       "             ...\n",
       "             '2019-07-01', '2019-07-02', '2019-07-03', '2019-07-04',\n",
       "             '2019-07-05', '2019-07-06', '2019-07-07', '2019-07-08',\n",
       "             '2019-07-09', '2019-07-10'],\n",
       "            dtype='period[D]', name='Date', length=404, freq='D')"
      ]
     },
     "execution_count": 83,
     "metadata": {},
     "output_type": "execute_result"
    }
   ],
   "source": [
    "y_train.index"
   ]
  },
  {
   "cell_type": "code",
   "execution_count": 84,
   "metadata": {},
   "outputs": [
    {
     "data": {
      "text/plain": [
       "PeriodIndex(['2018-06-01', '2018-06-02', '2018-06-03', '2018-06-04',\n",
       "             '2018-06-05', '2018-06-06', '2018-06-07', '2018-06-08',\n",
       "             '2018-06-09', '2018-06-10',\n",
       "             ...\n",
       "             '2019-01-10', '2019-01-11', '2019-01-12', '2019-01-13',\n",
       "             '2019-01-14', '2019-01-15', '2019-01-16', '2019-01-17',\n",
       "             '2019-01-18', '2019-01-19'],\n",
       "            dtype='period[D]', name='Date', length=232, freq='D')"
      ]
     },
     "execution_count": 84,
     "metadata": {},
     "output_type": "execute_result"
    }
   ],
   "source": [
    "X_test.index"
   ]
  },
  {
   "cell_type": "code",
   "execution_count": 85,
   "metadata": {},
   "outputs": [],
   "source": [
    "# preds = model.forecast(steps = len(X_test))[0]\n",
    "# future_forecast = pd.DataFrame(preds, index = X_test.index, columns = [\"predictions\"])"
   ]
  },
  {
   "cell_type": "code",
   "execution_count": 86,
   "metadata": {},
   "outputs": [],
   "source": [
    "#pred = pd.DataFrame(preds)"
   ]
  },
  {
   "cell_type": "code",
   "execution_count": 87,
   "metadata": {},
   "outputs": [
    {
     "data": {
      "text/plain": [
       "PeriodIndex(['2018-06-01', '2018-06-02', '2018-06-03', '2018-06-04',\n",
       "             '2018-06-05', '2018-06-06', '2018-06-07', '2018-06-08',\n",
       "             '2018-06-09', '2018-06-10',\n",
       "             ...\n",
       "             '2019-01-10', '2019-01-11', '2019-01-12', '2019-01-13',\n",
       "             '2019-01-14', '2019-01-15', '2019-01-16', '2019-01-17',\n",
       "             '2019-01-18', '2019-01-19'],\n",
       "            dtype='period[D]', name='Date', length=232, freq='D')"
      ]
     },
     "execution_count": 87,
     "metadata": {},
     "output_type": "execute_result"
    }
   ],
   "source": [
    "X_test.index"
   ]
  },
  {
   "cell_type": "code",
   "execution_count": 88,
   "metadata": {},
   "outputs": [
    {
     "data": {
      "text/plain": [
       "0"
      ]
     },
     "execution_count": 88,
     "metadata": {},
     "output_type": "execute_result"
    }
   ],
   "source": [
    "y_train.index.isnull().sum()"
   ]
  },
  {
   "cell_type": "code",
   "execution_count": 89,
   "metadata": {},
   "outputs": [
    {
     "data": {
      "text/plain": [
       "0"
      ]
     },
     "execution_count": 89,
     "metadata": {},
     "output_type": "execute_result"
    }
   ],
   "source": [
    "preds.index.isnull().sum()"
   ]
  },
  {
   "cell_type": "code",
   "execution_count": 90,
   "metadata": {},
   "outputs": [
    {
     "data": {
      "text/plain": [
       "Date\n",
       "2018-06-01    6432.02\n",
       "2018-06-02    7812.00\n",
       "2018-06-03    5772.00\n",
       "2018-06-04    5085.00\n",
       "2018-06-05    4568.00\n",
       "Freq: D, Name: Gross Sales, dtype: float64"
      ]
     },
     "execution_count": 90,
     "metadata": {},
     "output_type": "execute_result"
    }
   ],
   "source": [
    "y_train.head()"
   ]
  },
  {
   "cell_type": "code",
   "execution_count": 91,
   "metadata": {},
   "outputs": [
    {
     "data": {
      "text/plain": [
       "DatetimeIndex(['2018-06-01', '2018-06-02', '2018-06-03', '2018-06-04',\n",
       "               '2018-06-05', '2018-06-06', '2018-06-07', '2018-06-08',\n",
       "               '2018-06-09', '2018-06-10',\n",
       "               ...\n",
       "               '2019-01-10', '2019-01-11', '2019-01-12', '2019-01-13',\n",
       "               '2019-01-14', '2019-01-15', '2019-01-16', '2019-01-17',\n",
       "               '2019-01-18', '2019-01-19'],\n",
       "              dtype='datetime64[ns]', name='Date', length=232, freq=None)"
      ]
     },
     "execution_count": 91,
     "metadata": {},
     "output_type": "execute_result"
    }
   ],
   "source": [
    "y_test.index.to_timestamp()"
   ]
  },
  {
   "cell_type": "code",
   "execution_count": 92,
   "metadata": {},
   "outputs": [
    {
     "data": {
      "text/plain": [
       "Date\n",
       "2018-06-01    6432.02\n",
       "2018-06-02    7812.00\n",
       "2018-06-03    5772.00\n",
       "2018-06-04    5085.00\n",
       "2018-06-05    4568.00\n",
       "               ...   \n",
       "2019-01-15    2467.00\n",
       "2019-01-16    3217.00\n",
       "2019-01-17    3559.00\n",
       "2019-01-18    5602.00\n",
       "2019-01-19    6134.00\n",
       "Freq: D, Name: Gross Sales, Length: 232, dtype: float64"
      ]
     },
     "execution_count": 92,
     "metadata": {},
     "output_type": "execute_result"
    }
   ],
   "source": [
    "y_test"
   ]
  },
  {
   "cell_type": "code",
   "execution_count": 93,
   "metadata": {},
   "outputs": [
    {
     "data": {
      "text/plain": [
       "PeriodIndex(['2018-06-01', '2018-06-02', '2018-06-03', '2018-06-04',\n",
       "             '2018-06-05', '2018-06-06', '2018-06-07', '2018-06-08',\n",
       "             '2018-06-09', '2018-06-10',\n",
       "             ...\n",
       "             '2019-01-10', '2019-01-11', '2019-01-12', '2019-01-13',\n",
       "             '2019-01-14', '2019-01-15', '2019-01-16', '2019-01-17',\n",
       "             '2019-01-18', '2019-01-19'],\n",
       "            dtype='period[D]', name='Date', length=232, freq='D')"
      ]
     },
     "execution_count": 93,
     "metadata": {},
     "output_type": "execute_result"
    }
   ],
   "source": [
    "y_test.index"
   ]
  },
  {
   "cell_type": "code",
   "execution_count": 94,
   "metadata": {},
   "outputs": [],
   "source": [
    "y_test.index = y_test.index.to_timestamp()"
   ]
  },
  {
   "cell_type": "code",
   "execution_count": 95,
   "metadata": {},
   "outputs": [],
   "source": [
    "y_train.index = y_train.index.to_timestamp()"
   ]
  },
  {
   "cell_type": "code",
   "execution_count": 96,
   "metadata": {},
   "outputs": [],
   "source": [
    "preds.index = preds.index.to_timestamp()"
   ]
  },
  {
   "cell_type": "code",
   "execution_count": 97,
   "metadata": {},
   "outputs": [],
   "source": [
    "# future_forecast = model.predict(n_periods=400)"
   ]
  },
  {
   "cell_type": "code",
   "execution_count": 98,
   "metadata": {},
   "outputs": [],
   "source": [
    "# future_forecast.index =future_forecast.index.to_timestamp()"
   ]
  },
  {
   "cell_type": "code",
   "execution_count": 99,
   "metadata": {},
   "outputs": [],
   "source": [
    "# from sklearn.metrics import mean_squared_error\n",
    "# mean_squared_error(pd.DataFrame(y_test).dropna(), preds[2:]) ** 0.5"
   ]
  },
  {
   "cell_type": "code",
   "execution_count": 100,
   "metadata": {
    "scrolled": true
   },
   "outputs": [
    {
     "data": {
      "image/png": "[encoded data removed]",
      "text/plain": [
       "<Figure size 720x432 with 1 Axes>"
      ]
     },
     "metadata": {
      "needs_background": "light"
     },
     "output_type": "display_data"
    }
   ],
   "source": [
    "# #a Fit a SARIMA(0, 2, 1) x (1, 0, 0, 12) model.\n",
    "\n",
    "# sarima = SARIMAX(endog = y_train.astype(float),\n",
    "#                  order = (0, 2, 1),              # (p, d, q)\n",
    "#                  seasonal_order = (1, 0, 0,2)) # (P, D, Q, S)\n",
    "\n",
    "# # Fit SARIMA model.\n",
    "# model = sarima.fit()\n",
    "\n",
    "# Generate predictions based on test set.\n",
    "# preds = model.predict(start=datetime(2020,3,1),\n",
    "#                       end=datetime(2020,1,10))\n",
    "\n",
    "# # # Evaluate predictions.\n",
    "# print(mean_squared_error(y_test, preds))\n",
    "\n",
    "# Plot data.\n",
    "plt.figure(figsize=(10,6))\n",
    "plt.plot(y_train, color = 'blue')\n",
    "plt.plot(y_test, color = 'orange')\n",
    "plt.plot(preds, color = 'green')\n",
    "# plt.plot(future_forecast, color = 'black')\n",
    "\n",
    "plt.title(label = 'Bus Ridership Monthly Volume with SARIMA(0, 2, 1) x (1, 0, 0, 12) Predictions', fontsize=16)\n",
    "plt.show();"
   ]
  }
 ],
 "metadata": {
  "kernelspec": {
   "display_name": "Python 3",
   "language": "python",
   "name": "python3"
  },
  "language_info": {
   "codemirror_mode": {
    "name": "ipython",
    "version": 3
   },
   "file_extension": ".py",
   "mimetype": "text/x-python",
   "name": "python",
   "nbconvert_exporter": "python",
   "pygments_lexer": "ipython3",
   "version": "3.7.4"
  },
  "toc": {
   "base_numbering": 1,
   "nav_menu": {},
   "number_sections": true,
   "sideBar": true,
   "skip_h1_title": false,
   "title_cell": "Table of Contents",
   "title_sidebar": "Contents",
   "toc_cell": true,
   "toc_position": {
    "height": "calc(100% - 180px)",
    "left": "10px",
    "top": "150px",
    "width": "243.188px"
   },
   "toc_section_display": true,
   "toc_window_display": true
  }
 },
 "nbformat": 4,
 "nbformat_minor": 2
}
