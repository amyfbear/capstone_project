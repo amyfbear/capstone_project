{
 "cells": [
  {
   "cell_type": "markdown",
   "metadata": {
    "toc": true
   },
   "source": [
    "<h1>Table of Contents<span class=\"tocSkip\"></span></h1>\n",
    "<div class=\"toc\"><ul class=\"toc-item\"><li><span><a href=\"#Importing-Packages\" data-toc-modified-id=\"Importing-Packages-1\"><span class=\"toc-item-num\">1&nbsp;&nbsp;</span>Importing Packages</a></span></li></ul></div>"
   ]
  },
  {
   "cell_type": "markdown",
   "metadata": {},
   "source": [
    "## Importing Packages"
   ]
  },
  {
   "cell_type": "markdown",
   "metadata": {},
   "source": [
    "- model interpetation \n",
    "- coeffs on time lags"
   ]
  },
  {
   "cell_type": "code",
   "execution_count": 1,
   "metadata": {},
   "outputs": [],
   "source": [
    "import pandas as pd\n",
    "import numpy as np\n",
    "import matplotlib.pyplot as plt\n",
    "from datetime import datetime\n",
    "from sklearn.model_selection import train_test_split\n",
    "from statsmodels.tsa.statespace.sarimax import SARIMAX\n",
    "# Import ARIMA model.\n",
    "from statsmodels.tsa.arima_model import ARIMA\n",
    "import statsmodels.api as sm\n",
    "from statsmodels.graphics.tsaplots import plot_acf, plot_pacf\n",
    "import seaborn as sns\n",
    "# Import Augmented Dickey-Fuller test.\n",
    "from statsmodels.tsa.stattools import adfuller\n",
    "\n",
    "\n",
    "%matplotlib inline\n",
    "\n",
    "# We are required to do this in order to avoid \"FutureWarning\" issues.\n",
    "from pandas.plotting import register_matplotlib_converters\n",
    "register_matplotlib_converters()\n",
    "\n",
    "import itertools\n",
    "\n",
    "import warnings\n",
    "warnings.filterwarnings(\"ignore\")"
   ]
  },
  {
   "cell_type": "code",
   "execution_count": 2,
   "metadata": {},
   "outputs": [],
   "source": [
    "# #CREATE FUNCTION THAT READS IN CSV AND AND CLEANS DATA\n",
    "# def data_reader_cleaner(df):\n",
    "# # 1) read in csv\n",
    "# data = pd.read_csv('./data/data_1.csv')\n",
    "# # 2) reset_index\n",
    "# data.reset_index(inplace=True)\n",
    "# # 3)set colunms as row 0 \n",
    "# data.columns = data.iloc[0]\n",
    "# # 4) drop first and last columns\n",
    "# data.drop([0,31], axis = 0, inplace = True)\n",
    "# # 5) set index as date\n",
    "#  data.set_index('Date', inplace = True)   \n",
    "# 6) concats\n",
    "# return df"
   ]
  },
  {
   "cell_type": "code",
   "execution_count": 3,
   "metadata": {},
   "outputs": [],
   "source": [
    "#Second function \n",
    "# needs to graph all features besides week days \n",
    "\n",
    "# need log transform as needed AFTER GRAHPING \n",
    "\n",
    "\n",
    "# MODIFY CODE FROM ARIMA SOLUTION TO PRINT RMSE\n",
    "# GRAPH PREDICITON REDISUALS\n",
    "\n",
    "\n",
    "# RESEARCH .PREDICT VS .FORECAST"
   ]
  },
  {
   "cell_type": "code",
   "execution_count": 4,
   "metadata": {},
   "outputs": [],
   "source": [
    "data = pd.read_csv('./data/data_1.csv')"
   ]
  },
  {
   "cell_type": "code",
   "execution_count": 5,
   "metadata": {},
   "outputs": [],
   "source": [
    "data_2 = pd.read_csv('./data/data_2.csv')"
   ]
  },
  {
   "cell_type": "code",
   "execution_count": 6,
   "metadata": {},
   "outputs": [],
   "source": [
    "data_3 = pd.read_csv('./data/data_3.csv')"
   ]
  },
  {
   "cell_type": "code",
   "execution_count": 7,
   "metadata": {},
   "outputs": [],
   "source": [
    "data_4 = pd.read_csv('./data/data_4.csv')"
   ]
  },
  {
   "cell_type": "code",
   "execution_count": 8,
   "metadata": {},
   "outputs": [],
   "source": [
    "data_5 = pd.read_csv('./data/data_5.csv')"
   ]
  },
  {
   "cell_type": "code",
   "execution_count": 9,
   "metadata": {},
   "outputs": [],
   "source": [
    "data.reset_index(inplace=True)"
   ]
  },
  {
   "cell_type": "code",
   "execution_count": 10,
   "metadata": {},
   "outputs": [],
   "source": [
    "data_2.reset_index(inplace=True)"
   ]
  },
  {
   "cell_type": "code",
   "execution_count": 11,
   "metadata": {
    "scrolled": false
   },
   "outputs": [],
   "source": [
    "data_3.reset_index(inplace=True)"
   ]
  },
  {
   "cell_type": "code",
   "execution_count": 12,
   "metadata": {},
   "outputs": [],
   "source": [
    "data_4.reset_index(inplace=True)"
   ]
  },
  {
   "cell_type": "code",
   "execution_count": 13,
   "metadata": {},
   "outputs": [],
   "source": [
    "data_5.reset_index(inplace=True)"
   ]
  },
  {
   "cell_type": "code",
   "execution_count": 14,
   "metadata": {},
   "outputs": [],
   "source": [
    "data.columns = data.iloc[0]"
   ]
  },
  {
   "cell_type": "code",
   "execution_count": 15,
   "metadata": {},
   "outputs": [],
   "source": [
    "data_2.columns = data_2.iloc[0]"
   ]
  },
  {
   "cell_type": "code",
   "execution_count": 16,
   "metadata": {},
   "outputs": [],
   "source": [
    "data_3.columns = data_3.iloc[0]"
   ]
  },
  {
   "cell_type": "code",
   "execution_count": 17,
   "metadata": {},
   "outputs": [],
   "source": [
    "data_4.columns = data_4.iloc[0]"
   ]
  },
  {
   "cell_type": "code",
   "execution_count": 18,
   "metadata": {},
   "outputs": [],
   "source": [
    "data_5.columns = data_5.iloc[0]"
   ]
  },
  {
   "cell_type": "code",
   "execution_count": 19,
   "metadata": {},
   "outputs": [
    {
     "data": {
      "text/plain": [
       "Index(['Date', 'Day of the Week', 'Bill Count', 'Voids', 'Gross Sales',\n",
       "       'Discounts', 'Net Sales', 'Menu Item Cost', 'Labor Cost', 'Margin'],\n",
       "      dtype='object', name=0)"
      ]
     },
     "execution_count": 19,
     "metadata": {},
     "output_type": "execute_result"
    }
   ],
   "source": [
    "data_2.columns"
   ]
  },
  {
   "cell_type": "code",
   "execution_count": 20,
   "metadata": {},
   "outputs": [
    {
     "data": {
      "text/plain": [
       "(32, 10)"
      ]
     },
     "execution_count": 20,
     "metadata": {},
     "output_type": "execute_result"
    }
   ],
   "source": [
    "data.shape"
   ]
  },
  {
   "cell_type": "code",
   "execution_count": 21,
   "metadata": {},
   "outputs": [
    {
     "data": {
      "text/plain": [
       "(185, 10)"
      ]
     },
     "execution_count": 21,
     "metadata": {},
     "output_type": "execute_result"
    }
   ],
   "source": [
    "data_2.shape"
   ]
  },
  {
   "cell_type": "code",
   "execution_count": 22,
   "metadata": {},
   "outputs": [
    {
     "data": {
      "text/plain": [
       "(183, 10)"
      ]
     },
     "execution_count": 22,
     "metadata": {},
     "output_type": "execute_result"
    }
   ],
   "source": [
    "data_3.shape"
   ]
  },
  {
   "cell_type": "code",
   "execution_count": 23,
   "metadata": {},
   "outputs": [
    {
     "data": {
      "text/plain": [
       "(182, 10)"
      ]
     },
     "execution_count": 23,
     "metadata": {},
     "output_type": "execute_result"
    }
   ],
   "source": [
    "data_4.shape"
   ]
  },
  {
   "cell_type": "code",
   "execution_count": 24,
   "metadata": {},
   "outputs": [
    {
     "data": {
      "text/plain": [
       "(49, 10)"
      ]
     },
     "execution_count": 24,
     "metadata": {},
     "output_type": "execute_result"
    }
   ],
   "source": [
    "data_5.shape"
   ]
  },
  {
   "cell_type": "code",
   "execution_count": 25,
   "metadata": {},
   "outputs": [],
   "source": [
    "data.drop([0,31], axis = 0, inplace = True)"
   ]
  },
  {
   "cell_type": "code",
   "execution_count": 26,
   "metadata": {},
   "outputs": [],
   "source": [
    "data_2.drop([0,184], axis = 0, inplace = True)"
   ]
  },
  {
   "cell_type": "code",
   "execution_count": 27,
   "metadata": {},
   "outputs": [],
   "source": [
    "data_3.drop([0,182], axis = 0, inplace = True)"
   ]
  },
  {
   "cell_type": "code",
   "execution_count": 28,
   "metadata": {},
   "outputs": [],
   "source": [
    "data_4.drop([0,181], axis = 0, inplace = True)"
   ]
  },
  {
   "cell_type": "code",
   "execution_count": 29,
   "metadata": {},
   "outputs": [],
   "source": [
    "data_5.drop([0,48], axis = 0, inplace = True)"
   ]
  },
  {
   "cell_type": "code",
   "execution_count": 30,
   "metadata": {},
   "outputs": [],
   "source": [
    "data.set_index('Date', inplace = True)"
   ]
  },
  {
   "cell_type": "code",
   "execution_count": 31,
   "metadata": {},
   "outputs": [],
   "source": [
    "data_2.set_index('Date', inplace = True)"
   ]
  },
  {
   "cell_type": "code",
   "execution_count": 32,
   "metadata": {},
   "outputs": [],
   "source": [
    "data_3.set_index('Date', inplace = True)"
   ]
  },
  {
   "cell_type": "code",
   "execution_count": 33,
   "metadata": {},
   "outputs": [],
   "source": [
    "data_4.set_index('Date', inplace = True)"
   ]
  },
  {
   "cell_type": "code",
   "execution_count": 34,
   "metadata": {},
   "outputs": [],
   "source": [
    "data_5.set_index('Date', inplace = True)"
   ]
  },
  {
   "cell_type": "code",
   "execution_count": 35,
   "metadata": {},
   "outputs": [
    {
     "data": {
      "text/html": [
       "<div>\n",
       "<style scoped>\n",
       "    .dataframe tbody tr th:only-of-type {\n",
       "        vertical-align: middle;\n",
       "    }\n",
       "\n",
       "    .dataframe tbody tr th {\n",
       "        vertical-align: top;\n",
       "    }\n",
       "\n",
       "    .dataframe thead th {\n",
       "        text-align: right;\n",
       "    }\n",
       "</style>\n",
       "<table border=\"1\" class=\"dataframe\">\n",
       "  <thead>\n",
       "    <tr style=\"text-align: right;\">\n",
       "      <th></th>\n",
       "      <th>Day of the Week</th>\n",
       "      <th>Bill Count</th>\n",
       "      <th>Voids</th>\n",
       "      <th>Gross Sales</th>\n",
       "      <th>Discounts</th>\n",
       "      <th>Net Sales</th>\n",
       "      <th>Menu Item Cost</th>\n",
       "      <th>Labor Cost</th>\n",
       "      <th>Margin</th>\n",
       "    </tr>\n",
       "    <tr>\n",
       "      <th>Date</th>\n",
       "      <th></th>\n",
       "      <th></th>\n",
       "      <th></th>\n",
       "      <th></th>\n",
       "      <th></th>\n",
       "      <th></th>\n",
       "      <th></th>\n",
       "      <th></th>\n",
       "      <th></th>\n",
       "    </tr>\n",
       "  </thead>\n",
       "  <tbody>\n",
       "    <tr>\n",
       "      <td>2018-07-01</td>\n",
       "      <td>Sunday</td>\n",
       "      <td>94</td>\n",
       "      <td>$268.00</td>\n",
       "      <td>$5,132.03</td>\n",
       "      <td>$0.00</td>\n",
       "      <td>$5,132.03</td>\n",
       "      <td>$0.00</td>\n",
       "      <td>$1,316.44</td>\n",
       "      <td>$3,815.59</td>\n",
       "    </tr>\n",
       "    <tr>\n",
       "      <td>2018-07-02</td>\n",
       "      <td>Monday</td>\n",
       "      <td>75</td>\n",
       "      <td>$154.00</td>\n",
       "      <td>$3,904.01</td>\n",
       "      <td>$0.00</td>\n",
       "      <td>$3,904.01</td>\n",
       "      <td>$0.00</td>\n",
       "      <td>$855.73</td>\n",
       "      <td>$3,048.28</td>\n",
       "    </tr>\n",
       "    <tr>\n",
       "      <td>2018-07-03</td>\n",
       "      <td>Tuesday</td>\n",
       "      <td>72</td>\n",
       "      <td>$61.00</td>\n",
       "      <td>$3,555.00</td>\n",
       "      <td>$0.00</td>\n",
       "      <td>$3,555.00</td>\n",
       "      <td>$0.00</td>\n",
       "      <td>$909.48</td>\n",
       "      <td>$2,645.52</td>\n",
       "    </tr>\n",
       "    <tr>\n",
       "      <td>2018-07-04</td>\n",
       "      <td>Wednesday</td>\n",
       "      <td>66</td>\n",
       "      <td>$115.00</td>\n",
       "      <td>$3,027.00</td>\n",
       "      <td>$6.00</td>\n",
       "      <td>$3,021.00</td>\n",
       "      <td>$0.00</td>\n",
       "      <td>$744.24</td>\n",
       "      <td>$2,276.76</td>\n",
       "    </tr>\n",
       "    <tr>\n",
       "      <td>2018-07-05</td>\n",
       "      <td>Thursday</td>\n",
       "      <td>58</td>\n",
       "      <td>$39.00</td>\n",
       "      <td>$2,809.00</td>\n",
       "      <td>$0.00</td>\n",
       "      <td>$2,809.00</td>\n",
       "      <td>$0.00</td>\n",
       "      <td>$1,060.46</td>\n",
       "      <td>$1,748.54</td>\n",
       "    </tr>\n",
       "    <tr>\n",
       "      <td>...</td>\n",
       "      <td>...</td>\n",
       "      <td>...</td>\n",
       "      <td>...</td>\n",
       "      <td>...</td>\n",
       "      <td>...</td>\n",
       "      <td>...</td>\n",
       "      <td>...</td>\n",
       "      <td>...</td>\n",
       "      <td>...</td>\n",
       "    </tr>\n",
       "    <tr>\n",
       "      <td>2018-12-27</td>\n",
       "      <td>Thursday</td>\n",
       "      <td>76</td>\n",
       "      <td>$89.00</td>\n",
       "      <td>$4,706.00</td>\n",
       "      <td>$6.60</td>\n",
       "      <td>$4,699.40</td>\n",
       "      <td>$114.00</td>\n",
       "      <td>$696.53</td>\n",
       "      <td>$3,888.87</td>\n",
       "    </tr>\n",
       "    <tr>\n",
       "      <td>2018-12-28</td>\n",
       "      <td>Friday</td>\n",
       "      <td>82</td>\n",
       "      <td>$100.00</td>\n",
       "      <td>$4,895.00</td>\n",
       "      <td>$10.00</td>\n",
       "      <td>$4,885.00</td>\n",
       "      <td>$72.00</td>\n",
       "      <td>$833.36</td>\n",
       "      <td>$3,979.64</td>\n",
       "    </tr>\n",
       "    <tr>\n",
       "      <td>2018-12-29</td>\n",
       "      <td>Saturday</td>\n",
       "      <td>111</td>\n",
       "      <td>$124.00</td>\n",
       "      <td>$6,307.00</td>\n",
       "      <td>$0.00</td>\n",
       "      <td>$6,307.00</td>\n",
       "      <td>$212.00</td>\n",
       "      <td>$1,244.73</td>\n",
       "      <td>$4,850.27</td>\n",
       "    </tr>\n",
       "    <tr>\n",
       "      <td>2018-12-30</td>\n",
       "      <td>Sunday</td>\n",
       "      <td>94</td>\n",
       "      <td>$227.00</td>\n",
       "      <td>$5,393.00</td>\n",
       "      <td>$10.10</td>\n",
       "      <td>$5,382.90</td>\n",
       "      <td>$48.00</td>\n",
       "      <td>$1,142.10</td>\n",
       "      <td>$4,192.80</td>\n",
       "    </tr>\n",
       "    <tr>\n",
       "      <td>2018-12-31</td>\n",
       "      <td>Monday</td>\n",
       "      <td>72</td>\n",
       "      <td>$123.00</td>\n",
       "      <td>$4,845.00</td>\n",
       "      <td>$0.00</td>\n",
       "      <td>$4,845.00</td>\n",
       "      <td>$84.00</td>\n",
       "      <td>$1,187.05</td>\n",
       "      <td>$3,573.95</td>\n",
       "    </tr>\n",
       "  </tbody>\n",
       "</table>\n",
       "<p>183 rows × 9 columns</p>\n",
       "</div>"
      ],
      "text/plain": [
       "0          Day of the Week Bill Count    Voids Gross Sales Discounts  \\\n",
       "Date                                                                   \n",
       "2018-07-01          Sunday         94  $268.00   $5,132.03     $0.00   \n",
       "2018-07-02          Monday         75  $154.00   $3,904.01     $0.00   \n",
       "2018-07-03         Tuesday         72   $61.00   $3,555.00     $0.00   \n",
       "2018-07-04       Wednesday         66  $115.00   $3,027.00     $6.00   \n",
       "2018-07-05        Thursday         58   $39.00   $2,809.00     $0.00   \n",
       "...                    ...        ...      ...         ...       ...   \n",
       "2018-12-27        Thursday         76   $89.00   $4,706.00     $6.60   \n",
       "2018-12-28          Friday         82  $100.00   $4,895.00    $10.00   \n",
       "2018-12-29        Saturday        111  $124.00   $6,307.00     $0.00   \n",
       "2018-12-30          Sunday         94  $227.00   $5,393.00    $10.10   \n",
       "2018-12-31          Monday         72  $123.00   $4,845.00     $0.00   \n",
       "\n",
       "0           Net Sales Menu Item Cost Labor Cost     Margin  \n",
       "Date                                                        \n",
       "2018-07-01  $5,132.03          $0.00  $1,316.44  $3,815.59  \n",
       "2018-07-02  $3,904.01          $0.00    $855.73  $3,048.28  \n",
       "2018-07-03  $3,555.00          $0.00    $909.48  $2,645.52  \n",
       "2018-07-04  $3,021.00          $0.00    $744.24  $2,276.76  \n",
       "2018-07-05  $2,809.00          $0.00  $1,060.46  $1,748.54  \n",
       "...               ...            ...        ...        ...  \n",
       "2018-12-27  $4,699.40        $114.00    $696.53  $3,888.87  \n",
       "2018-12-28  $4,885.00         $72.00    $833.36  $3,979.64  \n",
       "2018-12-29  $6,307.00        $212.00  $1,244.73  $4,850.27  \n",
       "2018-12-30  $5,382.90         $48.00  $1,142.10  $4,192.80  \n",
       "2018-12-31  $4,845.00         $84.00  $1,187.05  $3,573.95  \n",
       "\n",
       "[183 rows x 9 columns]"
      ]
     },
     "execution_count": 35,
     "metadata": {},
     "output_type": "execute_result"
    }
   ],
   "source": [
    "data_2"
   ]
  },
  {
   "cell_type": "code",
   "execution_count": 36,
   "metadata": {},
   "outputs": [
    {
     "data": {
      "text/html": [
       "<div>\n",
       "<style scoped>\n",
       "    .dataframe tbody tr th:only-of-type {\n",
       "        vertical-align: middle;\n",
       "    }\n",
       "\n",
       "    .dataframe tbody tr th {\n",
       "        vertical-align: top;\n",
       "    }\n",
       "\n",
       "    .dataframe thead th {\n",
       "        text-align: right;\n",
       "    }\n",
       "</style>\n",
       "<table border=\"1\" class=\"dataframe\">\n",
       "  <thead>\n",
       "    <tr style=\"text-align: right;\">\n",
       "      <th></th>\n",
       "      <th>Day of the Week</th>\n",
       "      <th>Bill Count</th>\n",
       "      <th>Voids</th>\n",
       "      <th>Gross Sales</th>\n",
       "      <th>Discounts</th>\n",
       "      <th>Net Sales</th>\n",
       "      <th>Menu Item Cost</th>\n",
       "      <th>Labor Cost</th>\n",
       "      <th>Margin</th>\n",
       "    </tr>\n",
       "  </thead>\n",
       "  <tbody>\n",
       "    <tr>\n",
       "      <td>count</td>\n",
       "      <td>30</td>\n",
       "      <td>30</td>\n",
       "      <td>30</td>\n",
       "      <td>30</td>\n",
       "      <td>30</td>\n",
       "      <td>30</td>\n",
       "      <td>30</td>\n",
       "      <td>30</td>\n",
       "      <td>30</td>\n",
       "    </tr>\n",
       "    <tr>\n",
       "      <td>unique</td>\n",
       "      <td>7</td>\n",
       "      <td>26</td>\n",
       "      <td>27</td>\n",
       "      <td>30</td>\n",
       "      <td>18</td>\n",
       "      <td>30</td>\n",
       "      <td>1</td>\n",
       "      <td>30</td>\n",
       "      <td>30</td>\n",
       "    </tr>\n",
       "    <tr>\n",
       "      <td>top</td>\n",
       "      <td>Friday</td>\n",
       "      <td>103</td>\n",
       "      <td>$140.00</td>\n",
       "      <td>$7,812.00</td>\n",
       "      <td>$0.00</td>\n",
       "      <td>$7,812.00</td>\n",
       "      <td>$0.00</td>\n",
       "      <td>$730.52</td>\n",
       "      <td>$5,786.60</td>\n",
       "    </tr>\n",
       "    <tr>\n",
       "      <td>freq</td>\n",
       "      <td>5</td>\n",
       "      <td>3</td>\n",
       "      <td>2</td>\n",
       "      <td>1</td>\n",
       "      <td>13</td>\n",
       "      <td>1</td>\n",
       "      <td>30</td>\n",
       "      <td>1</td>\n",
       "      <td>1</td>\n",
       "    </tr>\n",
       "  </tbody>\n",
       "</table>\n",
       "</div>"
      ],
      "text/plain": [
       "0      Day of the Week Bill Count    Voids Gross Sales Discounts  Net Sales  \\\n",
       "count               30         30       30          30        30         30   \n",
       "unique               7         26       27          30        18         30   \n",
       "top             Friday        103  $140.00   $7,812.00     $0.00  $7,812.00   \n",
       "freq                 5          3        2           1        13          1   \n",
       "\n",
       "0      Menu Item Cost Labor Cost     Margin  \n",
       "count              30         30         30  \n",
       "unique              1         30         30  \n",
       "top             $0.00    $730.52  $5,786.60  \n",
       "freq               30          1          1  "
      ]
     },
     "execution_count": 36,
     "metadata": {},
     "output_type": "execute_result"
    }
   ],
   "source": [
    "data.describe()"
   ]
  },
  {
   "cell_type": "code",
   "execution_count": 37,
   "metadata": {},
   "outputs": [
    {
     "data": {
      "text/html": [
       "<div>\n",
       "<style scoped>\n",
       "    .dataframe tbody tr th:only-of-type {\n",
       "        vertical-align: middle;\n",
       "    }\n",
       "\n",
       "    .dataframe tbody tr th {\n",
       "        vertical-align: top;\n",
       "    }\n",
       "\n",
       "    .dataframe thead th {\n",
       "        text-align: right;\n",
       "    }\n",
       "</style>\n",
       "<table border=\"1\" class=\"dataframe\">\n",
       "  <thead>\n",
       "    <tr style=\"text-align: right;\">\n",
       "      <th></th>\n",
       "      <th>Day of the Week</th>\n",
       "      <th>Bill Count</th>\n",
       "      <th>Voids</th>\n",
       "      <th>Gross Sales</th>\n",
       "      <th>Discounts</th>\n",
       "      <th>Net Sales</th>\n",
       "      <th>Menu Item Cost</th>\n",
       "      <th>Labor Cost</th>\n",
       "      <th>Margin</th>\n",
       "    </tr>\n",
       "  </thead>\n",
       "  <tbody>\n",
       "    <tr>\n",
       "      <td>count</td>\n",
       "      <td>183</td>\n",
       "      <td>183</td>\n",
       "      <td>183</td>\n",
       "      <td>183</td>\n",
       "      <td>183</td>\n",
       "      <td>183</td>\n",
       "      <td>183</td>\n",
       "      <td>183</td>\n",
       "      <td>183</td>\n",
       "    </tr>\n",
       "    <tr>\n",
       "      <td>unique</td>\n",
       "      <td>7</td>\n",
       "      <td>88</td>\n",
       "      <td>135</td>\n",
       "      <td>182</td>\n",
       "      <td>103</td>\n",
       "      <td>179</td>\n",
       "      <td>38</td>\n",
       "      <td>182</td>\n",
       "      <td>182</td>\n",
       "    </tr>\n",
       "    <tr>\n",
       "      <td>top</td>\n",
       "      <td>Monday</td>\n",
       "      <td>82</td>\n",
       "      <td>$86.00</td>\n",
       "      <td>$3,555.00</td>\n",
       "      <td>$0.00</td>\n",
       "      <td>$6,029.00</td>\n",
       "      <td>$0.00</td>\n",
       "      <td>$1,136.97</td>\n",
       "      <td>$3,048.28</td>\n",
       "    </tr>\n",
       "    <tr>\n",
       "      <td>freq</td>\n",
       "      <td>27</td>\n",
       "      <td>8</td>\n",
       "      <td>5</td>\n",
       "      <td>2</td>\n",
       "      <td>70</td>\n",
       "      <td>3</td>\n",
       "      <td>86</td>\n",
       "      <td>2</td>\n",
       "      <td>2</td>\n",
       "    </tr>\n",
       "  </tbody>\n",
       "</table>\n",
       "</div>"
      ],
      "text/plain": [
       "0      Day of the Week Bill Count   Voids Gross Sales Discounts  Net Sales  \\\n",
       "count              183        183     183         183       183        183   \n",
       "unique               7         88     135         182       103        179   \n",
       "top             Monday         82  $86.00   $3,555.00     $0.00  $6,029.00   \n",
       "freq                27          8       5           2        70          3   \n",
       "\n",
       "0      Menu Item Cost Labor Cost     Margin  \n",
       "count             183        183        183  \n",
       "unique             38        182        182  \n",
       "top             $0.00  $1,136.97  $3,048.28  \n",
       "freq               86          2          2  "
      ]
     },
     "execution_count": 37,
     "metadata": {},
     "output_type": "execute_result"
    }
   ],
   "source": [
    "data_2.describe()"
   ]
  },
  {
   "cell_type": "code",
   "execution_count": 38,
   "metadata": {},
   "outputs": [
    {
     "data": {
      "text/plain": [
       "0\n",
       "Margin             0\n",
       "Labor Cost         0\n",
       "Menu Item Cost     0\n",
       "Net Sales          0\n",
       "Discounts          0\n",
       "Gross Sales        0\n",
       "Voids              0\n",
       "Bill Count         0\n",
       "Day of the Week    0\n",
       "dtype: int64"
      ]
     },
     "execution_count": 38,
     "metadata": {},
     "output_type": "execute_result"
    }
   ],
   "source": [
    "data_2.isnull().sum().sort_values(ascending = False)"
   ]
  },
  {
   "cell_type": "code",
   "execution_count": 39,
   "metadata": {},
   "outputs": [
    {
     "data": {
      "text/plain": [
       "0\n",
       "Margin             0\n",
       "Labor Cost         0\n",
       "Menu Item Cost     0\n",
       "Net Sales          0\n",
       "Discounts          0\n",
       "Gross Sales        0\n",
       "Voids              0\n",
       "Bill Count         0\n",
       "Day of the Week    0\n",
       "dtype: int64"
      ]
     },
     "execution_count": 39,
     "metadata": {},
     "output_type": "execute_result"
    }
   ],
   "source": [
    "data.isnull().sum().sort_values(ascending = False)"
   ]
  },
  {
   "cell_type": "code",
   "execution_count": 40,
   "metadata": {},
   "outputs": [
    {
     "data": {
      "text/plain": [
       "0\n",
       "Margin             0\n",
       "Labor Cost         0\n",
       "Menu Item Cost     0\n",
       "Net Sales          0\n",
       "Discounts          0\n",
       "Gross Sales        0\n",
       "Voids              0\n",
       "Bill Count         0\n",
       "Day of the Week    0\n",
       "dtype: int64"
      ]
     },
     "execution_count": 40,
     "metadata": {},
     "output_type": "execute_result"
    }
   ],
   "source": [
    "data_3.isnull().sum().sort_values(ascending = False)"
   ]
  },
  {
   "cell_type": "code",
   "execution_count": 41,
   "metadata": {},
   "outputs": [
    {
     "data": {
      "text/plain": [
       "0\n",
       "Margin             0\n",
       "Labor Cost         0\n",
       "Menu Item Cost     0\n",
       "Net Sales          0\n",
       "Discounts          0\n",
       "Gross Sales        0\n",
       "Voids              0\n",
       "Bill Count         0\n",
       "Day of the Week    0\n",
       "dtype: int64"
      ]
     },
     "execution_count": 41,
     "metadata": {},
     "output_type": "execute_result"
    }
   ],
   "source": [
    "data_4.isnull().sum().sort_values(ascending = False)"
   ]
  },
  {
   "cell_type": "code",
   "execution_count": 42,
   "metadata": {},
   "outputs": [
    {
     "data": {
      "text/plain": [
       "0\n",
       "Margin             0\n",
       "Labor Cost         0\n",
       "Menu Item Cost     0\n",
       "Net Sales          0\n",
       "Discounts          0\n",
       "Gross Sales        0\n",
       "Voids              0\n",
       "Bill Count         0\n",
       "Day of the Week    0\n",
       "dtype: int64"
      ]
     },
     "execution_count": 42,
     "metadata": {},
     "output_type": "execute_result"
    }
   ],
   "source": [
    "data_5.isnull().sum().sort_values(ascending = False)"
   ]
  },
  {
   "cell_type": "code",
   "execution_count": 43,
   "metadata": {},
   "outputs": [
    {
     "data": {
      "text/html": [
       "<div>\n",
       "<style scoped>\n",
       "    .dataframe tbody tr th:only-of-type {\n",
       "        vertical-align: middle;\n",
       "    }\n",
       "\n",
       "    .dataframe tbody tr th {\n",
       "        vertical-align: top;\n",
       "    }\n",
       "\n",
       "    .dataframe thead th {\n",
       "        text-align: right;\n",
       "    }\n",
       "</style>\n",
       "<table border=\"1\" class=\"dataframe\">\n",
       "  <thead>\n",
       "    <tr style=\"text-align: right;\">\n",
       "      <th></th>\n",
       "      <th>Day of the Week</th>\n",
       "      <th>Bill Count</th>\n",
       "      <th>Voids</th>\n",
       "      <th>Gross Sales</th>\n",
       "      <th>Discounts</th>\n",
       "      <th>Net Sales</th>\n",
       "      <th>Menu Item Cost</th>\n",
       "      <th>Labor Cost</th>\n",
       "      <th>Margin</th>\n",
       "    </tr>\n",
       "    <tr>\n",
       "      <th>Date</th>\n",
       "      <th></th>\n",
       "      <th></th>\n",
       "      <th></th>\n",
       "      <th></th>\n",
       "      <th></th>\n",
       "      <th></th>\n",
       "      <th></th>\n",
       "      <th></th>\n",
       "      <th></th>\n",
       "    </tr>\n",
       "  </thead>\n",
       "  <tbody>\n",
       "    <tr>\n",
       "      <td>2018-07-01</td>\n",
       "      <td>Sunday</td>\n",
       "      <td>94</td>\n",
       "      <td>$268.00</td>\n",
       "      <td>$5,132.03</td>\n",
       "      <td>$0.00</td>\n",
       "      <td>$5,132.03</td>\n",
       "      <td>$0.00</td>\n",
       "      <td>$1,316.44</td>\n",
       "      <td>$3,815.59</td>\n",
       "    </tr>\n",
       "    <tr>\n",
       "      <td>2018-07-02</td>\n",
       "      <td>Monday</td>\n",
       "      <td>75</td>\n",
       "      <td>$154.00</td>\n",
       "      <td>$3,904.01</td>\n",
       "      <td>$0.00</td>\n",
       "      <td>$3,904.01</td>\n",
       "      <td>$0.00</td>\n",
       "      <td>$855.73</td>\n",
       "      <td>$3,048.28</td>\n",
       "    </tr>\n",
       "    <tr>\n",
       "      <td>2018-07-03</td>\n",
       "      <td>Tuesday</td>\n",
       "      <td>72</td>\n",
       "      <td>$61.00</td>\n",
       "      <td>$3,555.00</td>\n",
       "      <td>$0.00</td>\n",
       "      <td>$3,555.00</td>\n",
       "      <td>$0.00</td>\n",
       "      <td>$909.48</td>\n",
       "      <td>$2,645.52</td>\n",
       "    </tr>\n",
       "    <tr>\n",
       "      <td>2018-07-04</td>\n",
       "      <td>Wednesday</td>\n",
       "      <td>66</td>\n",
       "      <td>$115.00</td>\n",
       "      <td>$3,027.00</td>\n",
       "      <td>$6.00</td>\n",
       "      <td>$3,021.00</td>\n",
       "      <td>$0.00</td>\n",
       "      <td>$744.24</td>\n",
       "      <td>$2,276.76</td>\n",
       "    </tr>\n",
       "    <tr>\n",
       "      <td>2018-07-05</td>\n",
       "      <td>Thursday</td>\n",
       "      <td>58</td>\n",
       "      <td>$39.00</td>\n",
       "      <td>$2,809.00</td>\n",
       "      <td>$0.00</td>\n",
       "      <td>$2,809.00</td>\n",
       "      <td>$0.00</td>\n",
       "      <td>$1,060.46</td>\n",
       "      <td>$1,748.54</td>\n",
       "    </tr>\n",
       "    <tr>\n",
       "      <td>...</td>\n",
       "      <td>...</td>\n",
       "      <td>...</td>\n",
       "      <td>...</td>\n",
       "      <td>...</td>\n",
       "      <td>...</td>\n",
       "      <td>...</td>\n",
       "      <td>...</td>\n",
       "      <td>...</td>\n",
       "      <td>...</td>\n",
       "    </tr>\n",
       "    <tr>\n",
       "      <td>2018-12-27</td>\n",
       "      <td>Thursday</td>\n",
       "      <td>76</td>\n",
       "      <td>$89.00</td>\n",
       "      <td>$4,706.00</td>\n",
       "      <td>$6.60</td>\n",
       "      <td>$4,699.40</td>\n",
       "      <td>$114.00</td>\n",
       "      <td>$696.53</td>\n",
       "      <td>$3,888.87</td>\n",
       "    </tr>\n",
       "    <tr>\n",
       "      <td>2018-12-28</td>\n",
       "      <td>Friday</td>\n",
       "      <td>82</td>\n",
       "      <td>$100.00</td>\n",
       "      <td>$4,895.00</td>\n",
       "      <td>$10.00</td>\n",
       "      <td>$4,885.00</td>\n",
       "      <td>$72.00</td>\n",
       "      <td>$833.36</td>\n",
       "      <td>$3,979.64</td>\n",
       "    </tr>\n",
       "    <tr>\n",
       "      <td>2018-12-29</td>\n",
       "      <td>Saturday</td>\n",
       "      <td>111</td>\n",
       "      <td>$124.00</td>\n",
       "      <td>$6,307.00</td>\n",
       "      <td>$0.00</td>\n",
       "      <td>$6,307.00</td>\n",
       "      <td>$212.00</td>\n",
       "      <td>$1,244.73</td>\n",
       "      <td>$4,850.27</td>\n",
       "    </tr>\n",
       "    <tr>\n",
       "      <td>2018-12-30</td>\n",
       "      <td>Sunday</td>\n",
       "      <td>94</td>\n",
       "      <td>$227.00</td>\n",
       "      <td>$5,393.00</td>\n",
       "      <td>$10.10</td>\n",
       "      <td>$5,382.90</td>\n",
       "      <td>$48.00</td>\n",
       "      <td>$1,142.10</td>\n",
       "      <td>$4,192.80</td>\n",
       "    </tr>\n",
       "    <tr>\n",
       "      <td>2018-12-31</td>\n",
       "      <td>Monday</td>\n",
       "      <td>72</td>\n",
       "      <td>$123.00</td>\n",
       "      <td>$4,845.00</td>\n",
       "      <td>$0.00</td>\n",
       "      <td>$4,845.00</td>\n",
       "      <td>$84.00</td>\n",
       "      <td>$1,187.05</td>\n",
       "      <td>$3,573.95</td>\n",
       "    </tr>\n",
       "  </tbody>\n",
       "</table>\n",
       "<p>183 rows × 9 columns</p>\n",
       "</div>"
      ],
      "text/plain": [
       "0          Day of the Week Bill Count    Voids Gross Sales Discounts  \\\n",
       "Date                                                                   \n",
       "2018-07-01          Sunday         94  $268.00   $5,132.03     $0.00   \n",
       "2018-07-02          Monday         75  $154.00   $3,904.01     $0.00   \n",
       "2018-07-03         Tuesday         72   $61.00   $3,555.00     $0.00   \n",
       "2018-07-04       Wednesday         66  $115.00   $3,027.00     $6.00   \n",
       "2018-07-05        Thursday         58   $39.00   $2,809.00     $0.00   \n",
       "...                    ...        ...      ...         ...       ...   \n",
       "2018-12-27        Thursday         76   $89.00   $4,706.00     $6.60   \n",
       "2018-12-28          Friday         82  $100.00   $4,895.00    $10.00   \n",
       "2018-12-29        Saturday        111  $124.00   $6,307.00     $0.00   \n",
       "2018-12-30          Sunday         94  $227.00   $5,393.00    $10.10   \n",
       "2018-12-31          Monday         72  $123.00   $4,845.00     $0.00   \n",
       "\n",
       "0           Net Sales Menu Item Cost Labor Cost     Margin  \n",
       "Date                                                        \n",
       "2018-07-01  $5,132.03          $0.00  $1,316.44  $3,815.59  \n",
       "2018-07-02  $3,904.01          $0.00    $855.73  $3,048.28  \n",
       "2018-07-03  $3,555.00          $0.00    $909.48  $2,645.52  \n",
       "2018-07-04  $3,021.00          $0.00    $744.24  $2,276.76  \n",
       "2018-07-05  $2,809.00          $0.00  $1,060.46  $1,748.54  \n",
       "...               ...            ...        ...        ...  \n",
       "2018-12-27  $4,699.40        $114.00    $696.53  $3,888.87  \n",
       "2018-12-28  $4,885.00         $72.00    $833.36  $3,979.64  \n",
       "2018-12-29  $6,307.00        $212.00  $1,244.73  $4,850.27  \n",
       "2018-12-30  $5,382.90         $48.00  $1,142.10  $4,192.80  \n",
       "2018-12-31  $4,845.00         $84.00  $1,187.05  $3,573.95  \n",
       "\n",
       "[183 rows x 9 columns]"
      ]
     },
     "execution_count": 43,
     "metadata": {},
     "output_type": "execute_result"
    }
   ],
   "source": [
    "data_2"
   ]
  },
  {
   "cell_type": "code",
   "execution_count": 44,
   "metadata": {},
   "outputs": [],
   "source": [
    "merge=pd.concat([data,data_2,data_3,data_4,data_5])"
   ]
  },
  {
   "cell_type": "code",
   "execution_count": 45,
   "metadata": {},
   "outputs": [
    {
     "data": {
      "text/plain": [
       "0\n",
       "Day of the Week    object\n",
       "Bill Count         object\n",
       "Voids              object\n",
       "Gross Sales        object\n",
       "Discounts          object\n",
       "Net Sales          object\n",
       "Menu Item Cost     object\n",
       "Labor Cost         object\n",
       "Margin             object\n",
       "dtype: object"
      ]
     },
     "execution_count": 45,
     "metadata": {},
     "output_type": "execute_result"
    }
   ],
   "source": [
    "merge.dtypes"
   ]
  },
  {
   "cell_type": "code",
   "execution_count": 46,
   "metadata": {},
   "outputs": [],
   "source": [
    "t = [\"Voids\", \"Gross Sales\", \"Discounts\", \"Net Sales\", \"Menu Item Cost\", \"Labor Cost\", \"Margin\"]\n"
   ]
  },
  {
   "cell_type": "code",
   "execution_count": 47,
   "metadata": {},
   "outputs": [],
   "source": [
    "merge[t] = merge[t].replace({'\\$': '', ',': ''}, regex=True).astype(float)"
   ]
  },
  {
   "cell_type": "code",
   "execution_count": 48,
   "metadata": {},
   "outputs": [],
   "source": [
    "merge[\"Bill Count\"] = merge[\"Bill Count\"].astype(int)"
   ]
  },
  {
   "cell_type": "code",
   "execution_count": 49,
   "metadata": {
    "scrolled": true
   },
   "outputs": [],
   "source": [
    "merge = pd.concat([merge, pd.get_dummies(merge['Day of the Week'])], axis=1)"
   ]
  },
  {
   "cell_type": "code",
   "execution_count": 50,
   "metadata": {},
   "outputs": [],
   "source": [
    "merge.drop('Day of the Week', axis = 1, inplace = True)"
   ]
  },
  {
   "cell_type": "code",
   "execution_count": 51,
   "metadata": {},
   "outputs": [],
   "source": [
    "merge.sort_index(inplace = True)"
   ]
  },
  {
   "cell_type": "code",
   "execution_count": 52,
   "metadata": {},
   "outputs": [],
   "source": [
    "# merge = np.log(merge)"
   ]
  },
  {
   "cell_type": "code",
   "execution_count": 53,
   "metadata": {},
   "outputs": [],
   "source": [
    "#x_cols = [\"Voids\", \"Discounts\", \"Net Sales\", \"Menu Item Cost\", \"Labor Cost\", \"Margin\", \"Bill Count\",\n",
    "         #\"Friday\", \"Monday\", \"Saturday\", \"Sunday\", \"Thursday\", \"Tuesday\", \"Wednesday\"]"
   ]
  },
  {
   "cell_type": "code",
   "execution_count": 54,
   "metadata": {},
   "outputs": [
    {
     "data": {
      "text/plain": [
       "<matplotlib.axes._subplots.AxesSubplot at 0x130e617d0>"
      ]
     },
     "execution_count": 54,
     "metadata": {},
     "output_type": "execute_result"
    },
    {
     "data": {
      "image/png": "[encoded data removed]",
      "text/plain": [
       "<Figure size 432x288 with 1 Axes>"
      ]
     },
     "metadata": {
      "needs_background": "light"
     },
     "output_type": "display_data"
    }
   ],
   "source": [
    "merge[\"Gross Sales\"].plot(kind = \"hist\")\n",
    "#log transform\n",
    "\n",
    "#train model on log transform (log of gross sales)\n",
    "#once fropecast is done take it and dexponeniate\n",
    "# look at dists of feature if skwed then log transform as well"
   ]
  },
  {
   "cell_type": "code",
   "execution_count": 55,
   "metadata": {},
   "outputs": [
    {
     "data": {
      "text/plain": [
       "4563.761674718196"
      ]
     },
     "execution_count": 55,
     "metadata": {},
     "output_type": "execute_result"
    }
   ],
   "source": [
    "merge[\"Gross Sales\"].mean()"
   ]
  },
  {
   "cell_type": "code",
   "execution_count": null,
   "metadata": {},
   "outputs": [],
   "source": []
  },
  {
   "cell_type": "code",
   "execution_count": null,
   "metadata": {},
   "outputs": [],
   "source": []
  },
  {
   "cell_type": "code",
   "execution_count": null,
   "metadata": {},
   "outputs": [],
   "source": []
  },
  {
   "cell_type": "code",
   "execution_count": null,
   "metadata": {},
   "outputs": [],
   "source": []
  },
  {
   "cell_type": "code",
   "execution_count": 56,
   "metadata": {},
   "outputs": [],
   "source": [
    "def heatmap_numeric_w_dependent_variable(df, dependent_variable):\n",
    "    plt.figure(figsize=(12, 12))\n",
    "    graph = sns.heatmap(df.corr()[[dependent_variable]].sort_values(by=dependent_variable), \n",
    "                    annot=True, \n",
    "                    cmap='coolwarm', \n",
    "                    vmin=-1,\n",
    "                    vmax=1) \n",
    "    return graph"
   ]
  },
  {
   "cell_type": "code",
   "execution_count": 57,
   "metadata": {},
   "outputs": [
    {
     "data": {
      "text/plain": [
       "<matplotlib.axes._subplots.AxesSubplot at 0x110d28e50>"
      ]
     },
     "execution_count": 57,
     "metadata": {},
     "output_type": "execute_result"
    },
    {
     "data": {
      "image/png": "[encoded data removed]",
      "text/plain": [
       "<Figure size 864x864 with 2 Axes>"
      ]
     },
     "metadata": {
      "needs_background": "light"
     },
     "output_type": "display_data"
    }
   ],
   "source": [
    "heatmap_numeric_w_dependent_variable(merge, \"Gross Sales\")"
   ]
  },
  {
   "cell_type": "code",
   "execution_count": 58,
   "metadata": {},
   "outputs": [],
   "source": [
    "x_cols = [\"Net Sales\", \"Margin\"]"
   ]
  },
  {
   "cell_type": "code",
   "execution_count": null,
   "metadata": {},
   "outputs": [],
   "source": []
  },
  {
   "cell_type": "code",
   "execution_count": 59,
   "metadata": {},
   "outputs": [],
   "source": [
    "merge.drop(x_cols, axis = 1, inplace = True)"
   ]
  },
  {
   "cell_type": "code",
   "execution_count": 60,
   "metadata": {},
   "outputs": [],
   "source": [
    "def plot_series(df, cols=None, title='Title', xlab=None, ylab=None, steps=1):\n",
    "    \n",
    "    # Set figure size to be (18, 9).\n",
    "    plt.figure(figsize=(18,9))\n",
    "    \n",
    "    # Iterate through each column name.\n",
    "    for col in cols:\n",
    "            \n",
    "        # Generate a line plot of the column name.\n",
    "        # You only have to specify Y, since our\n",
    "        # index will be a datetime index.\n",
    "        plt.plot(df[col])\n",
    "        \n",
    "    # Generate title and labels.\n",
    "    plt.title(title, fontsize=26)\n",
    "    plt.xlabel(xlab, fontsize=20)\n",
    "    plt.ylabel(ylab, fontsize=20)\n",
    "    \n",
    "    # Enlarge tick marks.\n",
    "    plt.yticks(fontsize=18)\n",
    "    plt.xticks(df.index[0::steps], fontsize=18);"
   ]
  },
  {
   "cell_type": "code",
   "execution_count": 61,
   "metadata": {},
   "outputs": [
    {
     "data": {
      "image/png": "[encoded data removed]",
      "text/plain": [
       "<Figure size 1296x648 with 1 Axes>"
      ]
     },
     "metadata": {
      "needs_background": "light"
     },
     "output_type": "display_data"
    }
   ],
   "source": [
    "plot_series(merge, ['Gross Sales'], title = \"Daily Sales (in thousands)\", steps= 90)"
   ]
  },
  {
   "cell_type": "code",
   "execution_count": 62,
   "metadata": {},
   "outputs": [
    {
     "data": {
      "image/png": "[encoded data removed]",
      "text/plain": [
       "<Figure size 432x288 with 1 Axes>"
      ]
     },
     "metadata": {
      "needs_background": "light"
     },
     "output_type": "display_data"
    }
   ],
   "source": [
    "# Generate plot.\n",
    "plot_acf(merge['Gross Sales'].dropna(), lags=20);"
   ]
  },
  {
   "cell_type": "code",
   "execution_count": 63,
   "metadata": {},
   "outputs": [
    {
     "data": {
      "image/png": "[encoded data removed]",
      "text/plain": [
       "<Figure size 432x288 with 1 Axes>"
      ]
     },
     "metadata": {
      "needs_background": "light"
     },
     "output_type": "display_data"
    }
   ],
   "source": [
    "plot_pacf(merge['Gross Sales'].dropna(), lags=20);"
   ]
  },
  {
   "cell_type": "code",
   "execution_count": 64,
   "metadata": {},
   "outputs": [
    {
     "data": {
      "text/plain": [
       "(-4.413893331869137,\n",
       " 0.0002804708497872855,\n",
       " 14,\n",
       " 606,\n",
       " {'1%': -3.4411869900487906,\n",
       "  '5%': -2.866321181236609,\n",
       "  '10%': -2.569316262893616},\n",
       " 9994.277564875969)"
      ]
     },
     "execution_count": 64,
     "metadata": {},
     "output_type": "execute_result"
    }
   ],
   "source": [
    "# Run ADF test on original (non-differenced!) data.\n",
    "adfuller(merge['Gross Sales'])"
   ]
  },
  {
   "cell_type": "code",
   "execution_count": 65,
   "metadata": {},
   "outputs": [],
   "source": [
    "# Code written by Joseph Nelson.\n",
    "def interpret_dftest(dftest):\n",
    "    dfoutput = pd.Series(dftest[0:2], index=['Test Statistic','p-value'])\n",
    "    return dfoutput"
   ]
  },
  {
   "cell_type": "code",
   "execution_count": 66,
   "metadata": {},
   "outputs": [
    {
     "data": {
      "text/plain": [
       "Test Statistic   -4.413893\n",
       "p-value           0.000280\n",
       "dtype: float64"
      ]
     },
     "execution_count": 66,
     "metadata": {},
     "output_type": "execute_result"
    }
   ],
   "source": [
    "# Run ADF test on original (non-differenced!) data.\n",
    "interpret_dftest(adfuller(merge['Gross Sales']))"
   ]
  },
  {
   "cell_type": "code",
   "execution_count": 67,
   "metadata": {},
   "outputs": [],
   "source": [
    "merge.index = pd.DatetimeIndex(merge.index).to_period('d')"
   ]
  },
  {
   "cell_type": "code",
   "execution_count": 68,
   "metadata": {},
   "outputs": [
    {
     "data": {
      "text/plain": [
       "(621, 13)"
      ]
     },
     "execution_count": 68,
     "metadata": {},
     "output_type": "execute_result"
    }
   ],
   "source": [
    "merge.shape"
   ]
  },
  {
   "cell_type": "code",
   "execution_count": 69,
   "metadata": {},
   "outputs": [
    {
     "data": {
      "text/plain": [
       "217.35"
      ]
     },
     "execution_count": 69,
     "metadata": {},
     "output_type": "execute_result"
    }
   ],
   "source": [
    "621 *.35"
   ]
  },
  {
   "cell_type": "code",
   "execution_count": 70,
   "metadata": {},
   "outputs": [],
   "source": [
    "X_test_exo = merge.iloc[:232,:] #232"
   ]
  },
  {
   "cell_type": "code",
   "execution_count": 71,
   "metadata": {},
   "outputs": [
    {
     "data": {
      "text/html": [
       "<div>\n",
       "<style scoped>\n",
       "    .dataframe tbody tr th:only-of-type {\n",
       "        vertical-align: middle;\n",
       "    }\n",
       "\n",
       "    .dataframe tbody tr th {\n",
       "        vertical-align: top;\n",
       "    }\n",
       "\n",
       "    .dataframe thead th {\n",
       "        text-align: right;\n",
       "    }\n",
       "</style>\n",
       "<table border=\"1\" class=\"dataframe\">\n",
       "  <thead>\n",
       "    <tr style=\"text-align: right;\">\n",
       "      <th></th>\n",
       "      <th>Bill Count</th>\n",
       "      <th>Voids</th>\n",
       "      <th>Gross Sales</th>\n",
       "      <th>Discounts</th>\n",
       "      <th>Menu Item Cost</th>\n",
       "      <th>Labor Cost</th>\n",
       "      <th>Friday</th>\n",
       "      <th>Monday</th>\n",
       "      <th>Saturday</th>\n",
       "      <th>Sunday</th>\n",
       "      <th>Thursday</th>\n",
       "      <th>Tuesday</th>\n",
       "      <th>Wednesday</th>\n",
       "    </tr>\n",
       "    <tr>\n",
       "      <th>Date</th>\n",
       "      <th></th>\n",
       "      <th></th>\n",
       "      <th></th>\n",
       "      <th></th>\n",
       "      <th></th>\n",
       "      <th></th>\n",
       "      <th></th>\n",
       "      <th></th>\n",
       "      <th></th>\n",
       "      <th></th>\n",
       "      <th></th>\n",
       "      <th></th>\n",
       "      <th></th>\n",
       "    </tr>\n",
       "  </thead>\n",
       "  <tbody>\n",
       "    <tr>\n",
       "      <td>2020-02-12</td>\n",
       "      <td>75</td>\n",
       "      <td>0.0</td>\n",
       "      <td>4043.00</td>\n",
       "      <td>42.0</td>\n",
       "      <td>124.0</td>\n",
       "      <td>1341.20</td>\n",
       "      <td>0</td>\n",
       "      <td>0</td>\n",
       "      <td>0</td>\n",
       "      <td>0</td>\n",
       "      <td>0</td>\n",
       "      <td>0</td>\n",
       "      <td>1</td>\n",
       "    </tr>\n",
       "    <tr>\n",
       "      <td>2020-02-13</td>\n",
       "      <td>81</td>\n",
       "      <td>50.0</td>\n",
       "      <td>4754.50</td>\n",
       "      <td>0.0</td>\n",
       "      <td>36.0</td>\n",
       "      <td>1654.26</td>\n",
       "      <td>0</td>\n",
       "      <td>0</td>\n",
       "      <td>0</td>\n",
       "      <td>0</td>\n",
       "      <td>1</td>\n",
       "      <td>0</td>\n",
       "      <td>0</td>\n",
       "    </tr>\n",
       "    <tr>\n",
       "      <td>2020-02-14</td>\n",
       "      <td>162</td>\n",
       "      <td>93.0</td>\n",
       "      <td>10207.01</td>\n",
       "      <td>11.5</td>\n",
       "      <td>350.0</td>\n",
       "      <td>2271.43</td>\n",
       "      <td>1</td>\n",
       "      <td>0</td>\n",
       "      <td>0</td>\n",
       "      <td>0</td>\n",
       "      <td>0</td>\n",
       "      <td>0</td>\n",
       "      <td>0</td>\n",
       "    </tr>\n",
       "    <tr>\n",
       "      <td>2020-02-15</td>\n",
       "      <td>135</td>\n",
       "      <td>146.0</td>\n",
       "      <td>8752.00</td>\n",
       "      <td>0.0</td>\n",
       "      <td>94.0</td>\n",
       "      <td>2348.01</td>\n",
       "      <td>0</td>\n",
       "      <td>0</td>\n",
       "      <td>1</td>\n",
       "      <td>0</td>\n",
       "      <td>0</td>\n",
       "      <td>0</td>\n",
       "      <td>0</td>\n",
       "    </tr>\n",
       "    <tr>\n",
       "      <td>2020-02-16</td>\n",
       "      <td>113</td>\n",
       "      <td>148.0</td>\n",
       "      <td>6465.00</td>\n",
       "      <td>19.8</td>\n",
       "      <td>370.0</td>\n",
       "      <td>2278.74</td>\n",
       "      <td>0</td>\n",
       "      <td>0</td>\n",
       "      <td>0</td>\n",
       "      <td>1</td>\n",
       "      <td>0</td>\n",
       "      <td>0</td>\n",
       "      <td>0</td>\n",
       "    </tr>\n",
       "  </tbody>\n",
       "</table>\n",
       "</div>"
      ],
      "text/plain": [
       "            Bill Count  Voids  Gross Sales  Discounts  Menu Item Cost  \\\n",
       "Date                                                                    \n",
       "2020-02-12          75    0.0      4043.00       42.0           124.0   \n",
       "2020-02-13          81   50.0      4754.50        0.0            36.0   \n",
       "2020-02-14         162   93.0     10207.01       11.5           350.0   \n",
       "2020-02-15         135  146.0      8752.00        0.0            94.0   \n",
       "2020-02-16         113  148.0      6465.00       19.8           370.0   \n",
       "\n",
       "            Labor Cost  Friday  Monday  Saturday  Sunday  Thursday  Tuesday  \\\n",
       "Date                                                                          \n",
       "2020-02-12     1341.20       0       0         0       0         0        0   \n",
       "2020-02-13     1654.26       0       0         0       0         1        0   \n",
       "2020-02-14     2271.43       1       0         0       0         0        0   \n",
       "2020-02-15     2348.01       0       0         1       0         0        0   \n",
       "2020-02-16     2278.74       0       0         0       1         0        0   \n",
       "\n",
       "            Wednesday  \n",
       "Date                   \n",
       "2020-02-12          1  \n",
       "2020-02-13          0  \n",
       "2020-02-14          0  \n",
       "2020-02-15          0  \n",
       "2020-02-16          0  "
      ]
     },
     "execution_count": 71,
     "metadata": {},
     "output_type": "execute_result"
    }
   ],
   "source": [
    "merge.tail()"
   ]
  },
  {
   "cell_type": "code",
   "execution_count": 72,
   "metadata": {},
   "outputs": [
    {
     "data": {
      "text/plain": [
       "(232, 13)"
      ]
     },
     "execution_count": 72,
     "metadata": {},
     "output_type": "execute_result"
    }
   ],
   "source": [
    "X_test_exo.shape"
   ]
  },
  {
   "cell_type": "code",
   "execution_count": 73,
   "metadata": {},
   "outputs": [],
   "source": [
    "X_train_exo = merge.iloc[:404:]"
   ]
  },
  {
   "cell_type": "code",
   "execution_count": 74,
   "metadata": {},
   "outputs": [],
   "source": [
    "X_train = X_train_exo.drop(\"Gross Sales\", axis = 1)"
   ]
  },
  {
   "cell_type": "code",
   "execution_count": 75,
   "metadata": {},
   "outputs": [],
   "source": [
    "X_test = X_test_exo.drop(\"Gross Sales\", axis = 1)"
   ]
  },
  {
   "cell_type": "code",
   "execution_count": 76,
   "metadata": {},
   "outputs": [],
   "source": [
    "y_train = X_train_exo['Gross Sales']"
   ]
  },
  {
   "cell_type": "code",
   "execution_count": 77,
   "metadata": {},
   "outputs": [
    {
     "data": {
      "text/plain": [
       "(232, 12)"
      ]
     },
     "execution_count": 77,
     "metadata": {},
     "output_type": "execute_result"
    }
   ],
   "source": [
    "X_test.shape"
   ]
  },
  {
   "cell_type": "code",
   "execution_count": 78,
   "metadata": {},
   "outputs": [],
   "source": [
    "y_test = X_test_exo['Gross Sales']"
   ]
  },
  {
   "cell_type": "code",
   "execution_count": 79,
   "metadata": {},
   "outputs": [
    {
     "data": {
      "text/plain": [
       "Date\n",
       "2018-06-01    6432.02\n",
       "2018-06-02    7812.00\n",
       "2018-06-03    5772.00\n",
       "2018-06-04    5085.00\n",
       "2018-06-05    4568.00\n",
       "               ...   \n",
       "2019-07-06    4645.00\n",
       "2019-07-07    4198.00\n",
       "2019-07-08    2704.00\n",
       "2019-07-09    2683.00\n",
       "2019-07-10    4178.00\n",
       "Freq: D, Name: Gross Sales, Length: 404, dtype: float64"
      ]
     },
     "execution_count": 79,
     "metadata": {},
     "output_type": "execute_result"
    }
   ],
   "source": [
    "y_train"
   ]
  },
  {
   "cell_type": "code",
   "execution_count": 80,
   "metadata": {},
   "outputs": [
    {
     "data": {
      "text/plain": [
       "(232, 12)"
      ]
     },
     "execution_count": 80,
     "metadata": {},
     "output_type": "execute_result"
    }
   ],
   "source": [
    "X_test.shape"
   ]
  },
  {
   "cell_type": "code",
   "execution_count": 81,
   "metadata": {},
   "outputs": [
    {
     "data": {
      "text/plain": [
       "Date\n",
       "2018-06-01    6432.02\n",
       "2018-06-02    7812.00\n",
       "2018-06-03    5772.00\n",
       "2018-06-04    5085.00\n",
       "2018-06-05    4568.00\n",
       "               ...   \n",
       "2019-07-06    4645.00\n",
       "2019-07-07    4198.00\n",
       "2019-07-08    2704.00\n",
       "2019-07-09    2683.00\n",
       "2019-07-10    4178.00\n",
       "Freq: D, Name: Gross Sales, Length: 404, dtype: float64"
      ]
     },
     "execution_count": 81,
     "metadata": {},
     "output_type": "execute_result"
    }
   ],
   "source": [
    "y_train"
   ]
  },
  {
   "cell_type": "code",
   "execution_count": 82,
   "metadata": {
    "scrolled": true
   },
   "outputs": [
    {
     "data": {
      "text/html": [
       "<div>\n",
       "<style scoped>\n",
       "    .dataframe tbody tr th:only-of-type {\n",
       "        vertical-align: middle;\n",
       "    }\n",
       "\n",
       "    .dataframe tbody tr th {\n",
       "        vertical-align: top;\n",
       "    }\n",
       "\n",
       "    .dataframe thead th {\n",
       "        text-align: right;\n",
       "    }\n",
       "</style>\n",
       "<table border=\"1\" class=\"dataframe\">\n",
       "  <thead>\n",
       "    <tr style=\"text-align: right;\">\n",
       "      <th></th>\n",
       "      <th>Bill Count</th>\n",
       "      <th>Voids</th>\n",
       "      <th>Discounts</th>\n",
       "      <th>Menu Item Cost</th>\n",
       "      <th>Labor Cost</th>\n",
       "      <th>Friday</th>\n",
       "      <th>Monday</th>\n",
       "      <th>Saturday</th>\n",
       "      <th>Sunday</th>\n",
       "      <th>Thursday</th>\n",
       "      <th>Tuesday</th>\n",
       "      <th>Wednesday</th>\n",
       "    </tr>\n",
       "    <tr>\n",
       "      <th>Date</th>\n",
       "      <th></th>\n",
       "      <th></th>\n",
       "      <th></th>\n",
       "      <th></th>\n",
       "      <th></th>\n",
       "      <th></th>\n",
       "      <th></th>\n",
       "      <th></th>\n",
       "      <th></th>\n",
       "      <th></th>\n",
       "      <th></th>\n",
       "      <th></th>\n",
       "    </tr>\n",
       "  </thead>\n",
       "  <tbody>\n",
       "    <tr>\n",
       "      <td>2019-07-06</td>\n",
       "      <td>87</td>\n",
       "      <td>34.0</td>\n",
       "      <td>22.0</td>\n",
       "      <td>48.0</td>\n",
       "      <td>1257.62</td>\n",
       "      <td>0</td>\n",
       "      <td>0</td>\n",
       "      <td>1</td>\n",
       "      <td>0</td>\n",
       "      <td>0</td>\n",
       "      <td>0</td>\n",
       "      <td>0</td>\n",
       "    </tr>\n",
       "    <tr>\n",
       "      <td>2019-07-07</td>\n",
       "      <td>90</td>\n",
       "      <td>110.0</td>\n",
       "      <td>9.0</td>\n",
       "      <td>0.0</td>\n",
       "      <td>1148.75</td>\n",
       "      <td>0</td>\n",
       "      <td>0</td>\n",
       "      <td>0</td>\n",
       "      <td>1</td>\n",
       "      <td>0</td>\n",
       "      <td>0</td>\n",
       "      <td>0</td>\n",
       "    </tr>\n",
       "    <tr>\n",
       "      <td>2019-07-08</td>\n",
       "      <td>54</td>\n",
       "      <td>0.0</td>\n",
       "      <td>54.5</td>\n",
       "      <td>0.0</td>\n",
       "      <td>912.43</td>\n",
       "      <td>0</td>\n",
       "      <td>1</td>\n",
       "      <td>0</td>\n",
       "      <td>0</td>\n",
       "      <td>0</td>\n",
       "      <td>0</td>\n",
       "      <td>0</td>\n",
       "    </tr>\n",
       "    <tr>\n",
       "      <td>2019-07-09</td>\n",
       "      <td>59</td>\n",
       "      <td>11.0</td>\n",
       "      <td>63.5</td>\n",
       "      <td>228.0</td>\n",
       "      <td>688.60</td>\n",
       "      <td>0</td>\n",
       "      <td>0</td>\n",
       "      <td>0</td>\n",
       "      <td>0</td>\n",
       "      <td>0</td>\n",
       "      <td>1</td>\n",
       "      <td>0</td>\n",
       "    </tr>\n",
       "    <tr>\n",
       "      <td>2019-07-10</td>\n",
       "      <td>88</td>\n",
       "      <td>93.0</td>\n",
       "      <td>31.5</td>\n",
       "      <td>96.0</td>\n",
       "      <td>1043.75</td>\n",
       "      <td>0</td>\n",
       "      <td>0</td>\n",
       "      <td>0</td>\n",
       "      <td>0</td>\n",
       "      <td>0</td>\n",
       "      <td>0</td>\n",
       "      <td>1</td>\n",
       "    </tr>\n",
       "  </tbody>\n",
       "</table>\n",
       "</div>"
      ],
      "text/plain": [
       "            Bill Count  Voids  Discounts  Menu Item Cost  Labor Cost  Friday  \\\n",
       "Date                                                                           \n",
       "2019-07-06          87   34.0       22.0            48.0     1257.62       0   \n",
       "2019-07-07          90  110.0        9.0             0.0     1148.75       0   \n",
       "2019-07-08          54    0.0       54.5             0.0      912.43       0   \n",
       "2019-07-09          59   11.0       63.5           228.0      688.60       0   \n",
       "2019-07-10          88   93.0       31.5            96.0     1043.75       0   \n",
       "\n",
       "            Monday  Saturday  Sunday  Thursday  Tuesday  Wednesday  \n",
       "Date                                                                \n",
       "2019-07-06       0         1       0         0        0          0  \n",
       "2019-07-07       0         0       1         0        0          0  \n",
       "2019-07-08       1         0       0         0        0          0  \n",
       "2019-07-09       0         0       0         0        1          0  \n",
       "2019-07-10       0         0       0         0        0          1  "
      ]
     },
     "execution_count": 82,
     "metadata": {},
     "output_type": "execute_result"
    }
   ],
   "source": [
    "X_train.tail()"
   ]
  },
  {
   "cell_type": "code",
   "execution_count": 83,
   "metadata": {},
   "outputs": [],
   "source": [
    "# Define the p, d and q parameters to take any value between 0 and 2\n",
    "p = d = q = range(0, 2)\n",
    "\n",
    "# Generate all different combinations of p, q and q triplets\n",
    "pdq = list(itertools.product(p, d, q))\n",
    "\n",
    "# Generate all different combinations of seasonal p, q and q triplets\n",
    "seasonal_pdq = [(x[0], x[1], x[2], 12) for x in list(itertools.product(p, d, q))]"
   ]
  },
  {
   "cell_type": "code",
   "execution_count": 84,
   "metadata": {},
   "outputs": [],
   "source": [
    "# for param in pdq:\n",
    "#     for param_seasonal in seasonal_pdq:\n",
    "#         try:\n",
    "#             mod = SARIMAX(y_train,\n",
    "#                                             order=param,\n",
    "#                                             seasonal_order=param_seasonal,\n",
    "#                                             enforce_stationarity=False,\n",
    "#                                             enforce_invertibility=False)\n",
    "\n",
    "#             results = mod.fit()\n",
    "\n",
    "#             print('ARIMA{}x{}12 - AIC:{}'.format(param, param_seasonal, results.aic))\n",
    "#         except:\n",
    "#             continue"
   ]
  },
  {
   "cell_type": "code",
   "execution_count": 85,
   "metadata": {},
   "outputs": [],
   "source": [
    "# X_test = np.log(X_test)"
   ]
  },
  {
   "cell_type": "code",
   "execution_count": 86,
   "metadata": {},
   "outputs": [],
   "source": [
    "# y_test = np.log(y_test)"
   ]
  },
  {
   "cell_type": "code",
   "execution_count": 87,
   "metadata": {},
   "outputs": [
    {
     "data": {
      "text/html": [
       "<div>\n",
       "<style scoped>\n",
       "    .dataframe tbody tr th:only-of-type {\n",
       "        vertical-align: middle;\n",
       "    }\n",
       "\n",
       "    .dataframe tbody tr th {\n",
       "        vertical-align: top;\n",
       "    }\n",
       "\n",
       "    .dataframe thead th {\n",
       "        text-align: right;\n",
       "    }\n",
       "</style>\n",
       "<table border=\"1\" class=\"dataframe\">\n",
       "  <thead>\n",
       "    <tr style=\"text-align: right;\">\n",
       "      <th></th>\n",
       "      <th>Bill Count</th>\n",
       "      <th>Voids</th>\n",
       "      <th>Discounts</th>\n",
       "      <th>Menu Item Cost</th>\n",
       "      <th>Labor Cost</th>\n",
       "      <th>Friday</th>\n",
       "      <th>Monday</th>\n",
       "      <th>Saturday</th>\n",
       "      <th>Sunday</th>\n",
       "      <th>Thursday</th>\n",
       "      <th>Tuesday</th>\n",
       "      <th>Wednesday</th>\n",
       "    </tr>\n",
       "    <tr>\n",
       "      <th>Date</th>\n",
       "      <th></th>\n",
       "      <th></th>\n",
       "      <th></th>\n",
       "      <th></th>\n",
       "      <th></th>\n",
       "      <th></th>\n",
       "      <th></th>\n",
       "      <th></th>\n",
       "      <th></th>\n",
       "      <th></th>\n",
       "      <th></th>\n",
       "      <th></th>\n",
       "    </tr>\n",
       "  </thead>\n",
       "  <tbody>\n",
       "    <tr>\n",
       "      <td>2018-06-01</td>\n",
       "      <td>103</td>\n",
       "      <td>144.0</td>\n",
       "      <td>0.00</td>\n",
       "      <td>0.0</td>\n",
       "      <td>918.64</td>\n",
       "      <td>1</td>\n",
       "      <td>0</td>\n",
       "      <td>0</td>\n",
       "      <td>0</td>\n",
       "      <td>0</td>\n",
       "      <td>0</td>\n",
       "      <td>0</td>\n",
       "    </tr>\n",
       "    <tr>\n",
       "      <td>2018-06-02</td>\n",
       "      <td>142</td>\n",
       "      <td>478.0</td>\n",
       "      <td>0.00</td>\n",
       "      <td>0.0</td>\n",
       "      <td>1539.21</td>\n",
       "      <td>0</td>\n",
       "      <td>0</td>\n",
       "      <td>1</td>\n",
       "      <td>0</td>\n",
       "      <td>0</td>\n",
       "      <td>0</td>\n",
       "      <td>0</td>\n",
       "    </tr>\n",
       "    <tr>\n",
       "      <td>2018-06-03</td>\n",
       "      <td>110</td>\n",
       "      <td>185.0</td>\n",
       "      <td>52.75</td>\n",
       "      <td>0.0</td>\n",
       "      <td>1249.21</td>\n",
       "      <td>0</td>\n",
       "      <td>0</td>\n",
       "      <td>0</td>\n",
       "      <td>1</td>\n",
       "      <td>0</td>\n",
       "      <td>0</td>\n",
       "      <td>0</td>\n",
       "    </tr>\n",
       "    <tr>\n",
       "      <td>2018-06-04</td>\n",
       "      <td>108</td>\n",
       "      <td>28.0</td>\n",
       "      <td>0.00</td>\n",
       "      <td>0.0</td>\n",
       "      <td>1252.86</td>\n",
       "      <td>0</td>\n",
       "      <td>1</td>\n",
       "      <td>0</td>\n",
       "      <td>0</td>\n",
       "      <td>0</td>\n",
       "      <td>0</td>\n",
       "      <td>0</td>\n",
       "    </tr>\n",
       "    <tr>\n",
       "      <td>2018-06-05</td>\n",
       "      <td>68</td>\n",
       "      <td>134.0</td>\n",
       "      <td>18.00</td>\n",
       "      <td>0.0</td>\n",
       "      <td>842.49</td>\n",
       "      <td>0</td>\n",
       "      <td>0</td>\n",
       "      <td>0</td>\n",
       "      <td>0</td>\n",
       "      <td>0</td>\n",
       "      <td>1</td>\n",
       "      <td>0</td>\n",
       "    </tr>\n",
       "    <tr>\n",
       "      <td>...</td>\n",
       "      <td>...</td>\n",
       "      <td>...</td>\n",
       "      <td>...</td>\n",
       "      <td>...</td>\n",
       "      <td>...</td>\n",
       "      <td>...</td>\n",
       "      <td>...</td>\n",
       "      <td>...</td>\n",
       "      <td>...</td>\n",
       "      <td>...</td>\n",
       "      <td>...</td>\n",
       "      <td>...</td>\n",
       "    </tr>\n",
       "    <tr>\n",
       "      <td>2019-07-06</td>\n",
       "      <td>87</td>\n",
       "      <td>34.0</td>\n",
       "      <td>22.00</td>\n",
       "      <td>48.0</td>\n",
       "      <td>1257.62</td>\n",
       "      <td>0</td>\n",
       "      <td>0</td>\n",
       "      <td>1</td>\n",
       "      <td>0</td>\n",
       "      <td>0</td>\n",
       "      <td>0</td>\n",
       "      <td>0</td>\n",
       "    </tr>\n",
       "    <tr>\n",
       "      <td>2019-07-07</td>\n",
       "      <td>90</td>\n",
       "      <td>110.0</td>\n",
       "      <td>9.00</td>\n",
       "      <td>0.0</td>\n",
       "      <td>1148.75</td>\n",
       "      <td>0</td>\n",
       "      <td>0</td>\n",
       "      <td>0</td>\n",
       "      <td>1</td>\n",
       "      <td>0</td>\n",
       "      <td>0</td>\n",
       "      <td>0</td>\n",
       "    </tr>\n",
       "    <tr>\n",
       "      <td>2019-07-08</td>\n",
       "      <td>54</td>\n",
       "      <td>0.0</td>\n",
       "      <td>54.50</td>\n",
       "      <td>0.0</td>\n",
       "      <td>912.43</td>\n",
       "      <td>0</td>\n",
       "      <td>1</td>\n",
       "      <td>0</td>\n",
       "      <td>0</td>\n",
       "      <td>0</td>\n",
       "      <td>0</td>\n",
       "      <td>0</td>\n",
       "    </tr>\n",
       "    <tr>\n",
       "      <td>2019-07-09</td>\n",
       "      <td>59</td>\n",
       "      <td>11.0</td>\n",
       "      <td>63.50</td>\n",
       "      <td>228.0</td>\n",
       "      <td>688.60</td>\n",
       "      <td>0</td>\n",
       "      <td>0</td>\n",
       "      <td>0</td>\n",
       "      <td>0</td>\n",
       "      <td>0</td>\n",
       "      <td>1</td>\n",
       "      <td>0</td>\n",
       "    </tr>\n",
       "    <tr>\n",
       "      <td>2019-07-10</td>\n",
       "      <td>88</td>\n",
       "      <td>93.0</td>\n",
       "      <td>31.50</td>\n",
       "      <td>96.0</td>\n",
       "      <td>1043.75</td>\n",
       "      <td>0</td>\n",
       "      <td>0</td>\n",
       "      <td>0</td>\n",
       "      <td>0</td>\n",
       "      <td>0</td>\n",
       "      <td>0</td>\n",
       "      <td>1</td>\n",
       "    </tr>\n",
       "  </tbody>\n",
       "</table>\n",
       "<p>404 rows × 12 columns</p>\n",
       "</div>"
      ],
      "text/plain": [
       "            Bill Count  Voids  Discounts  Menu Item Cost  Labor Cost  Friday  \\\n",
       "Date                                                                           \n",
       "2018-06-01         103  144.0       0.00             0.0      918.64       1   \n",
       "2018-06-02         142  478.0       0.00             0.0     1539.21       0   \n",
       "2018-06-03         110  185.0      52.75             0.0     1249.21       0   \n",
       "2018-06-04         108   28.0       0.00             0.0     1252.86       0   \n",
       "2018-06-05          68  134.0      18.00             0.0      842.49       0   \n",
       "...                ...    ...        ...             ...         ...     ...   \n",
       "2019-07-06          87   34.0      22.00            48.0     1257.62       0   \n",
       "2019-07-07          90  110.0       9.00             0.0     1148.75       0   \n",
       "2019-07-08          54    0.0      54.50             0.0      912.43       0   \n",
       "2019-07-09          59   11.0      63.50           228.0      688.60       0   \n",
       "2019-07-10          88   93.0      31.50            96.0     1043.75       0   \n",
       "\n",
       "            Monday  Saturday  Sunday  Thursday  Tuesday  Wednesday  \n",
       "Date                                                                \n",
       "2018-06-01       0         0       0         0        0          0  \n",
       "2018-06-02       0         1       0         0        0          0  \n",
       "2018-06-03       0         0       1         0        0          0  \n",
       "2018-06-04       1         0       0         0        0          0  \n",
       "2018-06-05       0         0       0         0        1          0  \n",
       "...            ...       ...     ...       ...      ...        ...  \n",
       "2019-07-06       0         1       0         0        0          0  \n",
       "2019-07-07       0         0       1         0        0          0  \n",
       "2019-07-08       1         0       0         0        0          0  \n",
       "2019-07-09       0         0       0         0        1          0  \n",
       "2019-07-10       0         0       0         0        0          1  \n",
       "\n",
       "[404 rows x 12 columns]"
      ]
     },
     "execution_count": 87,
     "metadata": {},
     "output_type": "execute_result"
    }
   ],
   "source": [
    "X_train"
   ]
  },
  {
   "cell_type": "code",
   "execution_count": 88,
   "metadata": {},
   "outputs": [],
   "source": [
    "# X_train.replace(0, .0001, inplace = True)"
   ]
  },
  {
   "cell_type": "code",
   "execution_count": 89,
   "metadata": {},
   "outputs": [],
   "source": [
    "# X_train.replace(0, 1, inplace = True)"
   ]
  },
  {
   "cell_type": "code",
   "execution_count": 90,
   "metadata": {},
   "outputs": [],
   "source": [
    "# X_train.replace(-9.21034, 0, inplace = True)"
   ]
  },
  {
   "cell_type": "code",
   "execution_count": 91,
   "metadata": {},
   "outputs": [],
   "source": [
    "# X_train = np.log(X_train)"
   ]
  },
  {
   "cell_type": "code",
   "execution_count": 92,
   "metadata": {},
   "outputs": [
    {
     "data": {
      "text/html": [
       "<div>\n",
       "<style scoped>\n",
       "    .dataframe tbody tr th:only-of-type {\n",
       "        vertical-align: middle;\n",
       "    }\n",
       "\n",
       "    .dataframe tbody tr th {\n",
       "        vertical-align: top;\n",
       "    }\n",
       "\n",
       "    .dataframe thead th {\n",
       "        text-align: right;\n",
       "    }\n",
       "</style>\n",
       "<table border=\"1\" class=\"dataframe\">\n",
       "  <thead>\n",
       "    <tr style=\"text-align: right;\">\n",
       "      <th></th>\n",
       "      <th>Bill Count</th>\n",
       "      <th>Voids</th>\n",
       "      <th>Discounts</th>\n",
       "      <th>Menu Item Cost</th>\n",
       "      <th>Labor Cost</th>\n",
       "      <th>Friday</th>\n",
       "      <th>Monday</th>\n",
       "      <th>Saturday</th>\n",
       "      <th>Sunday</th>\n",
       "      <th>Thursday</th>\n",
       "      <th>Tuesday</th>\n",
       "      <th>Wednesday</th>\n",
       "    </tr>\n",
       "    <tr>\n",
       "      <th>Date</th>\n",
       "      <th></th>\n",
       "      <th></th>\n",
       "      <th></th>\n",
       "      <th></th>\n",
       "      <th></th>\n",
       "      <th></th>\n",
       "      <th></th>\n",
       "      <th></th>\n",
       "      <th></th>\n",
       "      <th></th>\n",
       "      <th></th>\n",
       "      <th></th>\n",
       "    </tr>\n",
       "  </thead>\n",
       "  <tbody>\n",
       "    <tr>\n",
       "      <td>2018-06-01</td>\n",
       "      <td>103</td>\n",
       "      <td>144.0</td>\n",
       "      <td>0.00</td>\n",
       "      <td>0.0</td>\n",
       "      <td>918.64</td>\n",
       "      <td>1</td>\n",
       "      <td>0</td>\n",
       "      <td>0</td>\n",
       "      <td>0</td>\n",
       "      <td>0</td>\n",
       "      <td>0</td>\n",
       "      <td>0</td>\n",
       "    </tr>\n",
       "    <tr>\n",
       "      <td>2018-06-02</td>\n",
       "      <td>142</td>\n",
       "      <td>478.0</td>\n",
       "      <td>0.00</td>\n",
       "      <td>0.0</td>\n",
       "      <td>1539.21</td>\n",
       "      <td>0</td>\n",
       "      <td>0</td>\n",
       "      <td>1</td>\n",
       "      <td>0</td>\n",
       "      <td>0</td>\n",
       "      <td>0</td>\n",
       "      <td>0</td>\n",
       "    </tr>\n",
       "    <tr>\n",
       "      <td>2018-06-03</td>\n",
       "      <td>110</td>\n",
       "      <td>185.0</td>\n",
       "      <td>52.75</td>\n",
       "      <td>0.0</td>\n",
       "      <td>1249.21</td>\n",
       "      <td>0</td>\n",
       "      <td>0</td>\n",
       "      <td>0</td>\n",
       "      <td>1</td>\n",
       "      <td>0</td>\n",
       "      <td>0</td>\n",
       "      <td>0</td>\n",
       "    </tr>\n",
       "    <tr>\n",
       "      <td>2018-06-04</td>\n",
       "      <td>108</td>\n",
       "      <td>28.0</td>\n",
       "      <td>0.00</td>\n",
       "      <td>0.0</td>\n",
       "      <td>1252.86</td>\n",
       "      <td>0</td>\n",
       "      <td>1</td>\n",
       "      <td>0</td>\n",
       "      <td>0</td>\n",
       "      <td>0</td>\n",
       "      <td>0</td>\n",
       "      <td>0</td>\n",
       "    </tr>\n",
       "    <tr>\n",
       "      <td>2018-06-05</td>\n",
       "      <td>68</td>\n",
       "      <td>134.0</td>\n",
       "      <td>18.00</td>\n",
       "      <td>0.0</td>\n",
       "      <td>842.49</td>\n",
       "      <td>0</td>\n",
       "      <td>0</td>\n",
       "      <td>0</td>\n",
       "      <td>0</td>\n",
       "      <td>0</td>\n",
       "      <td>1</td>\n",
       "      <td>0</td>\n",
       "    </tr>\n",
       "    <tr>\n",
       "      <td>...</td>\n",
       "      <td>...</td>\n",
       "      <td>...</td>\n",
       "      <td>...</td>\n",
       "      <td>...</td>\n",
       "      <td>...</td>\n",
       "      <td>...</td>\n",
       "      <td>...</td>\n",
       "      <td>...</td>\n",
       "      <td>...</td>\n",
       "      <td>...</td>\n",
       "      <td>...</td>\n",
       "      <td>...</td>\n",
       "    </tr>\n",
       "    <tr>\n",
       "      <td>2019-07-06</td>\n",
       "      <td>87</td>\n",
       "      <td>34.0</td>\n",
       "      <td>22.00</td>\n",
       "      <td>48.0</td>\n",
       "      <td>1257.62</td>\n",
       "      <td>0</td>\n",
       "      <td>0</td>\n",
       "      <td>1</td>\n",
       "      <td>0</td>\n",
       "      <td>0</td>\n",
       "      <td>0</td>\n",
       "      <td>0</td>\n",
       "    </tr>\n",
       "    <tr>\n",
       "      <td>2019-07-07</td>\n",
       "      <td>90</td>\n",
       "      <td>110.0</td>\n",
       "      <td>9.00</td>\n",
       "      <td>0.0</td>\n",
       "      <td>1148.75</td>\n",
       "      <td>0</td>\n",
       "      <td>0</td>\n",
       "      <td>0</td>\n",
       "      <td>1</td>\n",
       "      <td>0</td>\n",
       "      <td>0</td>\n",
       "      <td>0</td>\n",
       "    </tr>\n",
       "    <tr>\n",
       "      <td>2019-07-08</td>\n",
       "      <td>54</td>\n",
       "      <td>0.0</td>\n",
       "      <td>54.50</td>\n",
       "      <td>0.0</td>\n",
       "      <td>912.43</td>\n",
       "      <td>0</td>\n",
       "      <td>1</td>\n",
       "      <td>0</td>\n",
       "      <td>0</td>\n",
       "      <td>0</td>\n",
       "      <td>0</td>\n",
       "      <td>0</td>\n",
       "    </tr>\n",
       "    <tr>\n",
       "      <td>2019-07-09</td>\n",
       "      <td>59</td>\n",
       "      <td>11.0</td>\n",
       "      <td>63.50</td>\n",
       "      <td>228.0</td>\n",
       "      <td>688.60</td>\n",
       "      <td>0</td>\n",
       "      <td>0</td>\n",
       "      <td>0</td>\n",
       "      <td>0</td>\n",
       "      <td>0</td>\n",
       "      <td>1</td>\n",
       "      <td>0</td>\n",
       "    </tr>\n",
       "    <tr>\n",
       "      <td>2019-07-10</td>\n",
       "      <td>88</td>\n",
       "      <td>93.0</td>\n",
       "      <td>31.50</td>\n",
       "      <td>96.0</td>\n",
       "      <td>1043.75</td>\n",
       "      <td>0</td>\n",
       "      <td>0</td>\n",
       "      <td>0</td>\n",
       "      <td>0</td>\n",
       "      <td>0</td>\n",
       "      <td>0</td>\n",
       "      <td>1</td>\n",
       "    </tr>\n",
       "  </tbody>\n",
       "</table>\n",
       "<p>404 rows × 12 columns</p>\n",
       "</div>"
      ],
      "text/plain": [
       "            Bill Count  Voids  Discounts  Menu Item Cost  Labor Cost  Friday  \\\n",
       "Date                                                                           \n",
       "2018-06-01         103  144.0       0.00             0.0      918.64       1   \n",
       "2018-06-02         142  478.0       0.00             0.0     1539.21       0   \n",
       "2018-06-03         110  185.0      52.75             0.0     1249.21       0   \n",
       "2018-06-04         108   28.0       0.00             0.0     1252.86       0   \n",
       "2018-06-05          68  134.0      18.00             0.0      842.49       0   \n",
       "...                ...    ...        ...             ...         ...     ...   \n",
       "2019-07-06          87   34.0      22.00            48.0     1257.62       0   \n",
       "2019-07-07          90  110.0       9.00             0.0     1148.75       0   \n",
       "2019-07-08          54    0.0      54.50             0.0      912.43       0   \n",
       "2019-07-09          59   11.0      63.50           228.0      688.60       0   \n",
       "2019-07-10          88   93.0      31.50            96.0     1043.75       0   \n",
       "\n",
       "            Monday  Saturday  Sunday  Thursday  Tuesday  Wednesday  \n",
       "Date                                                                \n",
       "2018-06-01       0         0       0         0        0          0  \n",
       "2018-06-02       0         1       0         0        0          0  \n",
       "2018-06-03       0         0       1         0        0          0  \n",
       "2018-06-04       1         0       0         0        0          0  \n",
       "2018-06-05       0         0       0         0        1          0  \n",
       "...            ...       ...     ...       ...      ...        ...  \n",
       "2019-07-06       0         1       0         0        0          0  \n",
       "2019-07-07       0         0       1         0        0          0  \n",
       "2019-07-08       1         0       0         0        0          0  \n",
       "2019-07-09       0         0       0         0        1          0  \n",
       "2019-07-10       0         0       0         0        0          1  \n",
       "\n",
       "[404 rows x 12 columns]"
      ]
     },
     "execution_count": 92,
     "metadata": {},
     "output_type": "execute_result"
    }
   ],
   "source": [
    "X_train\n"
   ]
  },
  {
   "cell_type": "code",
   "execution_count": null,
   "metadata": {},
   "outputs": [],
   "source": []
  },
  {
   "cell_type": "code",
   "execution_count": 93,
   "metadata": {},
   "outputs": [],
   "source": [
    "# y_train = np.log(y_train)"
   ]
  },
  {
   "cell_type": "code",
   "execution_count": 94,
   "metadata": {},
   "outputs": [
    {
     "data": {
      "text/plain": [
       "Date\n",
       "2018-06-01    6432.02\n",
       "2018-06-02    7812.00\n",
       "2018-06-03    5772.00\n",
       "2018-06-04    5085.00\n",
       "2018-06-05    4568.00\n",
       "               ...   \n",
       "2019-07-06    4645.00\n",
       "2019-07-07    4198.00\n",
       "2019-07-08    2704.00\n",
       "2019-07-09    2683.00\n",
       "2019-07-10    4178.00\n",
       "Freq: D, Name: Gross Sales, Length: 404, dtype: float64"
      ]
     },
     "execution_count": 94,
     "metadata": {},
     "output_type": "execute_result"
    }
   ],
   "source": [
    "y_train"
   ]
  },
  {
   "cell_type": "code",
   "execution_count": 95,
   "metadata": {},
   "outputs": [],
   "source": [
    "# # Convert training/testing sets to a DataFrame.\n",
    "# X_train = pd.DataFrame(X_train)\n",
    "# X_test = pd.DataFrame(X_test)\n",
    "\n",
    "# # Add column for lagged values of precipitation.\n",
    "# X_train = X_train.shift(1)\n",
    "# X_test= X_test.shift(1)\n",
    "\n",
    "# # Check out top of the test dataframe.\n",
    "# X_test.head()"
   ]
  },
  {
   "cell_type": "code",
   "execution_count": 96,
   "metadata": {},
   "outputs": [],
   "source": [
    "sarima = SARIMAX(endog = y_train,\n",
    "                 order = (0, 2, 1),              # (p, d, q)\n",
    "                 seasonal_order = (0, 1, 2, 4),  # (P, D, Q, S)\n",
    "                 exog = X_train)\n",
    "# Fit SARIMA model\n",
    "model = sarima.fit()"
   ]
  },
  {
   "cell_type": "code",
   "execution_count": 97,
   "metadata": {},
   "outputs": [
    {
     "data": {
      "text/html": [
       "<div>\n",
       "<style scoped>\n",
       "    .dataframe tbody tr th:only-of-type {\n",
       "        vertical-align: middle;\n",
       "    }\n",
       "\n",
       "    .dataframe tbody tr th {\n",
       "        vertical-align: top;\n",
       "    }\n",
       "\n",
       "    .dataframe thead th {\n",
       "        text-align: right;\n",
       "    }\n",
       "</style>\n",
       "<table border=\"1\" class=\"dataframe\">\n",
       "  <thead>\n",
       "    <tr style=\"text-align: right;\">\n",
       "      <th></th>\n",
       "      <th>Bill Count</th>\n",
       "      <th>Voids</th>\n",
       "      <th>Discounts</th>\n",
       "      <th>Menu Item Cost</th>\n",
       "      <th>Labor Cost</th>\n",
       "      <th>Friday</th>\n",
       "      <th>Monday</th>\n",
       "      <th>Saturday</th>\n",
       "      <th>Sunday</th>\n",
       "      <th>Thursday</th>\n",
       "      <th>Tuesday</th>\n",
       "      <th>Wednesday</th>\n",
       "    </tr>\n",
       "    <tr>\n",
       "      <th>Date</th>\n",
       "      <th></th>\n",
       "      <th></th>\n",
       "      <th></th>\n",
       "      <th></th>\n",
       "      <th></th>\n",
       "      <th></th>\n",
       "      <th></th>\n",
       "      <th></th>\n",
       "      <th></th>\n",
       "      <th></th>\n",
       "      <th></th>\n",
       "      <th></th>\n",
       "    </tr>\n",
       "  </thead>\n",
       "  <tbody>\n",
       "    <tr>\n",
       "      <td>2018-06-01</td>\n",
       "      <td>103</td>\n",
       "      <td>144.0</td>\n",
       "      <td>0.00</td>\n",
       "      <td>0.0</td>\n",
       "      <td>918.64</td>\n",
       "      <td>1</td>\n",
       "      <td>0</td>\n",
       "      <td>0</td>\n",
       "      <td>0</td>\n",
       "      <td>0</td>\n",
       "      <td>0</td>\n",
       "      <td>0</td>\n",
       "    </tr>\n",
       "    <tr>\n",
       "      <td>2018-06-02</td>\n",
       "      <td>142</td>\n",
       "      <td>478.0</td>\n",
       "      <td>0.00</td>\n",
       "      <td>0.0</td>\n",
       "      <td>1539.21</td>\n",
       "      <td>0</td>\n",
       "      <td>0</td>\n",
       "      <td>1</td>\n",
       "      <td>0</td>\n",
       "      <td>0</td>\n",
       "      <td>0</td>\n",
       "      <td>0</td>\n",
       "    </tr>\n",
       "    <tr>\n",
       "      <td>2018-06-03</td>\n",
       "      <td>110</td>\n",
       "      <td>185.0</td>\n",
       "      <td>52.75</td>\n",
       "      <td>0.0</td>\n",
       "      <td>1249.21</td>\n",
       "      <td>0</td>\n",
       "      <td>0</td>\n",
       "      <td>0</td>\n",
       "      <td>1</td>\n",
       "      <td>0</td>\n",
       "      <td>0</td>\n",
       "      <td>0</td>\n",
       "    </tr>\n",
       "    <tr>\n",
       "      <td>2018-06-04</td>\n",
       "      <td>108</td>\n",
       "      <td>28.0</td>\n",
       "      <td>0.00</td>\n",
       "      <td>0.0</td>\n",
       "      <td>1252.86</td>\n",
       "      <td>0</td>\n",
       "      <td>1</td>\n",
       "      <td>0</td>\n",
       "      <td>0</td>\n",
       "      <td>0</td>\n",
       "      <td>0</td>\n",
       "      <td>0</td>\n",
       "    </tr>\n",
       "    <tr>\n",
       "      <td>2018-06-05</td>\n",
       "      <td>68</td>\n",
       "      <td>134.0</td>\n",
       "      <td>18.00</td>\n",
       "      <td>0.0</td>\n",
       "      <td>842.49</td>\n",
       "      <td>0</td>\n",
       "      <td>0</td>\n",
       "      <td>0</td>\n",
       "      <td>0</td>\n",
       "      <td>0</td>\n",
       "      <td>1</td>\n",
       "      <td>0</td>\n",
       "    </tr>\n",
       "  </tbody>\n",
       "</table>\n",
       "</div>"
      ],
      "text/plain": [
       "            Bill Count  Voids  Discounts  Menu Item Cost  Labor Cost  Friday  \\\n",
       "Date                                                                           \n",
       "2018-06-01         103  144.0       0.00             0.0      918.64       1   \n",
       "2018-06-02         142  478.0       0.00             0.0     1539.21       0   \n",
       "2018-06-03         110  185.0      52.75             0.0     1249.21       0   \n",
       "2018-06-04         108   28.0       0.00             0.0     1252.86       0   \n",
       "2018-06-05          68  134.0      18.00             0.0      842.49       0   \n",
       "\n",
       "            Monday  Saturday  Sunday  Thursday  Tuesday  Wednesday  \n",
       "Date                                                                \n",
       "2018-06-01       0         0       0         0        0          0  \n",
       "2018-06-02       0         1       0         0        0          0  \n",
       "2018-06-03       0         0       1         0        0          0  \n",
       "2018-06-04       1         0       0         0        0          0  \n",
       "2018-06-05       0         0       0         0        1          0  "
      ]
     },
     "execution_count": 97,
     "metadata": {},
     "output_type": "execute_result"
    }
   ],
   "source": [
    "X_test.head()"
   ]
  },
  {
   "cell_type": "code",
   "execution_count": 98,
   "metadata": {},
   "outputs": [
    {
     "data": {
      "text/html": [
       "<div>\n",
       "<style scoped>\n",
       "    .dataframe tbody tr th:only-of-type {\n",
       "        vertical-align: middle;\n",
       "    }\n",
       "\n",
       "    .dataframe tbody tr th {\n",
       "        vertical-align: top;\n",
       "    }\n",
       "\n",
       "    .dataframe thead th {\n",
       "        text-align: right;\n",
       "    }\n",
       "</style>\n",
       "<table border=\"1\" class=\"dataframe\">\n",
       "  <thead>\n",
       "    <tr style=\"text-align: right;\">\n",
       "      <th></th>\n",
       "      <th>Bill Count</th>\n",
       "      <th>Voids</th>\n",
       "      <th>Discounts</th>\n",
       "      <th>Menu Item Cost</th>\n",
       "      <th>Labor Cost</th>\n",
       "      <th>Friday</th>\n",
       "      <th>Monday</th>\n",
       "      <th>Saturday</th>\n",
       "      <th>Sunday</th>\n",
       "      <th>Thursday</th>\n",
       "      <th>Tuesday</th>\n",
       "      <th>Wednesday</th>\n",
       "    </tr>\n",
       "    <tr>\n",
       "      <th>Date</th>\n",
       "      <th></th>\n",
       "      <th></th>\n",
       "      <th></th>\n",
       "      <th></th>\n",
       "      <th></th>\n",
       "      <th></th>\n",
       "      <th></th>\n",
       "      <th></th>\n",
       "      <th></th>\n",
       "      <th></th>\n",
       "      <th></th>\n",
       "      <th></th>\n",
       "    </tr>\n",
       "  </thead>\n",
       "  <tbody>\n",
       "    <tr>\n",
       "      <td>2019-01-15</td>\n",
       "      <td>51</td>\n",
       "      <td>95.0</td>\n",
       "      <td>0.0</td>\n",
       "      <td>306.0</td>\n",
       "      <td>1162.90</td>\n",
       "      <td>0</td>\n",
       "      <td>0</td>\n",
       "      <td>0</td>\n",
       "      <td>0</td>\n",
       "      <td>0</td>\n",
       "      <td>1</td>\n",
       "      <td>0</td>\n",
       "    </tr>\n",
       "    <tr>\n",
       "      <td>2019-01-16</td>\n",
       "      <td>48</td>\n",
       "      <td>40.0</td>\n",
       "      <td>0.0</td>\n",
       "      <td>48.0</td>\n",
       "      <td>734.65</td>\n",
       "      <td>0</td>\n",
       "      <td>0</td>\n",
       "      <td>0</td>\n",
       "      <td>0</td>\n",
       "      <td>0</td>\n",
       "      <td>0</td>\n",
       "      <td>1</td>\n",
       "    </tr>\n",
       "    <tr>\n",
       "      <td>2019-01-17</td>\n",
       "      <td>70</td>\n",
       "      <td>32.0</td>\n",
       "      <td>0.0</td>\n",
       "      <td>242.0</td>\n",
       "      <td>1092.19</td>\n",
       "      <td>0</td>\n",
       "      <td>0</td>\n",
       "      <td>0</td>\n",
       "      <td>0</td>\n",
       "      <td>1</td>\n",
       "      <td>0</td>\n",
       "      <td>0</td>\n",
       "    </tr>\n",
       "    <tr>\n",
       "      <td>2019-01-18</td>\n",
       "      <td>99</td>\n",
       "      <td>6.0</td>\n",
       "      <td>0.0</td>\n",
       "      <td>178.0</td>\n",
       "      <td>1189.36</td>\n",
       "      <td>1</td>\n",
       "      <td>0</td>\n",
       "      <td>0</td>\n",
       "      <td>0</td>\n",
       "      <td>0</td>\n",
       "      <td>0</td>\n",
       "      <td>0</td>\n",
       "    </tr>\n",
       "    <tr>\n",
       "      <td>2019-01-19</td>\n",
       "      <td>127</td>\n",
       "      <td>110.0</td>\n",
       "      <td>0.0</td>\n",
       "      <td>118.0</td>\n",
       "      <td>1434.65</td>\n",
       "      <td>0</td>\n",
       "      <td>0</td>\n",
       "      <td>1</td>\n",
       "      <td>0</td>\n",
       "      <td>0</td>\n",
       "      <td>0</td>\n",
       "      <td>0</td>\n",
       "    </tr>\n",
       "  </tbody>\n",
       "</table>\n",
       "</div>"
      ],
      "text/plain": [
       "            Bill Count  Voids  Discounts  Menu Item Cost  Labor Cost  Friday  \\\n",
       "Date                                                                           \n",
       "2019-01-15          51   95.0        0.0           306.0     1162.90       0   \n",
       "2019-01-16          48   40.0        0.0            48.0      734.65       0   \n",
       "2019-01-17          70   32.0        0.0           242.0     1092.19       0   \n",
       "2019-01-18          99    6.0        0.0           178.0     1189.36       1   \n",
       "2019-01-19         127  110.0        0.0           118.0     1434.65       0   \n",
       "\n",
       "            Monday  Saturday  Sunday  Thursday  Tuesday  Wednesday  \n",
       "Date                                                                \n",
       "2019-01-15       0         0       0         0        1          0  \n",
       "2019-01-16       0         0       0         0        0          1  \n",
       "2019-01-17       0         0       0         1        0          0  \n",
       "2019-01-18       0         0       0         0        0          0  \n",
       "2019-01-19       0         1       0         0        0          0  "
      ]
     },
     "execution_count": 98,
     "metadata": {},
     "output_type": "execute_result"
    }
   ],
   "source": [
    "X_test.tail()"
   ]
  },
  {
   "cell_type": "code",
   "execution_count": 99,
   "metadata": {},
   "outputs": [],
   "source": [
    "preds = model.predict(start = len(y_train), end = len(y_train) + len(y_test) - 1, exog = X_test)"
   ]
  },
  {
   "cell_type": "code",
   "execution_count": 100,
   "metadata": {},
   "outputs": [
    {
     "data": {
      "text/plain": [
       "2019-07-10    5448.682667\n",
       "2019-07-11    7414.192871\n",
       "2019-07-12    5179.063576\n",
       "2019-07-13    4671.573979\n",
       "2019-07-14    3317.204003\n",
       "                 ...     \n",
       "2020-02-22    2691.067563\n",
       "2020-02-23    2695.777302\n",
       "2020-02-24    3801.993257\n",
       "2020-02-25    5247.000040\n",
       "2020-02-26    6860.372254\n",
       "Freq: D, Length: 232, dtype: float64"
      ]
     },
     "execution_count": 100,
     "metadata": {},
     "output_type": "execute_result"
    }
   ],
   "source": [
    "preds"
   ]
  },
  {
   "cell_type": "code",
   "execution_count": 101,
   "metadata": {},
   "outputs": [
    {
     "data": {
      "text/plain": [
       "PeriodIndex(['2018-06-01', '2018-06-02', '2018-06-03', '2018-06-04',\n",
       "             '2018-06-05', '2018-06-06', '2018-06-07', '2018-06-08',\n",
       "             '2018-06-09', '2018-06-10',\n",
       "             ...\n",
       "             '2019-07-01', '2019-07-02', '2019-07-03', '2019-07-04',\n",
       "             '2019-07-05', '2019-07-06', '2019-07-07', '2019-07-08',\n",
       "             '2019-07-09', '2019-07-10'],\n",
       "            dtype='period[D]', name='Date', length=404, freq='D')"
      ]
     },
     "execution_count": 101,
     "metadata": {},
     "output_type": "execute_result"
    }
   ],
   "source": [
    "y_train.index"
   ]
  },
  {
   "cell_type": "code",
   "execution_count": 102,
   "metadata": {},
   "outputs": [
    {
     "data": {
      "text/plain": [
       "PeriodIndex(['2018-06-01', '2018-06-02', '2018-06-03', '2018-06-04',\n",
       "             '2018-06-05', '2018-06-06', '2018-06-07', '2018-06-08',\n",
       "             '2018-06-09', '2018-06-10',\n",
       "             ...\n",
       "             '2019-01-10', '2019-01-11', '2019-01-12', '2019-01-13',\n",
       "             '2019-01-14', '2019-01-15', '2019-01-16', '2019-01-17',\n",
       "             '2019-01-18', '2019-01-19'],\n",
       "            dtype='period[D]', name='Date', length=232, freq='D')"
      ]
     },
     "execution_count": 102,
     "metadata": {},
     "output_type": "execute_result"
    }
   ],
   "source": [
    "X_test.index"
   ]
  },
  {
   "cell_type": "code",
   "execution_count": 103,
   "metadata": {},
   "outputs": [
    {
     "data": {
      "text/plain": [
       "Date\n",
       "2018-06-01    6432.02\n",
       "2018-06-02    7812.00\n",
       "2018-06-03    5772.00\n",
       "2018-06-04    5085.00\n",
       "2018-06-05    4568.00\n",
       "Freq: D, Name: Gross Sales, dtype: float64"
      ]
     },
     "execution_count": 103,
     "metadata": {},
     "output_type": "execute_result"
    }
   ],
   "source": [
    "y_train.head()"
   ]
  },
  {
   "cell_type": "code",
   "execution_count": 104,
   "metadata": {},
   "outputs": [
    {
     "data": {
      "text/plain": [
       "DatetimeIndex(['2018-06-01', '2018-06-02', '2018-06-03', '2018-06-04',\n",
       "               '2018-06-05', '2018-06-06', '2018-06-07', '2018-06-08',\n",
       "               '2018-06-09', '2018-06-10',\n",
       "               ...\n",
       "               '2019-01-10', '2019-01-11', '2019-01-12', '2019-01-13',\n",
       "               '2019-01-14', '2019-01-15', '2019-01-16', '2019-01-17',\n",
       "               '2019-01-18', '2019-01-19'],\n",
       "              dtype='datetime64[ns]', name='Date', length=232, freq=None)"
      ]
     },
     "execution_count": 104,
     "metadata": {},
     "output_type": "execute_result"
    }
   ],
   "source": [
    "y_test.index.to_timestamp()"
   ]
  },
  {
   "cell_type": "code",
   "execution_count": 105,
   "metadata": {},
   "outputs": [
    {
     "data": {
      "text/plain": [
       "Date\n",
       "2018-06-01    6432.02\n",
       "2018-06-02    7812.00\n",
       "2018-06-03    5772.00\n",
       "2018-06-04    5085.00\n",
       "2018-06-05    4568.00\n",
       "               ...   \n",
       "2019-01-15    2467.00\n",
       "2019-01-16    3217.00\n",
       "2019-01-17    3559.00\n",
       "2019-01-18    5602.00\n",
       "2019-01-19    6134.00\n",
       "Freq: D, Name: Gross Sales, Length: 232, dtype: float64"
      ]
     },
     "execution_count": 105,
     "metadata": {},
     "output_type": "execute_result"
    }
   ],
   "source": [
    "y_test"
   ]
  },
  {
   "cell_type": "code",
   "execution_count": 106,
   "metadata": {},
   "outputs": [
    {
     "data": {
      "text/plain": [
       "PeriodIndex(['2018-06-01', '2018-06-02', '2018-06-03', '2018-06-04',\n",
       "             '2018-06-05', '2018-06-06', '2018-06-07', '2018-06-08',\n",
       "             '2018-06-09', '2018-06-10',\n",
       "             ...\n",
       "             '2019-01-10', '2019-01-11', '2019-01-12', '2019-01-13',\n",
       "             '2019-01-14', '2019-01-15', '2019-01-16', '2019-01-17',\n",
       "             '2019-01-18', '2019-01-19'],\n",
       "            dtype='period[D]', name='Date', length=232, freq='D')"
      ]
     },
     "execution_count": 106,
     "metadata": {},
     "output_type": "execute_result"
    }
   ],
   "source": [
    "y_test.index"
   ]
  },
  {
   "cell_type": "code",
   "execution_count": 107,
   "metadata": {},
   "outputs": [],
   "source": [
    "y_test.index = y_test.index.to_timestamp()"
   ]
  },
  {
   "cell_type": "code",
   "execution_count": 108,
   "metadata": {},
   "outputs": [],
   "source": [
    "y_train.index = y_train.index.to_timestamp()"
   ]
  },
  {
   "cell_type": "code",
   "execution_count": 109,
   "metadata": {},
   "outputs": [],
   "source": [
    "preds.index = preds.index.to_timestamp()"
   ]
  },
  {
   "cell_type": "code",
   "execution_count": 110,
   "metadata": {},
   "outputs": [],
   "source": [
    "future_forecast = model.predict(n_periods=400)"
   ]
  },
  {
   "cell_type": "code",
   "execution_count": 111,
   "metadata": {},
   "outputs": [],
   "source": [
    "future_forecast.index =future_forecast.index.to_timestamp()"
   ]
  },
  {
   "cell_type": "code",
   "execution_count": 112,
   "metadata": {},
   "outputs": [
    {
     "data": {
      "text/plain": [
       "(232,)"
      ]
     },
     "execution_count": 112,
     "metadata": {},
     "output_type": "execute_result"
    }
   ],
   "source": [
    "y_test.shape"
   ]
  },
  {
   "cell_type": "code",
   "execution_count": 113,
   "metadata": {},
   "outputs": [
    {
     "data": {
      "text/plain": [
       "(232,)"
      ]
     },
     "execution_count": 113,
     "metadata": {},
     "output_type": "execute_result"
    }
   ],
   "source": [
    "preds.shape"
   ]
  },
  {
   "cell_type": "code",
   "execution_count": 114,
   "metadata": {},
   "outputs": [],
   "source": [
    "# y_test = np.log(X_train)"
   ]
  },
  {
   "cell_type": "code",
   "execution_count": 115,
   "metadata": {},
   "outputs": [
    {
     "data": {
      "text/plain": [
       "Date\n",
       "2018-06-01    4499.844686\n",
       "2018-06-02    9680.969901\n",
       "2018-06-03    5426.518433\n",
       "2018-06-04    5392.078148\n",
       "2018-06-05    4080.549203\n",
       "                 ...     \n",
       "2019-07-06    4891.983921\n",
       "2019-07-07    3989.043474\n",
       "2019-07-08    2441.916572\n",
       "2019-07-09    2974.152249\n",
       "2019-07-10    3944.191679\n",
       "Length: 404, dtype: float64"
      ]
     },
     "execution_count": 115,
     "metadata": {},
     "output_type": "execute_result"
    }
   ],
   "source": [
    "future_forecast"
   ]
  },
  {
   "cell_type": "code",
   "execution_count": 116,
   "metadata": {},
   "outputs": [
    {
     "data": {
      "text/plain": [
       "<matplotlib.axes._subplots.AxesSubplot at 0x131ef5110>"
      ]
     },
     "execution_count": 116,
     "metadata": {},
     "output_type": "execute_result"
    },
    {
     "data": {
      "image/png": "[encoded data removed]",
      "text/plain": [
       "<Figure size 432x288 with 1 Axes>"
      ]
     },
     "metadata": {
      "needs_background": "light"
     },
     "output_type": "display_data"
    }
   ],
   "source": [
    "y_train.plot(kind = \"hist\") #loglog=True"
   ]
  },
  {
   "cell_type": "code",
   "execution_count": 117,
   "metadata": {},
   "outputs": [
    {
     "data": {
      "text/plain": [
       "<matplotlib.axes._subplots.AxesSubplot at 0x13904c1d0>"
      ]
     },
     "execution_count": 117,
     "metadata": {},
     "output_type": "execute_result"
    },
    {
     "data": {
      "image/png": "[encoded data removed]",
      "text/plain": [
       "<Figure size 432x288 with 1 Axes>"
      ]
     },
     "metadata": {
      "needs_background": "light"
     },
     "output_type": "display_data"
    }
   ],
   "source": [
    "preds.plot(kind = \"hist\")"
   ]
  },
  {
   "cell_type": "code",
   "execution_count": 118,
   "metadata": {},
   "outputs": [],
   "source": [
    "# preds = np.expm1(preds)"
   ]
  },
  {
   "cell_type": "code",
   "execution_count": 119,
   "metadata": {},
   "outputs": [],
   "source": [
    "# y_train = np.expm1(y_train)"
   ]
  },
  {
   "cell_type": "code",
   "execution_count": 120,
   "metadata": {},
   "outputs": [],
   "source": [
    "# X_train.replace(0, 1, inplace = True)"
   ]
  },
  {
   "cell_type": "code",
   "execution_count": 121,
   "metadata": {},
   "outputs": [],
   "source": [
    "# X_train.replace(-9.21034, 0, inplace = True)"
   ]
  },
  {
   "cell_type": "code",
   "execution_count": 122,
   "metadata": {},
   "outputs": [],
   "source": [
    "# preds.replace(0, 1, inplace = True)"
   ]
  },
  {
   "cell_type": "code",
   "execution_count": 123,
   "metadata": {},
   "outputs": [],
   "source": [
    "# preds.replace(-9.21034, 0, inplace = True)"
   ]
  },
  {
   "cell_type": "code",
   "execution_count": 133,
   "metadata": {},
   "outputs": [
    {
     "data": {
      "text/plain": [
       "Date\n",
       "2018-06-01    6432.02\n",
       "2018-06-02    7812.00\n",
       "2018-06-03    5772.00\n",
       "2018-06-04    5085.00\n",
       "2018-06-05    4568.00\n",
       "               ...   \n",
       "2019-01-15    2467.00\n",
       "2019-01-16    3217.00\n",
       "2019-01-17    3559.00\n",
       "2019-01-18    5602.00\n",
       "2019-01-19    6134.00\n",
       "Name: Gross Sales, Length: 232, dtype: float64"
      ]
     },
     "execution_count": 133,
     "metadata": {},
     "output_type": "execute_result"
    }
   ],
   "source": [
    "y_test"
   ]
  },
  {
   "cell_type": "code",
   "execution_count": 134,
   "metadata": {},
   "outputs": [
    {
     "data": {
      "text/plain": [
       "2019-07-10    5448.682667\n",
       "2019-07-11    7414.192871\n",
       "2019-07-12    5179.063576\n",
       "2019-07-13    4671.573979\n",
       "2019-07-14    3317.204003\n",
       "                 ...     \n",
       "2020-02-22    2691.067563\n",
       "2020-02-23    2695.777302\n",
       "2020-02-24    3801.993257\n",
       "2020-02-25    5247.000040\n",
       "2020-02-26    6860.372254\n",
       "Freq: D, Length: 232, dtype: float64"
      ]
     },
     "execution_count": 134,
     "metadata": {},
     "output_type": "execute_result"
    }
   ],
   "source": [
    "preds"
   ]
  },
  {
   "cell_type": "code",
   "execution_count": 125,
   "metadata": {},
   "outputs": [],
   "source": [
    "from sklearn import metrics"
   ]
  },
  {
   "cell_type": "code",
   "execution_count": 126,
   "metadata": {},
   "outputs": [
    {
     "data": {
      "text/plain": [
       "0.9087173885169236"
      ]
     },
     "execution_count": 126,
     "metadata": {},
     "output_type": "execute_result"
    }
   ],
   "source": [
    "metrics.r2_score(y_test, preds)"
   ]
  },
  {
   "cell_type": "code",
   "execution_count": 127,
   "metadata": {},
   "outputs": [],
   "source": [
    "from sklearn.metrics import mean_squared_error\n",
    "\n",
    "import math\n",
    "\n",
    "mse = mean_squared_error(y_test[0:len(y_test)], preds)"
   ]
  },
  {
   "cell_type": "code",
   "execution_count": 128,
   "metadata": {},
   "outputs": [
    {
     "data": {
      "text/plain": [
       "472.120964062782"
      ]
     },
     "execution_count": 128,
     "metadata": {},
     "output_type": "execute_result"
    }
   ],
   "source": [
    "math.sqrt(mse)"
   ]
  },
  {
   "cell_type": "code",
   "execution_count": 129,
   "metadata": {},
   "outputs": [
    {
     "data": {
      "text/plain": [
       "2019-07-10    5448.682667\n",
       "2019-07-11    7414.192871\n",
       "2019-07-12    5179.063576\n",
       "2019-07-13    4671.573979\n",
       "2019-07-14    3317.204003\n",
       "                 ...     \n",
       "2020-02-22    2691.067563\n",
       "2020-02-23    2695.777302\n",
       "2020-02-24    3801.993257\n",
       "2020-02-25    5247.000040\n",
       "2020-02-26    6860.372254\n",
       "Freq: D, Length: 232, dtype: float64"
      ]
     },
     "execution_count": 129,
     "metadata": {},
     "output_type": "execute_result"
    }
   ],
   "source": [
    "preds"
   ]
  },
  {
   "cell_type": "code",
   "execution_count": 130,
   "metadata": {},
   "outputs": [
    {
     "data": {
      "text/plain": [
       "Date\n",
       "2018-06-01    6432.02\n",
       "2018-06-02    7812.00\n",
       "2018-06-03    5772.00\n",
       "2018-06-04    5085.00\n",
       "2018-06-05    4568.00\n",
       "               ...   \n",
       "2019-07-06    4645.00\n",
       "2019-07-07    4198.00\n",
       "2019-07-08    2704.00\n",
       "2019-07-09    2683.00\n",
       "2019-07-10    4178.00\n",
       "Name: Gross Sales, Length: 404, dtype: float64"
      ]
     },
     "execution_count": 130,
     "metadata": {},
     "output_type": "execute_result"
    }
   ],
   "source": [
    "y_train"
   ]
  },
  {
   "cell_type": "code",
   "execution_count": 131,
   "metadata": {},
   "outputs": [],
   "source": [
    "#exponeniate predS & Y because they are logged then graph "
   ]
  },
  {
   "cell_type": "code",
   "execution_count": 132,
   "metadata": {
    "scrolled": true
   },
   "outputs": [
    {
     "data": {
      "image/png": "[encoded data removed]",
      "text/plain": [
       "<Figure size 720x432 with 1 Axes>"
      ]
     },
     "metadata": {
      "needs_background": "light"
     },
     "output_type": "display_data"
    }
   ],
   "source": [
    "# #a Fit a SARIMA(0, 2, 1) x (1, 0, 0, 12) model.\n",
    "\n",
    "# sarima = SARIMAX(endog = y_train.astype(float),\n",
    "#                  order = (0, 2, 1),              # (p, d, q)\n",
    "#                  seasonal_order = (1, 0, 0,2)) # (P, D, Q, S)\n",
    "\n",
    "# # Fit SARIMA model.\n",
    "# model = sarima.fit()\n",
    "\n",
    "# Generate predictions based on test set.\n",
    "# preds = model.predict(start=datetime(2020,3,1),\n",
    "#                       end=datetime(2020,1,10))\n",
    "\n",
    "# # # Evaluate predictions.\n",
    "# print(mean_squared_error(y_test, preds))\n",
    "\n",
    "# Plot data.\n",
    "plt.figure(figsize=(10,6))\n",
    "plt.plot(y_train, color = 'blue')\n",
    "plt.plot(y_test, color = 'orange')\n",
    "plt.plot(preds, color = 'green')\n",
    "# plt.plot(future_forecast, color = 'black')\n",
    "\n",
    "plt.title(label = 'Sales Predictions SARIMAX Test', fontsize=16)\n",
    "plt.show();"
   ]
  }
 ],
 "metadata": {
  "kernelspec": {
   "display_name": "Python 3",
   "language": "python",
   "name": "python3"
  },
  "language_info": {
   "codemirror_mode": {
    "name": "ipython",
    "version": 3
   },
   "file_extension": ".py",
   "mimetype": "text/x-python",
   "name": "python",
   "nbconvert_exporter": "python",
   "pygments_lexer": "ipython3",
   "version": "3.7.4"
  },
  "toc": {
   "base_numbering": 1,
   "nav_menu": {},
   "number_sections": true,
   "sideBar": true,
   "skip_h1_title": false,
   "title_cell": "Table of Contents",
   "title_sidebar": "Contents",
   "toc_cell": true,
   "toc_position": {
    "height": "calc(100% - 180px)",
    "left": "10px",
    "top": "150px",
    "width": "243.188px"
   },
   "toc_section_display": true,
   "toc_window_display": true
  }
 },
 "nbformat": 4,
 "nbformat_minor": 2
}
