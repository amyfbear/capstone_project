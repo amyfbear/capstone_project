{
 "cells": [
  {
   "cell_type": "markdown",
   "metadata": {
    "toc": true
   },
   "source": [
    "<h1>Table of Contents<span class=\"tocSkip\"></span></h1>\n",
    "<div class=\"toc\"><ul class=\"toc-item\"><li><span><a href=\"#Problem-Statement:\" data-toc-modified-id=\"Problem-Statement:-1\"><span class=\"toc-item-num\">1&nbsp;&nbsp;</span>Problem Statement:</a></span></li><li><span><a href=\"#Importing-Packages\" data-toc-modified-id=\"Importing-Packages-2\"><span class=\"toc-item-num\">2&nbsp;&nbsp;</span>Importing Packages</a></span></li><li><span><a href=\"#Exploratory-Data-Analysis\" data-toc-modified-id=\"Exploratory-Data-Analysis-3\"><span class=\"toc-item-num\">3&nbsp;&nbsp;</span>Exploratory Data Analysis</a></span><ul class=\"toc-item\"><li><span><a href=\"#Visualizing-Feature-Distributions\" data-toc-modified-id=\"Visualizing-Feature-Distributions-3.1\"><span class=\"toc-item-num\">3.1&nbsp;&nbsp;</span>Visualizing Feature Distributions</a></span></li><li><span><a href=\"#Daily-Gross-Sales-Correlation-Heatmap\" data-toc-modified-id=\"Daily-Gross-Sales-Correlation-Heatmap-3.2\"><span class=\"toc-item-num\">3.2&nbsp;&nbsp;</span>Daily Gross Sales Correlation Heatmap</a></span></li><li><span><a href=\"#Daily-Gross-Sales-(in-thousands)\" data-toc-modified-id=\"Daily-Gross-Sales-(in-thousands)-3.3\"><span class=\"toc-item-num\">3.3&nbsp;&nbsp;</span>Daily Gross Sales (in thousands)</a></span></li><li><span><a href=\"#ACF-&amp;-PACF-Plots\" data-toc-modified-id=\"ACF-&amp;-PACF-Plots-3.4\"><span class=\"toc-item-num\">3.4&nbsp;&nbsp;</span>ACF &amp; PACF Plots</a></span></li></ul></li><li><span><a href=\"#ADF-Test-for-Stationarity\" data-toc-modified-id=\"ADF-Test-for-Stationarity-4\"><span class=\"toc-item-num\">4&nbsp;&nbsp;</span>ADF Test for Stationarity</a></span></li><li><span><a href=\"#Model-Prep\" data-toc-modified-id=\"Model-Prep-5\"><span class=\"toc-item-num\">5&nbsp;&nbsp;</span>Model Prep</a></span></li><li><span><a href=\"#Model-Selection-with-AIC:\" data-toc-modified-id=\"Model-Selection-with-AIC:-6\"><span class=\"toc-item-num\">6&nbsp;&nbsp;</span>Model Selection with AIC:</a></span></li><li><span><a href=\"#Modeling\" data-toc-modified-id=\"Modeling-7\"><span class=\"toc-item-num\">7&nbsp;&nbsp;</span>Modeling</a></span></li><li><span><a href=\"#Model-Evaluation\" data-toc-modified-id=\"Model-Evaluation-8\"><span class=\"toc-item-num\">8&nbsp;&nbsp;</span>Model Evaluation</a></span><ul class=\"toc-item\"><li><span><a href=\"#Baseline-Model\" data-toc-modified-id=\"Baseline-Model-8.1\"><span class=\"toc-item-num\">8.1&nbsp;&nbsp;</span>Baseline Model</a></span></li></ul></li><li><span><a href=\"#Conclusion-&amp;-Reccomendations\" data-toc-modified-id=\"Conclusion-&amp;-Reccomendations-9\"><span class=\"toc-item-num\">9&nbsp;&nbsp;</span>Conclusion &amp; Reccomendations</a></span><ul class=\"toc-item\"><li><span><a href=\"#The-Bible:\" data-toc-modified-id=\"The-Bible:-9.1\"><span class=\"toc-item-num\">9.1&nbsp;&nbsp;</span>The Bible:</a></span></li></ul></li><li><span><a href=\"#References\" data-toc-modified-id=\"References-10\"><span class=\"toc-item-num\">10&nbsp;&nbsp;</span>References</a></span></li></ul></div>"
   ]
  },
  {
   "cell_type": "markdown",
   "metadata": {},
   "source": [
    "## Problem Statement:"
   ]
  },
  {
   "cell_type": "markdown",
   "metadata": {},
   "source": [
    "I am a consultant hired by restaurant owners, since new management has taken over their costs have gone through the roof and now they are 25K in the red on average each month. In order for them to recoup their loss I need to figure out how to properly structure their budgets. I will create a SARIMAX predictive sales model to base my customized bugets from. My metric will be RMSE to gauge my model with because the output will be on the same scale as my data. A succesful model will output predictive sales values within a $500.00 range."
   ]
  },
  {
   "cell_type": "markdown",
   "metadata": {},
   "source": [
    "## Importing Packages"
   ]
  },
  {
   "cell_type": "markdown",
   "metadata": {},
   "source": [
    "- model interpetation \n",
    "- coeffs on time lags"
   ]
  },
  {
   "cell_type": "code",
   "execution_count": 47,
   "metadata": {},
   "outputs": [],
   "source": [
    "import pandas as pd\n",
    "import numpy as np\n",
    "import matplotlib.pyplot as plt\n",
    "from datetime import datetime\n",
    "from sklearn.model_selection import train_test_split\n",
    "from statsmodels.tsa.statespace.sarimax import SARIMAX\n",
    "# Import ARIMA model.\n",
    "from statsmodels.tsa.arima_model import ARIMA\n",
    "import statsmodels.api as sm\n",
    "from statsmodels.graphics.tsaplots import plot_acf, plot_pacf\n",
    "import seaborn as sns\n",
    "# Import Augmented Dickey-Fuller test.\n",
    "from statsmodels.tsa.stattools import adfuller\n",
    "from sklearn import metrics\n",
    "from sklearn.metrics import mean_squared_error\n",
    "\n",
    "import math\n",
    "\n",
    "\n",
    "\n",
    "%matplotlib inline\n",
    "\n",
    "# We are required to do this in order to avoid \"FutureWarning\" issues.\n",
    "from pandas.plotting import register_matplotlib_converters\n",
    "register_matplotlib_converters()\n",
    "\n",
    "import itertools\n",
    "\n",
    "import warnings\n",
    "warnings.filterwarnings(\"ignore\")"
   ]
  },
  {
   "cell_type": "code",
   "execution_count": null,
   "metadata": {},
   "outputs": [],
   "source": []
  },
  {
   "cell_type": "code",
   "execution_count": 48,
   "metadata": {},
   "outputs": [],
   "source": [
    "# #CREATE FUNCTION THAT READS IN CSV AND AND CLEANS DATA\n",
    "# def data_reader_cleaner(df):\n",
    "# # 1) read in csv\n",
    "# data = pd.read_csv('./data/data_1.csv')\n",
    "# # 2) reset_index\n",
    "# data.reset_index(inplace=True)\n",
    "# # 3)set colunms as row 0 \n",
    "# data.columns = data.iloc[0]\n",
    "# # 4) drop first and last columns\n",
    "# data.drop([0,31], axis = 0, inplace = True)\n",
    "# # 5) set index as date\n",
    "#  data.set_index('Date', inplace = True)   \n",
    "# 6) concats\n",
    "# return df"
   ]
  },
  {
   "cell_type": "code",
   "execution_count": 49,
   "metadata": {},
   "outputs": [],
   "source": [
    "data = pd.read_csv('./data/data_1.csv')"
   ]
  },
  {
   "cell_type": "code",
   "execution_count": 50,
   "metadata": {},
   "outputs": [],
   "source": [
    "data_2 = pd.read_csv('./data/data_2.csv')"
   ]
  },
  {
   "cell_type": "code",
   "execution_count": 51,
   "metadata": {},
   "outputs": [],
   "source": [
    "data_3 = pd.read_csv('./data/data_3.csv')"
   ]
  },
  {
   "cell_type": "code",
   "execution_count": 52,
   "metadata": {},
   "outputs": [],
   "source": [
    "data_4 = pd.read_csv('./data/data_4.csv')"
   ]
  },
  {
   "cell_type": "code",
   "execution_count": 53,
   "metadata": {},
   "outputs": [],
   "source": [
    "data_5 = pd.read_csv('./data/data_5.csv')"
   ]
  },
  {
   "cell_type": "code",
   "execution_count": 54,
   "metadata": {},
   "outputs": [],
   "source": [
    "data.reset_index(inplace=True)"
   ]
  },
  {
   "cell_type": "code",
   "execution_count": 55,
   "metadata": {},
   "outputs": [],
   "source": [
    "data_2.reset_index(inplace=True)"
   ]
  },
  {
   "cell_type": "code",
   "execution_count": 56,
   "metadata": {
    "scrolled": false
   },
   "outputs": [],
   "source": [
    "data_3.reset_index(inplace=True)"
   ]
  },
  {
   "cell_type": "code",
   "execution_count": 57,
   "metadata": {},
   "outputs": [],
   "source": [
    "data_4.reset_index(inplace=True)"
   ]
  },
  {
   "cell_type": "code",
   "execution_count": 58,
   "metadata": {},
   "outputs": [],
   "source": [
    "data_5.reset_index(inplace=True)"
   ]
  },
  {
   "cell_type": "code",
   "execution_count": 59,
   "metadata": {},
   "outputs": [],
   "source": [
    "data.columns = data.iloc[0]"
   ]
  },
  {
   "cell_type": "code",
   "execution_count": 60,
   "metadata": {},
   "outputs": [],
   "source": [
    "data_2.columns = data_2.iloc[0]"
   ]
  },
  {
   "cell_type": "code",
   "execution_count": 61,
   "metadata": {},
   "outputs": [],
   "source": [
    "data_3.columns = data_3.iloc[0]"
   ]
  },
  {
   "cell_type": "code",
   "execution_count": 62,
   "metadata": {},
   "outputs": [],
   "source": [
    "data_4.columns = data_4.iloc[0]"
   ]
  },
  {
   "cell_type": "code",
   "execution_count": 63,
   "metadata": {},
   "outputs": [],
   "source": [
    "data_5.columns = data_5.iloc[0]"
   ]
  },
  {
   "cell_type": "code",
   "execution_count": 64,
   "metadata": {},
   "outputs": [
    {
     "data": {
      "text/plain": [
       "Index(['Date', 'Day of the Week', 'Bill Count', 'Voids', 'Gross Sales',\n",
       "       'Discounts', 'Net Sales', 'Menu Item Cost', 'Labor Cost', 'Margin'],\n",
       "      dtype='object', name=0)"
      ]
     },
     "execution_count": 64,
     "metadata": {},
     "output_type": "execute_result"
    }
   ],
   "source": [
    "data_2.columns"
   ]
  },
  {
   "cell_type": "code",
   "execution_count": 65,
   "metadata": {},
   "outputs": [
    {
     "data": {
      "text/plain": [
       "(32, 10)"
      ]
     },
     "execution_count": 65,
     "metadata": {},
     "output_type": "execute_result"
    }
   ],
   "source": [
    "data.shape"
   ]
  },
  {
   "cell_type": "code",
   "execution_count": 66,
   "metadata": {},
   "outputs": [
    {
     "data": {
      "text/plain": [
       "(185, 10)"
      ]
     },
     "execution_count": 66,
     "metadata": {},
     "output_type": "execute_result"
    }
   ],
   "source": [
    "data_2.shape"
   ]
  },
  {
   "cell_type": "code",
   "execution_count": 67,
   "metadata": {},
   "outputs": [
    {
     "data": {
      "text/plain": [
       "(183, 10)"
      ]
     },
     "execution_count": 67,
     "metadata": {},
     "output_type": "execute_result"
    }
   ],
   "source": [
    "data_3.shape"
   ]
  },
  {
   "cell_type": "code",
   "execution_count": 68,
   "metadata": {},
   "outputs": [
    {
     "data": {
      "text/plain": [
       "(182, 10)"
      ]
     },
     "execution_count": 68,
     "metadata": {},
     "output_type": "execute_result"
    }
   ],
   "source": [
    "data_4.shape"
   ]
  },
  {
   "cell_type": "code",
   "execution_count": 69,
   "metadata": {},
   "outputs": [
    {
     "data": {
      "text/plain": [
       "(49, 10)"
      ]
     },
     "execution_count": 69,
     "metadata": {},
     "output_type": "execute_result"
    }
   ],
   "source": [
    "data_5.shape"
   ]
  },
  {
   "cell_type": "code",
   "execution_count": 70,
   "metadata": {},
   "outputs": [],
   "source": [
    "data.drop([0,31], axis = 0, inplace = True)"
   ]
  },
  {
   "cell_type": "code",
   "execution_count": 71,
   "metadata": {},
   "outputs": [],
   "source": [
    "data_2.drop([0,184], axis = 0, inplace = True)"
   ]
  },
  {
   "cell_type": "code",
   "execution_count": 72,
   "metadata": {},
   "outputs": [],
   "source": [
    "data_3.drop([0,182], axis = 0, inplace = True)"
   ]
  },
  {
   "cell_type": "code",
   "execution_count": 73,
   "metadata": {},
   "outputs": [],
   "source": [
    "data_4.drop([0,181], axis = 0, inplace = True)"
   ]
  },
  {
   "cell_type": "code",
   "execution_count": 74,
   "metadata": {},
   "outputs": [],
   "source": [
    "data_5.drop([0,48], axis = 0, inplace = True)"
   ]
  },
  {
   "cell_type": "code",
   "execution_count": 75,
   "metadata": {},
   "outputs": [],
   "source": [
    "data.set_index('Date', inplace = True)"
   ]
  },
  {
   "cell_type": "code",
   "execution_count": 76,
   "metadata": {},
   "outputs": [],
   "source": [
    "data_2.set_index('Date', inplace = True)"
   ]
  },
  {
   "cell_type": "code",
   "execution_count": 77,
   "metadata": {},
   "outputs": [],
   "source": [
    "data_3.set_index('Date', inplace = True)"
   ]
  },
  {
   "cell_type": "code",
   "execution_count": 78,
   "metadata": {},
   "outputs": [],
   "source": [
    "data_4.set_index('Date', inplace = True)"
   ]
  },
  {
   "cell_type": "code",
   "execution_count": 79,
   "metadata": {},
   "outputs": [],
   "source": [
    "data_5.set_index('Date', inplace = True)"
   ]
  },
  {
   "cell_type": "markdown",
   "metadata": {},
   "source": [
    "## Exploratory Data Analysis"
   ]
  },
  {
   "cell_type": "code",
   "execution_count": 80,
   "metadata": {
    "scrolled": true
   },
   "outputs": [
    {
     "data": {
      "text/html": [
       "<div>\n",
       "<style scoped>\n",
       "    .dataframe tbody tr th:only-of-type {\n",
       "        vertical-align: middle;\n",
       "    }\n",
       "\n",
       "    .dataframe tbody tr th {\n",
       "        vertical-align: top;\n",
       "    }\n",
       "\n",
       "    .dataframe thead th {\n",
       "        text-align: right;\n",
       "    }\n",
       "</style>\n",
       "<table border=\"1\" class=\"dataframe\">\n",
       "  <thead>\n",
       "    <tr style=\"text-align: right;\">\n",
       "      <th></th>\n",
       "      <th>Day of the Week</th>\n",
       "      <th>Bill Count</th>\n",
       "      <th>Voids</th>\n",
       "      <th>Gross Sales</th>\n",
       "      <th>Discounts</th>\n",
       "      <th>Net Sales</th>\n",
       "      <th>Menu Item Cost</th>\n",
       "      <th>Labor Cost</th>\n",
       "      <th>Margin</th>\n",
       "    </tr>\n",
       "  </thead>\n",
       "  <tbody>\n",
       "    <tr>\n",
       "      <td>count</td>\n",
       "      <td>30</td>\n",
       "      <td>30</td>\n",
       "      <td>30</td>\n",
       "      <td>30</td>\n",
       "      <td>30</td>\n",
       "      <td>30</td>\n",
       "      <td>30</td>\n",
       "      <td>30</td>\n",
       "      <td>30</td>\n",
       "    </tr>\n",
       "    <tr>\n",
       "      <td>unique</td>\n",
       "      <td>7</td>\n",
       "      <td>26</td>\n",
       "      <td>27</td>\n",
       "      <td>30</td>\n",
       "      <td>18</td>\n",
       "      <td>30</td>\n",
       "      <td>1</td>\n",
       "      <td>30</td>\n",
       "      <td>30</td>\n",
       "    </tr>\n",
       "    <tr>\n",
       "      <td>top</td>\n",
       "      <td>Saturday</td>\n",
       "      <td>103</td>\n",
       "      <td>$144.00</td>\n",
       "      <td>$7,214.01</td>\n",
       "      <td>$0.00</td>\n",
       "      <td>$4,391.00</td>\n",
       "      <td>$0.00</td>\n",
       "      <td>$622.87</td>\n",
       "      <td>$3,391.48</td>\n",
       "    </tr>\n",
       "    <tr>\n",
       "      <td>freq</td>\n",
       "      <td>5</td>\n",
       "      <td>3</td>\n",
       "      <td>2</td>\n",
       "      <td>1</td>\n",
       "      <td>13</td>\n",
       "      <td>1</td>\n",
       "      <td>30</td>\n",
       "      <td>1</td>\n",
       "      <td>1</td>\n",
       "    </tr>\n",
       "  </tbody>\n",
       "</table>\n",
       "</div>"
      ],
      "text/plain": [
       "0      Day of the Week Bill Count    Voids Gross Sales Discounts  Net Sales  \\\n",
       "count               30         30       30          30        30         30   \n",
       "unique               7         26       27          30        18         30   \n",
       "top           Saturday        103  $144.00   $7,214.01     $0.00  $4,391.00   \n",
       "freq                 5          3        2           1        13          1   \n",
       "\n",
       "0      Menu Item Cost Labor Cost     Margin  \n",
       "count              30         30         30  \n",
       "unique              1         30         30  \n",
       "top             $0.00    $622.87  $3,391.48  \n",
       "freq               30          1          1  "
      ]
     },
     "execution_count": 80,
     "metadata": {},
     "output_type": "execute_result"
    }
   ],
   "source": [
    "data.describe()"
   ]
  },
  {
   "cell_type": "code",
   "execution_count": 81,
   "metadata": {},
   "outputs": [
    {
     "data": {
      "text/html": [
       "<div>\n",
       "<style scoped>\n",
       "    .dataframe tbody tr th:only-of-type {\n",
       "        vertical-align: middle;\n",
       "    }\n",
       "\n",
       "    .dataframe tbody tr th {\n",
       "        vertical-align: top;\n",
       "    }\n",
       "\n",
       "    .dataframe thead th {\n",
       "        text-align: right;\n",
       "    }\n",
       "</style>\n",
       "<table border=\"1\" class=\"dataframe\">\n",
       "  <thead>\n",
       "    <tr style=\"text-align: right;\">\n",
       "      <th></th>\n",
       "      <th>Day of the Week</th>\n",
       "      <th>Bill Count</th>\n",
       "      <th>Voids</th>\n",
       "      <th>Gross Sales</th>\n",
       "      <th>Discounts</th>\n",
       "      <th>Net Sales</th>\n",
       "      <th>Menu Item Cost</th>\n",
       "      <th>Labor Cost</th>\n",
       "      <th>Margin</th>\n",
       "    </tr>\n",
       "  </thead>\n",
       "  <tbody>\n",
       "    <tr>\n",
       "      <td>count</td>\n",
       "      <td>183</td>\n",
       "      <td>183</td>\n",
       "      <td>183</td>\n",
       "      <td>183</td>\n",
       "      <td>183</td>\n",
       "      <td>183</td>\n",
       "      <td>183</td>\n",
       "      <td>183</td>\n",
       "      <td>183</td>\n",
       "    </tr>\n",
       "    <tr>\n",
       "      <td>unique</td>\n",
       "      <td>7</td>\n",
       "      <td>88</td>\n",
       "      <td>135</td>\n",
       "      <td>182</td>\n",
       "      <td>103</td>\n",
       "      <td>179</td>\n",
       "      <td>38</td>\n",
       "      <td>182</td>\n",
       "      <td>182</td>\n",
       "    </tr>\n",
       "    <tr>\n",
       "      <td>top</td>\n",
       "      <td>Sunday</td>\n",
       "      <td>82</td>\n",
       "      <td>$86.00</td>\n",
       "      <td>$3,555.00</td>\n",
       "      <td>$0.00</td>\n",
       "      <td>$6,029.00</td>\n",
       "      <td>$0.00</td>\n",
       "      <td>$1,136.97</td>\n",
       "      <td>$3,048.28</td>\n",
       "    </tr>\n",
       "    <tr>\n",
       "      <td>freq</td>\n",
       "      <td>27</td>\n",
       "      <td>8</td>\n",
       "      <td>5</td>\n",
       "      <td>2</td>\n",
       "      <td>70</td>\n",
       "      <td>3</td>\n",
       "      <td>86</td>\n",
       "      <td>2</td>\n",
       "      <td>2</td>\n",
       "    </tr>\n",
       "  </tbody>\n",
       "</table>\n",
       "</div>"
      ],
      "text/plain": [
       "0      Day of the Week Bill Count   Voids Gross Sales Discounts  Net Sales  \\\n",
       "count              183        183     183         183       183        183   \n",
       "unique               7         88     135         182       103        179   \n",
       "top             Sunday         82  $86.00   $3,555.00     $0.00  $6,029.00   \n",
       "freq                27          8       5           2        70          3   \n",
       "\n",
       "0      Menu Item Cost Labor Cost     Margin  \n",
       "count             183        183        183  \n",
       "unique             38        182        182  \n",
       "top             $0.00  $1,136.97  $3,048.28  \n",
       "freq               86          2          2  "
      ]
     },
     "execution_count": 81,
     "metadata": {},
     "output_type": "execute_result"
    }
   ],
   "source": [
    "data_2.describe()"
   ]
  },
  {
   "cell_type": "code",
   "execution_count": 82,
   "metadata": {},
   "outputs": [
    {
     "data": {
      "text/html": [
       "<div>\n",
       "<style scoped>\n",
       "    .dataframe tbody tr th:only-of-type {\n",
       "        vertical-align: middle;\n",
       "    }\n",
       "\n",
       "    .dataframe tbody tr th {\n",
       "        vertical-align: top;\n",
       "    }\n",
       "\n",
       "    .dataframe thead th {\n",
       "        text-align: right;\n",
       "    }\n",
       "</style>\n",
       "<table border=\"1\" class=\"dataframe\">\n",
       "  <thead>\n",
       "    <tr style=\"text-align: right;\">\n",
       "      <th></th>\n",
       "      <th>Day of the Week</th>\n",
       "      <th>Bill Count</th>\n",
       "      <th>Voids</th>\n",
       "      <th>Gross Sales</th>\n",
       "      <th>Discounts</th>\n",
       "      <th>Net Sales</th>\n",
       "      <th>Menu Item Cost</th>\n",
       "      <th>Labor Cost</th>\n",
       "      <th>Margin</th>\n",
       "    </tr>\n",
       "  </thead>\n",
       "  <tbody>\n",
       "    <tr>\n",
       "      <td>count</td>\n",
       "      <td>181</td>\n",
       "      <td>181</td>\n",
       "      <td>181</td>\n",
       "      <td>181</td>\n",
       "      <td>181</td>\n",
       "      <td>181</td>\n",
       "      <td>181</td>\n",
       "      <td>181</td>\n",
       "      <td>181</td>\n",
       "    </tr>\n",
       "    <tr>\n",
       "      <td>unique</td>\n",
       "      <td>7</td>\n",
       "      <td>94</td>\n",
       "      <td>123</td>\n",
       "      <td>177</td>\n",
       "      <td>126</td>\n",
       "      <td>181</td>\n",
       "      <td>85</td>\n",
       "      <td>181</td>\n",
       "      <td>181</td>\n",
       "    </tr>\n",
       "    <tr>\n",
       "      <td>top</td>\n",
       "      <td>Saturday</td>\n",
       "      <td>65</td>\n",
       "      <td>$0.00</td>\n",
       "      <td>$2,762.00</td>\n",
       "      <td>$0.00</td>\n",
       "      <td>$3,299.75</td>\n",
       "      <td>$0.00</td>\n",
       "      <td>$950.97</td>\n",
       "      <td>$1,553.76</td>\n",
       "    </tr>\n",
       "    <tr>\n",
       "      <td>freq</td>\n",
       "      <td>26</td>\n",
       "      <td>6</td>\n",
       "      <td>13</td>\n",
       "      <td>2</td>\n",
       "      <td>38</td>\n",
       "      <td>1</td>\n",
       "      <td>12</td>\n",
       "      <td>1</td>\n",
       "      <td>1</td>\n",
       "    </tr>\n",
       "  </tbody>\n",
       "</table>\n",
       "</div>"
      ],
      "text/plain": [
       "0      Day of the Week Bill Count  Voids Gross Sales Discounts  Net Sales  \\\n",
       "count              181        181    181         181       181        181   \n",
       "unique               7         94    123         177       126        181   \n",
       "top           Saturday         65  $0.00   $2,762.00     $0.00  $3,299.75   \n",
       "freq                26          6     13           2        38          1   \n",
       "\n",
       "0      Menu Item Cost Labor Cost     Margin  \n",
       "count             181        181        181  \n",
       "unique             85        181        181  \n",
       "top             $0.00    $950.97  $1,553.76  \n",
       "freq               12          1          1  "
      ]
     },
     "execution_count": 82,
     "metadata": {},
     "output_type": "execute_result"
    }
   ],
   "source": [
    "data_3.describe()"
   ]
  },
  {
   "cell_type": "code",
   "execution_count": 83,
   "metadata": {},
   "outputs": [
    {
     "data": {
      "text/html": [
       "<div>\n",
       "<style scoped>\n",
       "    .dataframe tbody tr th:only-of-type {\n",
       "        vertical-align: middle;\n",
       "    }\n",
       "\n",
       "    .dataframe tbody tr th {\n",
       "        vertical-align: top;\n",
       "    }\n",
       "\n",
       "    .dataframe thead th {\n",
       "        text-align: right;\n",
       "    }\n",
       "</style>\n",
       "<table border=\"1\" class=\"dataframe\">\n",
       "  <thead>\n",
       "    <tr style=\"text-align: right;\">\n",
       "      <th></th>\n",
       "      <th>Day of the Week</th>\n",
       "      <th>Bill Count</th>\n",
       "      <th>Voids</th>\n",
       "      <th>Gross Sales</th>\n",
       "      <th>Discounts</th>\n",
       "      <th>Net Sales</th>\n",
       "      <th>Menu Item Cost</th>\n",
       "      <th>Labor Cost</th>\n",
       "      <th>Margin</th>\n",
       "    </tr>\n",
       "  </thead>\n",
       "  <tbody>\n",
       "    <tr>\n",
       "      <td>count</td>\n",
       "      <td>180</td>\n",
       "      <td>180</td>\n",
       "      <td>180</td>\n",
       "      <td>180</td>\n",
       "      <td>180</td>\n",
       "      <td>180</td>\n",
       "      <td>180</td>\n",
       "      <td>180</td>\n",
       "      <td>180</td>\n",
       "    </tr>\n",
       "    <tr>\n",
       "      <td>unique</td>\n",
       "      <td>7</td>\n",
       "      <td>88</td>\n",
       "      <td>139</td>\n",
       "      <td>178</td>\n",
       "      <td>117</td>\n",
       "      <td>179</td>\n",
       "      <td>68</td>\n",
       "      <td>180</td>\n",
       "      <td>180</td>\n",
       "    </tr>\n",
       "    <tr>\n",
       "      <td>top</td>\n",
       "      <td>Saturday</td>\n",
       "      <td>78</td>\n",
       "      <td>$0.00</td>\n",
       "      <td>$4,178.00</td>\n",
       "      <td>$0.00</td>\n",
       "      <td>$6,114.30</td>\n",
       "      <td>$0.00</td>\n",
       "      <td>$974.40</td>\n",
       "      <td>$7,103.43</td>\n",
       "    </tr>\n",
       "    <tr>\n",
       "      <td>freq</td>\n",
       "      <td>26</td>\n",
       "      <td>8</td>\n",
       "      <td>5</td>\n",
       "      <td>2</td>\n",
       "      <td>28</td>\n",
       "      <td>2</td>\n",
       "      <td>28</td>\n",
       "      <td>1</td>\n",
       "      <td>1</td>\n",
       "    </tr>\n",
       "  </tbody>\n",
       "</table>\n",
       "</div>"
      ],
      "text/plain": [
       "0      Day of the Week Bill Count  Voids Gross Sales Discounts  Net Sales  \\\n",
       "count              180        180    180         180       180        180   \n",
       "unique               7         88    139         178       117        179   \n",
       "top           Saturday         78  $0.00   $4,178.00     $0.00  $6,114.30   \n",
       "freq                26          8      5           2        28          2   \n",
       "\n",
       "0      Menu Item Cost Labor Cost     Margin  \n",
       "count             180        180        180  \n",
       "unique             68        180        180  \n",
       "top             $0.00    $974.40  $7,103.43  \n",
       "freq               28          1          1  "
      ]
     },
     "execution_count": 83,
     "metadata": {},
     "output_type": "execute_result"
    }
   ],
   "source": [
    "data_4.describe()"
   ]
  },
  {
   "cell_type": "code",
   "execution_count": 84,
   "metadata": {},
   "outputs": [
    {
     "data": {
      "text/html": [
       "<div>\n",
       "<style scoped>\n",
       "    .dataframe tbody tr th:only-of-type {\n",
       "        vertical-align: middle;\n",
       "    }\n",
       "\n",
       "    .dataframe tbody tr th {\n",
       "        vertical-align: top;\n",
       "    }\n",
       "\n",
       "    .dataframe thead th {\n",
       "        text-align: right;\n",
       "    }\n",
       "</style>\n",
       "<table border=\"1\" class=\"dataframe\">\n",
       "  <thead>\n",
       "    <tr style=\"text-align: right;\">\n",
       "      <th></th>\n",
       "      <th>Day of the Week</th>\n",
       "      <th>Bill Count</th>\n",
       "      <th>Voids</th>\n",
       "      <th>Gross Sales</th>\n",
       "      <th>Discounts</th>\n",
       "      <th>Net Sales</th>\n",
       "      <th>Menu Item Cost</th>\n",
       "      <th>Labor Cost</th>\n",
       "      <th>Margin</th>\n",
       "    </tr>\n",
       "  </thead>\n",
       "  <tbody>\n",
       "    <tr>\n",
       "      <td>count</td>\n",
       "      <td>47</td>\n",
       "      <td>47</td>\n",
       "      <td>47</td>\n",
       "      <td>47</td>\n",
       "      <td>47</td>\n",
       "      <td>47</td>\n",
       "      <td>47</td>\n",
       "      <td>47</td>\n",
       "      <td>47</td>\n",
       "    </tr>\n",
       "    <tr>\n",
       "      <td>unique</td>\n",
       "      <td>7</td>\n",
       "      <td>36</td>\n",
       "      <td>44</td>\n",
       "      <td>47</td>\n",
       "      <td>30</td>\n",
       "      <td>47</td>\n",
       "      <td>29</td>\n",
       "      <td>47</td>\n",
       "      <td>47</td>\n",
       "    </tr>\n",
       "    <tr>\n",
       "      <td>top</td>\n",
       "      <td>Sunday</td>\n",
       "      <td>78</td>\n",
       "      <td>$52.00</td>\n",
       "      <td>$2,629.66</td>\n",
       "      <td>$0.00</td>\n",
       "      <td>$2,629.66</td>\n",
       "      <td>$0.00</td>\n",
       "      <td>$1,000.42</td>\n",
       "      <td>$1,116.67</td>\n",
       "    </tr>\n",
       "    <tr>\n",
       "      <td>freq</td>\n",
       "      <td>7</td>\n",
       "      <td>3</td>\n",
       "      <td>2</td>\n",
       "      <td>1</td>\n",
       "      <td>13</td>\n",
       "      <td>1</td>\n",
       "      <td>6</td>\n",
       "      <td>1</td>\n",
       "      <td>1</td>\n",
       "    </tr>\n",
       "  </tbody>\n",
       "</table>\n",
       "</div>"
      ],
      "text/plain": [
       "0      Day of the Week Bill Count   Voids Gross Sales Discounts  Net Sales  \\\n",
       "count               47         47      47          47        47         47   \n",
       "unique               7         36      44          47        30         47   \n",
       "top             Sunday         78  $52.00   $2,629.66     $0.00  $2,629.66   \n",
       "freq                 7          3       2           1        13          1   \n",
       "\n",
       "0      Menu Item Cost Labor Cost     Margin  \n",
       "count              47         47         47  \n",
       "unique             29         47         47  \n",
       "top             $0.00  $1,000.42  $1,116.67  \n",
       "freq                6          1          1  "
      ]
     },
     "execution_count": 84,
     "metadata": {},
     "output_type": "execute_result"
    }
   ],
   "source": [
    "data_5.describe()"
   ]
  },
  {
   "cell_type": "code",
   "execution_count": 85,
   "metadata": {},
   "outputs": [
    {
     "data": {
      "text/plain": [
       "0\n",
       "Margin             0\n",
       "Labor Cost         0\n",
       "Menu Item Cost     0\n",
       "Net Sales          0\n",
       "Discounts          0\n",
       "Gross Sales        0\n",
       "Voids              0\n",
       "Bill Count         0\n",
       "Day of the Week    0\n",
       "dtype: int64"
      ]
     },
     "execution_count": 85,
     "metadata": {},
     "output_type": "execute_result"
    }
   ],
   "source": [
    "data_2.isnull().sum().sort_values(ascending = False)"
   ]
  },
  {
   "cell_type": "code",
   "execution_count": 86,
   "metadata": {},
   "outputs": [
    {
     "data": {
      "text/plain": [
       "0\n",
       "Margin             0\n",
       "Labor Cost         0\n",
       "Menu Item Cost     0\n",
       "Net Sales          0\n",
       "Discounts          0\n",
       "Gross Sales        0\n",
       "Voids              0\n",
       "Bill Count         0\n",
       "Day of the Week    0\n",
       "dtype: int64"
      ]
     },
     "execution_count": 86,
     "metadata": {},
     "output_type": "execute_result"
    }
   ],
   "source": [
    "data.isnull().sum().sort_values(ascending = False)"
   ]
  },
  {
   "cell_type": "code",
   "execution_count": 87,
   "metadata": {},
   "outputs": [
    {
     "data": {
      "text/plain": [
       "0\n",
       "Margin             0\n",
       "Labor Cost         0\n",
       "Menu Item Cost     0\n",
       "Net Sales          0\n",
       "Discounts          0\n",
       "Gross Sales        0\n",
       "Voids              0\n",
       "Bill Count         0\n",
       "Day of the Week    0\n",
       "dtype: int64"
      ]
     },
     "execution_count": 87,
     "metadata": {},
     "output_type": "execute_result"
    }
   ],
   "source": [
    "data_3.isnull().sum().sort_values(ascending = False)"
   ]
  },
  {
   "cell_type": "code",
   "execution_count": 88,
   "metadata": {},
   "outputs": [
    {
     "data": {
      "text/plain": [
       "0\n",
       "Margin             0\n",
       "Labor Cost         0\n",
       "Menu Item Cost     0\n",
       "Net Sales          0\n",
       "Discounts          0\n",
       "Gross Sales        0\n",
       "Voids              0\n",
       "Bill Count         0\n",
       "Day of the Week    0\n",
       "dtype: int64"
      ]
     },
     "execution_count": 88,
     "metadata": {},
     "output_type": "execute_result"
    }
   ],
   "source": [
    "data_4.isnull().sum().sort_values(ascending = False)"
   ]
  },
  {
   "cell_type": "code",
   "execution_count": 89,
   "metadata": {},
   "outputs": [
    {
     "data": {
      "text/plain": [
       "0\n",
       "Margin             0\n",
       "Labor Cost         0\n",
       "Menu Item Cost     0\n",
       "Net Sales          0\n",
       "Discounts          0\n",
       "Gross Sales        0\n",
       "Voids              0\n",
       "Bill Count         0\n",
       "Day of the Week    0\n",
       "dtype: int64"
      ]
     },
     "execution_count": 89,
     "metadata": {},
     "output_type": "execute_result"
    }
   ],
   "source": [
    "data_5.isnull().sum().sort_values(ascending = False)"
   ]
  },
  {
   "cell_type": "code",
   "execution_count": 90,
   "metadata": {},
   "outputs": [],
   "source": [
    "merge=pd.concat([data,data_2,data_3,data_4,data_5])"
   ]
  },
  {
   "cell_type": "code",
   "execution_count": 91,
   "metadata": {},
   "outputs": [
    {
     "data": {
      "text/plain": [
       "0\n",
       "Day of the Week    object\n",
       "Bill Count         object\n",
       "Voids              object\n",
       "Gross Sales        object\n",
       "Discounts          object\n",
       "Net Sales          object\n",
       "Menu Item Cost     object\n",
       "Labor Cost         object\n",
       "Margin             object\n",
       "dtype: object"
      ]
     },
     "execution_count": 91,
     "metadata": {},
     "output_type": "execute_result"
    }
   ],
   "source": [
    "merge.dtypes"
   ]
  },
  {
   "cell_type": "code",
   "execution_count": 92,
   "metadata": {},
   "outputs": [],
   "source": [
    "t = [\"Voids\", \"Gross Sales\", \"Discounts\", \"Net Sales\", \"Menu Item Cost\", \"Labor Cost\", \"Margin\"]\n"
   ]
  },
  {
   "cell_type": "code",
   "execution_count": 93,
   "metadata": {},
   "outputs": [],
   "source": [
    "merge[t] = merge[t].replace({'\\$': '', ',': ''}, regex=True).astype(float)"
   ]
  },
  {
   "cell_type": "code",
   "execution_count": 94,
   "metadata": {},
   "outputs": [],
   "source": [
    "merge[\"Bill Count\"] = merge[\"Bill Count\"].astype(int)"
   ]
  },
  {
   "cell_type": "code",
   "execution_count": 95,
   "metadata": {
    "scrolled": true
   },
   "outputs": [],
   "source": [
    "merge = pd.concat([merge, pd.get_dummies(merge['Day of the Week'])], axis=1)"
   ]
  },
  {
   "cell_type": "code",
   "execution_count": 96,
   "metadata": {},
   "outputs": [],
   "source": [
    "merge.drop('Day of the Week', axis = 1, inplace = True)"
   ]
  },
  {
   "cell_type": "code",
   "execution_count": 97,
   "metadata": {},
   "outputs": [],
   "source": [
    "merge.sort_index(inplace = True)"
   ]
  },
  {
   "cell_type": "code",
   "execution_count": 98,
   "metadata": {},
   "outputs": [],
   "source": [
    "x_cols = [\"Voids\", \"Discounts\", \"Net Sales\", \"Menu Item Cost\", \"Labor Cost\", \"Margin\", \"Bill Count\", \"Sunday\", \"Monday\", \"Tuesday\", \"Wednesday\",\"Thursday\", \"Friday\", \"Saturday\"]"
   ]
  },
  {
   "cell_type": "code",
   "execution_count": 99,
   "metadata": {},
   "outputs": [],
   "source": [
    "merge_shift = merge[x_cols].shift(7).dropna()"
   ]
  },
  {
   "cell_type": "markdown",
   "metadata": {},
   "source": [
    "### Visualizing Feature Distributions"
   ]
  },
  {
   "cell_type": "code",
   "execution_count": 100,
   "metadata": {},
   "outputs": [
    {
     "data": {
      "text/plain": [
       "<matplotlib.axes._subplots.AxesSubplot at 0x124c76a50>"
      ]
     },
     "execution_count": 100,
     "metadata": {},
     "output_type": "execute_result"
    },
    {
     "data": {
      "image/png": "[encoded data removed]",
      "text/plain": [
       "<Figure size 432x288 with 1 Axes>"
      ]
     },
     "metadata": {
      "needs_background": "light"
     },
     "output_type": "display_data"
    }
   ],
   "source": [
    "merge[\"Gross Sales\"].plot(kind = \"hist\")"
   ]
  },
  {
   "cell_type": "code",
   "execution_count": 101,
   "metadata": {},
   "outputs": [
    {
     "data": {
      "text/plain": [
       "array([[<matplotlib.axes._subplots.AxesSubplot object at 0x124395350>,\n",
       "        <matplotlib.axes._subplots.AxesSubplot object at 0x124e2be90>,\n",
       "        <matplotlib.axes._subplots.AxesSubplot object at 0x124f06c50>,\n",
       "        <matplotlib.axes._subplots.AxesSubplot object at 0x124f3af50>],\n",
       "       [<matplotlib.axes._subplots.AxesSubplot object at 0x124f707d0>,\n",
       "        <matplotlib.axes._subplots.AxesSubplot object at 0x10828aad0>,\n",
       "        <matplotlib.axes._subplots.AxesSubplot object at 0x1082bedd0>,\n",
       "        <matplotlib.axes._subplots.AxesSubplot object at 0x1082fc110>],\n",
       "       [<matplotlib.axes._subplots.AxesSubplot object at 0x1082fcb90>,\n",
       "        <matplotlib.axes._subplots.AxesSubplot object at 0x108331fd0>,\n",
       "        <matplotlib.axes._subplots.AxesSubplot object at 0x1083a3a10>,\n",
       "        <matplotlib.axes._subplots.AxesSubplot object at 0x124fb4d10>],\n",
       "       [<matplotlib.axes._subplots.AxesSubplot object at 0x124fecf90>,\n",
       "        <matplotlib.axes._subplots.AxesSubplot object at 0x125031dd0>,\n",
       "        <matplotlib.axes._subplots.AxesSubplot object at 0x125068a10>,\n",
       "        <matplotlib.axes._subplots.AxesSubplot object at 0x1250a7d90>]],\n",
       "      dtype=object)"
      ]
     },
     "execution_count": 101,
     "metadata": {},
     "output_type": "execute_result"
    },
    {
     "data": {
      "image/png": "[encoded data removed]",
      "text/plain": [
       "<Figure size 1080x1080 with 16 Axes>"
      ]
     },
     "metadata": {
      "needs_background": "light"
     },
     "output_type": "display_data"
    }
   ],
   "source": [
    "merge[x_cols].hist(figsize=(15, 15))"
   ]
  },
  {
   "cell_type": "markdown",
   "metadata": {},
   "source": [
    "### Daily Gross Sales Correlation Heatmap "
   ]
  },
  {
   "cell_type": "code",
   "execution_count": 102,
   "metadata": {},
   "outputs": [],
   "source": [
    "def heatmap_numeric_w_dependent_variable(df, dependent_variable):\n",
    "    plt.figure(figsize=(12, 12))\n",
    "    graph = sns.heatmap(df.corr()[[dependent_variable]].sort_values(by=dependent_variable), \n",
    "                    annot=True, \n",
    "                    cmap='coolwarm', \n",
    "                    vmin=-1,\n",
    "                    vmax=1) \n",
    "    return graph"
   ]
  },
  {
   "cell_type": "code",
   "execution_count": 103,
   "metadata": {},
   "outputs": [
    {
     "data": {
      "text/plain": [
       "<matplotlib.axes._subplots.AxesSubplot at 0x12595cd10>"
      ]
     },
     "execution_count": 103,
     "metadata": {},
     "output_type": "execute_result"
    },
    {
     "data": {
      "image/png": "[encoded data removed]",
      "text/plain": [
       "<Figure size 864x864 with 2 Axes>"
      ]
     },
     "metadata": {
      "needs_background": "light"
     },
     "output_type": "display_data"
    }
   ],
   "source": [
    "heatmap_numeric_w_dependent_variable(merge, \"Gross Sales\")"
   ]
  },
  {
   "cell_type": "code",
   "execution_count": 104,
   "metadata": {},
   "outputs": [],
   "source": [
    "drop_corr_cols = [\"Net Sales\", \"Margin\"]"
   ]
  },
  {
   "cell_type": "code",
   "execution_count": 105,
   "metadata": {},
   "outputs": [],
   "source": [
    "merge.drop(drop_corr_cols, axis = 1, inplace = True)"
   ]
  },
  {
   "cell_type": "markdown",
   "metadata": {},
   "source": [
    "### Daily Gross Sales (in thousands)"
   ]
  },
  {
   "cell_type": "code",
   "execution_count": 106,
   "metadata": {},
   "outputs": [],
   "source": [
    "def plot_series(df, cols=None, title='Title', xlab=None, ylab=None, steps=1):\n",
    "    \n",
    "    # Set figure size to be (18, 9).\n",
    "    plt.figure(figsize=(18,9))\n",
    "    \n",
    "    # Iterate through each column name.\n",
    "    for col in cols:\n",
    "            \n",
    "        # Generate a line plot of the column name.\n",
    "        # You only have to specify Y, since our\n",
    "        # index will be a datetime index.\n",
    "        plt.plot(df[col])\n",
    "        \n",
    "    # Generate title and labels.\n",
    "    plt.title(title, fontsize=26)\n",
    "    plt.xlabel(xlab, fontsize=20)\n",
    "    plt.ylabel(ylab, fontsize=20)\n",
    "    \n",
    "    # Enlarge tick marks.\n",
    "    plt.yticks(fontsize=18)\n",
    "    plt.xticks(df.index[0::steps], fontsize=18);"
   ]
  },
  {
   "cell_type": "code",
   "execution_count": 107,
   "metadata": {},
   "outputs": [
    {
     "data": {
      "image/png": "[encoded data removed]",
      "text/plain": [
       "<Figure size 1296x648 with 1 Axes>"
      ]
     },
     "metadata": {
      "needs_background": "light"
     },
     "output_type": "display_data"
    }
   ],
   "source": [
    "plot_series(merge, ['Gross Sales'], title = \"Daily Sales (in thousands)\", steps= 90)"
   ]
  },
  {
   "cell_type": "markdown",
   "metadata": {},
   "source": [
    "### ACF & PACF Plots"
   ]
  },
  {
   "cell_type": "code",
   "execution_count": 108,
   "metadata": {},
   "outputs": [
    {
     "data": {
      "image/png": "[encoded data removed]",
      "text/plain": [
       "<Figure size 432x288 with 1 Axes>"
      ]
     },
     "metadata": {
      "needs_background": "light"
     },
     "output_type": "display_data"
    }
   ],
   "source": [
    "# Generate plot.\n",
    "plot_acf(merge['Gross Sales'].dropna(), lags=20);"
   ]
  },
  {
   "cell_type": "code",
   "execution_count": 109,
   "metadata": {},
   "outputs": [
    {
     "data": {
      "image/png": "[encoded data removed]",
      "text/plain": [
       "<Figure size 432x288 with 1 Axes>"
      ]
     },
     "metadata": {
      "needs_background": "light"
     },
     "output_type": "display_data"
    }
   ],
   "source": [
    "plot_pacf(merge['Gross Sales'].dropna(), lags=20);"
   ]
  },
  {
   "cell_type": "markdown",
   "metadata": {},
   "source": [
    "## ADF Test for Stationarity"
   ]
  },
  {
   "cell_type": "code",
   "execution_count": 110,
   "metadata": {},
   "outputs": [
    {
     "data": {
      "text/plain": [
       "(-4.413893331869135,\n",
       " 0.00028047084978728866,\n",
       " 14,\n",
       " 606,\n",
       " {'1%': -3.4411869900487906,\n",
       "  '5%': -2.866321181236609,\n",
       "  '10%': -2.569316262893616},\n",
       " 9994.277564875969)"
      ]
     },
     "execution_count": 110,
     "metadata": {},
     "output_type": "execute_result"
    }
   ],
   "source": [
    "# Run ADF test on original (non-differenced!) data.\n",
    "adfuller(merge['Gross Sales'])"
   ]
  },
  {
   "cell_type": "code",
   "execution_count": 111,
   "metadata": {},
   "outputs": [],
   "source": [
    "# Code written by Joseph Nelson.\n",
    "def interpret_dftest(dftest):\n",
    "    dfoutput = pd.Series(dftest[0:2], index=['Test Statistic','p-value'])\n",
    "    return dfoutput"
   ]
  },
  {
   "cell_type": "code",
   "execution_count": 112,
   "metadata": {},
   "outputs": [
    {
     "data": {
      "text/plain": [
       "Test Statistic   -4.413893\n",
       "p-value           0.000280\n",
       "dtype: float64"
      ]
     },
     "execution_count": 112,
     "metadata": {},
     "output_type": "execute_result"
    }
   ],
   "source": [
    "# Run ADF test on original (non-differenced!) data.\n",
    "interpret_dftest(adfuller(merge['Gross Sales']))"
   ]
  },
  {
   "cell_type": "markdown",
   "metadata": {},
   "source": [
    "## Model Prep"
   ]
  },
  {
   "cell_type": "code",
   "execution_count": 113,
   "metadata": {},
   "outputs": [],
   "source": [
    "merge_shift.index = pd.DatetimeIndex(merge_shift.index).to_period('d')"
   ]
  },
  {
   "cell_type": "code",
   "execution_count": 114,
   "metadata": {},
   "outputs": [
    {
     "data": {
      "text/plain": [
       "217.35"
      ]
     },
     "execution_count": 114,
     "metadata": {},
     "output_type": "execute_result"
    }
   ],
   "source": [
    "621 *.35"
   ]
  },
  {
   "cell_type": "code",
   "execution_count": 115,
   "metadata": {},
   "outputs": [],
   "source": [
    "X_train = merge_shift.iloc[:404,:]"
   ]
  },
  {
   "cell_type": "code",
   "execution_count": 116,
   "metadata": {},
   "outputs": [],
   "source": [
    "X_test = merge_shift.iloc[404:]"
   ]
  },
  {
   "cell_type": "code",
   "execution_count": 117,
   "metadata": {
    "scrolled": true
   },
   "outputs": [],
   "source": [
    "y = merge[\"Gross Sales\"]"
   ]
  },
  {
   "cell_type": "code",
   "execution_count": 118,
   "metadata": {},
   "outputs": [],
   "source": [
    "y = y.iloc[7:]"
   ]
  },
  {
   "cell_type": "code",
   "execution_count": 119,
   "metadata": {},
   "outputs": [],
   "source": [
    "X_test = merge_shift.iloc[404:]"
   ]
  },
  {
   "cell_type": "code",
   "execution_count": 120,
   "metadata": {},
   "outputs": [],
   "source": [
    "y_train =  y.iloc[:404]  "
   ]
  },
  {
   "cell_type": "code",
   "execution_count": 121,
   "metadata": {},
   "outputs": [],
   "source": [
    "y_test = y.iloc[404:]"
   ]
  },
  {
   "cell_type": "markdown",
   "metadata": {},
   "source": [
    "## Model Selection with AIC: "
   ]
  },
  {
   "cell_type": "code",
   "execution_count": 173,
   "metadata": {},
   "outputs": [],
   "source": [
    "# Define the p, d and q parameters to take any value between 0 and 2\n",
    "p = d = q = range(0, 2)\n",
    "\n",
    "# Generate all different combinations of p, q and q triplets\n",
    "pdq = list(itertools.product(p, d, q))\n",
    "\n",
    "# Generate all different combinations of seasonal p, q and q triplets\n",
    "seasonal_pdq = [(x[0], x[1], x[2], 12) for x in list(itertools.product(p, d, q))]"
   ]
  },
  {
   "cell_type": "code",
   "execution_count": 174,
   "metadata": {},
   "outputs": [
    {
     "name": "stdout",
     "output_type": "stream",
     "text": [
      "SARIMA(0, 0, 0)x(0, 0, 0, 12)12 - AIC:7986.045621479489\n",
      "SARIMA(0, 0, 0)x(0, 0, 1, 12)12 - AIC:7466.073754482237\n",
      "SARIMA(0, 0, 0)x(0, 1, 0, 12)12 - AIC:7275.602742500962\n",
      "SARIMA(0, 0, 0)x(0, 1, 1, 12)12 - AIC:6864.6344855653315\n",
      "SARIMA(0, 0, 0)x(1, 0, 0, 12)12 - AIC:7263.248099997239\n",
      "SARIMA(0, 0, 0)x(1, 0, 1, 12)12 - AIC:7097.606842905361\n",
      "SARIMA(0, 0, 0)x(1, 1, 0, 12)12 - AIC:7017.998625713373\n",
      "SARIMA(0, 0, 0)x(1, 1, 1, 12)12 - AIC:6775.930510092366\n",
      "SARIMA(0, 0, 1)x(0, 0, 0, 12)12 - AIC:7737.02187075953\n",
      "SARIMA(0, 0, 1)x(0, 0, 1, 12)12 - AIC:7439.1882974258515\n",
      "SARIMA(0, 0, 1)x(0, 1, 0, 12)12 - AIC:7125.366185495714\n",
      "SARIMA(0, 0, 1)x(0, 1, 1, 12)12 - AIC:6655.0466712419\n",
      "SARIMA(0, 0, 1)x(1, 0, 0, 12)12 - AIC:7449.14904264371\n",
      "SARIMA(0, 0, 1)x(1, 0, 1, 12)12 - AIC:6911.385180512967\n",
      "SARIMA(0, 0, 1)x(1, 1, 0, 12)12 - AIC:6869.089330567822\n",
      "SARIMA(0, 0, 1)x(1, 1, 1, 12)12 - AIC:6652.59320917619\n",
      "SARIMA(0, 1, 0)x(0, 0, 0, 12)12 - AIC:7181.871836759432\n",
      "SARIMA(0, 1, 0)x(0, 0, 1, 12)12 - AIC:6924.9648064795765\n",
      "SARIMA(0, 1, 0)x(0, 1, 0, 12)12 - AIC:7330.611810120043\n",
      "SARIMA(0, 1, 0)x(0, 1, 1, 12)12 - AIC:6788.461513123857\n",
      "SARIMA(0, 1, 0)x(1, 0, 0, 12)12 - AIC:6960.71796096218\n",
      "SARIMA(0, 1, 0)x(1, 0, 1, 12)12 - AIC:6921.342976339136\n",
      "SARIMA(0, 1, 0)x(1, 1, 0, 12)12 - AIC:7018.027827773486\n",
      "SARIMA(0, 1, 0)x(1, 1, 1, 12)12 - AIC:6766.208363210031\n",
      "SARIMA(0, 1, 1)x(0, 0, 0, 12)12 - AIC:7160.748088948805\n",
      "SARIMA(0, 1, 1)x(0, 0, 1, 12)12 - AIC:6902.661153563045\n",
      "SARIMA(0, 1, 1)x(0, 1, 0, 12)12 - AIC:7305.566555875347\n",
      "SARIMA(0, 1, 1)x(0, 1, 1, 12)12 - AIC:6881.19770901528\n",
      "SARIMA(0, 1, 1)x(1, 0, 0, 12)12 - AIC:6963.021463957394\n",
      "SARIMA(0, 1, 1)x(1, 0, 1, 12)12 - AIC:6902.482589537284\n",
      "SARIMA(0, 1, 1)x(1, 1, 0, 12)12 - AIC:7002.386701179542\n",
      "SARIMA(0, 1, 1)x(1, 1, 1, 12)12 - AIC:6718.75569493191\n",
      "SARIMA(1, 0, 0)x(0, 0, 0, 12)12 - AIC:7185.77267298687\n",
      "SARIMA(1, 0, 0)x(0, 0, 1, 12)12 - AIC:6935.738134267611\n",
      "SARIMA(1, 0, 0)x(0, 1, 0, 12)12 - AIC:7210.078586944048\n",
      "SARIMA(1, 0, 0)x(0, 1, 1, 12)12 - AIC:6698.105852369038\n",
      "SARIMA(1, 0, 0)x(1, 0, 0, 12)12 - AIC:6954.117603992214\n",
      "SARIMA(1, 0, 0)x(1, 0, 1, 12)12 - AIC:6935.994180947041\n",
      "SARIMA(1, 0, 0)x(1, 1, 0, 12)12 - AIC:6906.396635760573\n",
      "SARIMA(1, 0, 0)x(1, 1, 1, 12)12 - AIC:6685.931259699472\n",
      "SARIMA(1, 0, 1)x(0, 0, 0, 12)12 - AIC:7165.90555965977\n",
      "SARIMA(1, 0, 1)x(0, 0, 1, 12)12 - AIC:6919.337993739334\n",
      "SARIMA(1, 0, 1)x(0, 1, 0, 12)12 - AIC:7126.00413517229\n",
      "SARIMA(1, 0, 1)x(0, 1, 1, 12)12 - AIC:6651.811190879665\n",
      "SARIMA(1, 0, 1)x(1, 0, 0, 12)12 - AIC:6954.498205333663\n",
      "SARIMA(1, 0, 1)x(1, 0, 1, 12)12 - AIC:6919.61731653907\n",
      "SARIMA(1, 0, 1)x(1, 1, 0, 12)12 - AIC:6845.228197442735\n",
      "SARIMA(1, 0, 1)x(1, 1, 1, 12)12 - AIC:6646.8142084364235\n",
      "SARIMA(1, 1, 0)x(0, 0, 0, 12)12 - AIC:7183.36478230355\n",
      "SARIMA(1, 1, 0)x(0, 0, 1, 12)12 - AIC:6923.759551692634\n",
      "SARIMA(1, 1, 0)x(0, 1, 0, 12)12 - AIC:7331.349588366025\n",
      "SARIMA(1, 1, 0)x(0, 1, 1, 12)12 - AIC:6789.87129526316\n",
      "SARIMA(1, 1, 0)x(1, 0, 0, 12)12 - AIC:6946.4871212523785\n",
      "SARIMA(1, 1, 0)x(1, 0, 1, 12)12 - AIC:6920.4984856892825\n",
      "SARIMA(1, 1, 0)x(1, 1, 0, 12)12 - AIC:6991.2144854400885\n",
      "SARIMA(1, 1, 0)x(1, 1, 1, 12)12 - AIC:6767.9026377545615\n",
      "SARIMA(1, 1, 1)x(0, 0, 0, 12)12 - AIC:7040.4248573745035\n",
      "SARIMA(1, 1, 1)x(0, 0, 1, 12)12 - AIC:6809.887419386327\n",
      "SARIMA(1, 1, 1)x(0, 1, 0, 12)12 - AIC:7198.956131470454\n",
      "SARIMA(1, 1, 1)x(0, 1, 1, 12)12 - AIC:6660.973791883258\n",
      "SARIMA(1, 1, 1)x(1, 0, 0, 12)12 - AIC:6847.200527159424\n",
      "SARIMA(1, 1, 1)x(1, 0, 1, 12)12 - AIC:6782.635907746786\n",
      "SARIMA(1, 1, 1)x(1, 1, 0, 12)12 - AIC:6985.309697463019\n",
      "SARIMA(1, 1, 1)x(1, 1, 1, 12)12 - AIC:6642.636086975084\n"
     ]
    }
   ],
   "source": [
    "for param in pdq:\n",
    "    for param_seasonal in seasonal_pdq:\n",
    "        try:\n",
    "            mod = SARIMAX(y_train,\n",
    "                                            order=param,\n",
    "                                            seasonal_order=param_seasonal,\n",
    "                                            enforce_stationarity=False,\n",
    "                                            enforce_invertibility=False)\n",
    "\n",
    "            results = mod.fit()\n",
    "\n",
    "            print('SARIMA{}x{}12 - AIC:{}'.format(param, param_seasonal, results.aic))\n",
    "        except:\n",
    "            continue\n",
    "            \n",
    "            \n",
    "# #  #best params           "
   ]
  },
  {
   "cell_type": "code",
   "execution_count": 124,
   "metadata": {},
   "outputs": [],
   "source": [
    "y_test = y_test.to_frame()"
   ]
  },
  {
   "cell_type": "code",
   "execution_count": 125,
   "metadata": {},
   "outputs": [],
   "source": [
    "y_train =  y_train.to_frame()"
   ]
  },
  {
   "cell_type": "code",
   "execution_count": 126,
   "metadata": {},
   "outputs": [],
   "source": [
    "y_train.index = pd.DatetimeIndex(y_train.index).to_period('d')"
   ]
  },
  {
   "cell_type": "markdown",
   "metadata": {},
   "source": [
    "## Modeling"
   ]
  },
  {
   "cell_type": "code",
   "execution_count": 127,
   "metadata": {},
   "outputs": [],
   "source": [
    "# sarima = SARIMAX(endog = y_train,# inout the best params for this model\n",
    "#                  order = (1, 1, 1),              # (p, d, q)\n",
    "#                  seasonal_order = (1, 1, 1, 12),  # (P, D, Q, S)\n",
    "#                  exog = X_train)\n",
    "# # Fit SARIMA model\n",
    "# model = sarima.fit()"
   ]
  },
  {
   "cell_type": "code",
   "execution_count": 128,
   "metadata": {},
   "outputs": [],
   "source": [
    "# pip install pmdarima\n"
   ]
  },
  {
   "cell_type": "code",
   "execution_count": 129,
   "metadata": {},
   "outputs": [
    {
     "name": "stdout",
     "output_type": "stream",
     "text": [
      "Performing stepwise search to minimize aic\n",
      "Fit ARIMA: (1, 0, 1)x(0, 0, 0, 0) (constant=True); AIC=6637.747, BIC=6709.773, Time=0.629 seconds\n",
      "Fit ARIMA: (0, 0, 0)x(0, 0, 0, 0) (constant=True); AIC=6658.470, BIC=6722.493, Time=0.235 seconds\n",
      "Fit ARIMA: (1, 0, 0)x(0, 0, 0, 0) (constant=True); AIC=6636.146, BIC=6704.170, Time=0.628 seconds\n",
      "Fit ARIMA: (0, 0, 1)x(0, 0, 0, 0) (constant=True); AIC=6638.357, BIC=6706.381, Time=0.844 seconds\n",
      "Fit ARIMA: (0, 0, 0)x(0, 0, 0, 0) (constant=False); AIC=6656.477, BIC=6716.498, Time=0.876 seconds\n",
      "Fit ARIMA: (2, 0, 0)x(0, 0, 0, 0) (constant=True); AIC=6637.897, BIC=6709.923, Time=0.702 seconds\n",
      "Fit ARIMA: (2, 0, 1)x(0, 0, 0, 0) (constant=True); AIC=6637.226, BIC=6713.253, Time=0.969 seconds\n",
      "Total fit time: 4.892 seconds\n"
     ]
    }
   ],
   "source": [
    "import pmdarima as pm\n",
    "model_auto = pm.auto_arima(y_train, start_p=1, start_q=1,\n",
    "                          test='adf',\n",
    "                          max_p=3, max_q=3,\n",
    "                          m=1,\n",
    "                          d=None,\n",
    "                          seasonal=True,\n",
    "                          start_P=0,\n",
    "                          D=0,\n",
    "                          trace=True,\n",
    "                          error_action='ignore',\n",
    "                          suppress_warnings=True,\n",
    "                          stepwise=True,\n",
    "                          exogenous=X_train)"
   ]
  },
  {
   "cell_type": "code",
   "execution_count": 130,
   "metadata": {},
   "outputs": [
    {
     "data": {
      "text/html": [
       "<table class=\"simpletable\">\n",
       "<caption>SARIMAX Results</caption>\n",
       "<tr>\n",
       "  <th>Dep. Variable:</th>           <td>y</td>        <th>  No. Observations:  </th>    <td>404</td>   \n",
       "</tr>\n",
       "<tr>\n",
       "  <th>Model:</th>           <td>SARIMAX(1, 0, 0)</td> <th>  Log Likelihood     </th> <td>-3301.073</td>\n",
       "</tr>\n",
       "<tr>\n",
       "  <th>Date:</th>            <td>Wed, 11 Mar 2020</td> <th>  AIC                </th> <td>6636.146</td> \n",
       "</tr>\n",
       "<tr>\n",
       "  <th>Time:</th>                <td>21:37:28</td>     <th>  BIC                </th> <td>6704.170</td> \n",
       "</tr>\n",
       "<tr>\n",
       "  <th>Sample:</th>             <td>06-08-2018</td>    <th>  HQIC               </th> <td>6663.074</td> \n",
       "</tr>\n",
       "<tr>\n",
       "  <th></th>                   <td>- 07-17-2019</td>   <th>                     </th>     <td> </td>    \n",
       "</tr>\n",
       "<tr>\n",
       "  <th>Covariance Type:</th>        <td>opg</td>       <th>                     </th>     <td> </td>    \n",
       "</tr>\n",
       "</table>\n",
       "<table class=\"simpletable\">\n",
       "<tr>\n",
       "         <td></td>           <th>coef</th>     <th>std err</th>      <th>z</th>      <th>P>|z|</th>  <th>[0.025</th>    <th>0.975]</th>  \n",
       "</tr>\n",
       "<tr>\n",
       "  <th>intercept</th>      <td>   -3.0715</td> <td>  218.227</td> <td>   -0.014</td> <td> 0.989</td> <td> -430.789</td> <td>  424.646</td>\n",
       "</tr>\n",
       "<tr>\n",
       "  <th>Voids</th>          <td>    0.5000</td> <td>    0.552</td> <td>    0.906</td> <td> 0.365</td> <td>   -0.581</td> <td>    1.581</td>\n",
       "</tr>\n",
       "<tr>\n",
       "  <th>Discounts</th>      <td>    0.8012</td> <td>    0.690</td> <td>    1.161</td> <td> 0.246</td> <td>   -0.552</td> <td>    2.154</td>\n",
       "</tr>\n",
       "<tr>\n",
       "  <th>Net Sales</th>      <td>   -0.0514</td> <td>    0.118</td> <td>   -0.437</td> <td> 0.662</td> <td>   -0.282</td> <td>    0.179</td>\n",
       "</tr>\n",
       "<tr>\n",
       "  <th>Menu Item Cost</th> <td>   -0.0285</td> <td>    0.251</td> <td>   -0.113</td> <td> 0.910</td> <td>   -0.521</td> <td>    0.464</td>\n",
       "</tr>\n",
       "<tr>\n",
       "  <th>Labor Cost</th>     <td>    0.0668</td> <td>    0.212</td> <td>    0.315</td> <td> 0.753</td> <td>   -0.348</td> <td>    0.482</td>\n",
       "</tr>\n",
       "<tr>\n",
       "  <th>Margin</th>         <td>    0.2230</td> <td>    0.109</td> <td>    2.052</td> <td> 0.040</td> <td>    0.010</td> <td>    0.436</td>\n",
       "</tr>\n",
       "<tr>\n",
       "  <th>Bill Count</th>     <td>    2.1806</td> <td>    4.811</td> <td>    0.453</td> <td> 0.650</td> <td>   -7.249</td> <td>   11.610</td>\n",
       "</tr>\n",
       "<tr>\n",
       "  <th>Sunday</th>         <td> 3784.0346</td> <td>  109.240</td> <td>   34.640</td> <td> 0.000</td> <td> 3569.928</td> <td> 3998.141</td>\n",
       "</tr>\n",
       "<tr>\n",
       "  <th>Monday</th>         <td> 2368.9945</td> <td>  148.573</td> <td>   15.945</td> <td> 0.000</td> <td> 2077.797</td> <td> 2660.192</td>\n",
       "</tr>\n",
       "<tr>\n",
       "  <th>Tuesday</th>        <td> 2585.5165</td> <td>  141.464</td> <td>   18.277</td> <td> 0.000</td> <td> 2308.251</td> <td> 2862.782</td>\n",
       "</tr>\n",
       "<tr>\n",
       "  <th>Wednesday</th>      <td> 2892.4472</td> <td>  120.487</td> <td>   24.006</td> <td> 0.000</td> <td> 2656.297</td> <td> 3128.597</td>\n",
       "</tr>\n",
       "<tr>\n",
       "  <th>Thursday</th>       <td> 3506.7053</td> <td>   96.669</td> <td>   36.275</td> <td> 0.000</td> <td> 3317.237</td> <td> 3696.174</td>\n",
       "</tr>\n",
       "<tr>\n",
       "  <th>Friday</th>         <td> 4672.4840</td> <td>  130.668</td> <td>   35.759</td> <td> 0.000</td> <td> 4416.380</td> <td> 4928.588</td>\n",
       "</tr>\n",
       "<tr>\n",
       "  <th>Saturday</th>       <td> 5854.3527</td> <td>  206.194</td> <td>   28.392</td> <td> 0.000</td> <td> 5450.220</td> <td> 6258.485</td>\n",
       "</tr>\n",
       "<tr>\n",
       "  <th>ar.L1</th>          <td>    0.2470</td> <td>    0.047</td> <td>    5.300</td> <td> 0.000</td> <td>    0.156</td> <td>    0.338</td>\n",
       "</tr>\n",
       "<tr>\n",
       "  <th>sigma2</th>         <td> 7.322e+05</td> <td> 4.46e+04</td> <td>   16.426</td> <td> 0.000</td> <td> 6.45e+05</td> <td>  8.2e+05</td>\n",
       "</tr>\n",
       "</table>\n",
       "<table class=\"simpletable\">\n",
       "<tr>\n",
       "  <th>Ljung-Box (Q):</th>          <td>49.84</td> <th>  Jarque-Bera (JB):  </th> <td>15.75</td>\n",
       "</tr>\n",
       "<tr>\n",
       "  <th>Prob(Q):</th>                <td>0.14</td>  <th>  Prob(JB):          </th> <td>0.00</td> \n",
       "</tr>\n",
       "<tr>\n",
       "  <th>Heteroskedasticity (H):</th> <td>1.11</td>  <th>  Skew:              </th> <td>0.16</td> \n",
       "</tr>\n",
       "<tr>\n",
       "  <th>Prob(H) (two-sided):</th>    <td>0.54</td>  <th>  Kurtosis:          </th> <td>3.91</td> \n",
       "</tr>\n",
       "</table><br/><br/>Warnings:<br/>[1] Covariance matrix calculated using the outer product of gradients (complex-step).<br/>[2] Covariance matrix is singular or near-singular, with condition number 6.54e+21. Standard errors may be unstable."
      ],
      "text/plain": [
       "<class 'statsmodels.iolib.summary.Summary'>\n",
       "\"\"\"\n",
       "                               SARIMAX Results                                \n",
       "==============================================================================\n",
       "Dep. Variable:                      y   No. Observations:                  404\n",
       "Model:               SARIMAX(1, 0, 0)   Log Likelihood               -3301.073\n",
       "Date:                Wed, 11 Mar 2020   AIC                           6636.146\n",
       "Time:                        21:37:28   BIC                           6704.170\n",
       "Sample:                    06-08-2018   HQIC                          6663.074\n",
       "                         - 07-17-2019                                         \n",
       "Covariance Type:                  opg                                         \n",
       "==================================================================================\n",
       "                     coef    std err          z      P>|z|      [0.025      0.975]\n",
       "----------------------------------------------------------------------------------\n",
       "intercept         -3.0715    218.227     -0.014      0.989    -430.789     424.646\n",
       "Voids              0.5000      0.552      0.906      0.365      -0.581       1.581\n",
       "Discounts          0.8012      0.690      1.161      0.246      -0.552       2.154\n",
       "Net Sales         -0.0514      0.118     -0.437      0.662      -0.282       0.179\n",
       "Menu Item Cost    -0.0285      0.251     -0.113      0.910      -0.521       0.464\n",
       "Labor Cost         0.0668      0.212      0.315      0.753      -0.348       0.482\n",
       "Margin             0.2230      0.109      2.052      0.040       0.010       0.436\n",
       "Bill Count         2.1806      4.811      0.453      0.650      -7.249      11.610\n",
       "Sunday          3784.0346    109.240     34.640      0.000    3569.928    3998.141\n",
       "Monday          2368.9945    148.573     15.945      0.000    2077.797    2660.192\n",
       "Tuesday         2585.5165    141.464     18.277      0.000    2308.251    2862.782\n",
       "Wednesday       2892.4472    120.487     24.006      0.000    2656.297    3128.597\n",
       "Thursday        3506.7053     96.669     36.275      0.000    3317.237    3696.174\n",
       "Friday          4672.4840    130.668     35.759      0.000    4416.380    4928.588\n",
       "Saturday        5854.3527    206.194     28.392      0.000    5450.220    6258.485\n",
       "ar.L1              0.2470      0.047      5.300      0.000       0.156       0.338\n",
       "sigma2          7.322e+05   4.46e+04     16.426      0.000    6.45e+05     8.2e+05\n",
       "===================================================================================\n",
       "Ljung-Box (Q):                       49.84   Jarque-Bera (JB):                15.75\n",
       "Prob(Q):                              0.14   Prob(JB):                         0.00\n",
       "Heteroskedasticity (H):               1.11   Skew:                             0.16\n",
       "Prob(H) (two-sided):                  0.54   Kurtosis:                         3.91\n",
       "===================================================================================\n",
       "\n",
       "Warnings:\n",
       "[1] Covariance matrix calculated using the outer product of gradients (complex-step).\n",
       "[2] Covariance matrix is singular or near-singular, with condition number 6.54e+21. Standard errors may be unstable.\n",
       "\"\"\""
      ]
     },
     "execution_count": 130,
     "metadata": {},
     "output_type": "execute_result"
    }
   ],
   "source": [
    "model_auto.summary()"
   ]
  },
  {
   "cell_type": "code",
   "execution_count": 132,
   "metadata": {},
   "outputs": [],
   "source": [
    "sarima = SARIMAX(endog = y_train,# inout the best params for this model\n",
    "                 order = (2, 0, 1),              # (p, d, q)\n",
    "                 seasonal_order = (0, 1, 2, 12),  # (P, D, Q, S)\n",
    "                 exog = X_train) \n",
    "# Fit SARIMA model\n",
    "model = sarima.fit()"
   ]
  },
  {
   "cell_type": "code",
   "execution_count": 133,
   "metadata": {},
   "outputs": [
    {
     "data": {
      "text/html": [
       "<table class=\"simpletable\">\n",
       "<caption>SARIMAX Results</caption>\n",
       "<tr>\n",
       "  <th>Dep. Variable:</th>               <td>Gross Sales</td>             <th>  No. Observations:  </th>    <td>404</td>   \n",
       "</tr>\n",
       "<tr>\n",
       "  <th>Model:</th>           <td>SARIMAX(2, 0, 1)x(0, 1, [1, 2], 12)</td> <th>  Log Likelihood     </th> <td>-3254.563</td>\n",
       "</tr>\n",
       "<tr>\n",
       "  <th>Date:</th>                     <td>Wed, 11 Mar 2020</td>           <th>  AIC                </th> <td>6549.125</td> \n",
       "</tr>\n",
       "<tr>\n",
       "  <th>Time:</th>                         <td>21:38:02</td>               <th>  BIC                </th> <td>6628.551</td> \n",
       "</tr>\n",
       "<tr>\n",
       "  <th>Sample:</th>                      <td>06-08-2018</td>              <th>  HQIC               </th> <td>6580.604</td> \n",
       "</tr>\n",
       "<tr>\n",
       "  <th></th>                            <td>- 07-17-2019</td>             <th>                     </th>     <td> </td>    \n",
       "</tr>\n",
       "<tr>\n",
       "  <th>Covariance Type:</th>                 <td>opg</td>                 <th>                     </th>     <td> </td>    \n",
       "</tr>\n",
       "</table>\n",
       "<table class=\"simpletable\">\n",
       "<tr>\n",
       "         <td></td>           <th>coef</th>     <th>std err</th>      <th>z</th>      <th>P>|z|</th>  <th>[0.025</th>    <th>0.975]</th>  \n",
       "</tr>\n",
       "<tr>\n",
       "  <th>Voids</th>          <td>    0.1657</td> <td>    1.072</td> <td>    0.155</td> <td> 0.877</td> <td>   -1.935</td> <td>    2.267</td>\n",
       "</tr>\n",
       "<tr>\n",
       "  <th>Discounts</th>      <td>    0.5960</td> <td>    1.287</td> <td>    0.463</td> <td> 0.643</td> <td>   -1.926</td> <td>    3.118</td>\n",
       "</tr>\n",
       "<tr>\n",
       "  <th>Net Sales</th>      <td>    0.1724</td> <td>    0.228</td> <td>    0.755</td> <td> 0.450</td> <td>   -0.275</td> <td>    0.620</td>\n",
       "</tr>\n",
       "<tr>\n",
       "  <th>Menu Item Cost</th> <td>    0.2260</td> <td>    0.528</td> <td>    0.428</td> <td> 0.669</td> <td>   -0.810</td> <td>    1.262</td>\n",
       "</tr>\n",
       "<tr>\n",
       "  <th>Labor Cost</th>     <td>   -0.0334</td> <td>    0.459</td> <td>   -0.073</td> <td> 0.942</td> <td>   -0.932</td> <td>    0.865</td>\n",
       "</tr>\n",
       "<tr>\n",
       "  <th>Margin</th>         <td>   -0.0113</td> <td>    0.223</td> <td>   -0.051</td> <td> 0.959</td> <td>   -0.448</td> <td>    0.425</td>\n",
       "</tr>\n",
       "<tr>\n",
       "  <th>Bill Count</th>     <td>   -0.2444</td> <td>    9.366</td> <td>   -0.026</td> <td> 0.979</td> <td>  -18.602</td> <td>   18.113</td>\n",
       "</tr>\n",
       "<tr>\n",
       "  <th>Sunday</th>         <td>  160.5637</td> <td> 2719.877</td> <td>    0.059</td> <td> 0.953</td> <td>-5170.297</td> <td> 5491.425</td>\n",
       "</tr>\n",
       "<tr>\n",
       "  <th>Monday</th>         <td>-1359.7197</td> <td> 2724.173</td> <td>   -0.499</td> <td> 0.618</td> <td>-6699.001</td> <td> 3979.561</td>\n",
       "</tr>\n",
       "<tr>\n",
       "  <th>Tuesday</th>        <td>-1168.3983</td> <td> 2706.516</td> <td>   -0.432</td> <td> 0.666</td> <td>-6473.072</td> <td> 4136.276</td>\n",
       "</tr>\n",
       "<tr>\n",
       "  <th>Wednesday</th>      <td> -835.0325</td> <td> 2685.707</td> <td>   -0.311</td> <td> 0.756</td> <td>-6098.921</td> <td> 4428.856</td>\n",
       "</tr>\n",
       "<tr>\n",
       "  <th>Thursday</th>       <td> -183.0282</td> <td> 2670.256</td> <td>   -0.069</td> <td> 0.945</td> <td>-5416.634</td> <td> 5050.578</td>\n",
       "</tr>\n",
       "<tr>\n",
       "  <th>Friday</th>         <td> 1083.0973</td> <td> 2707.905</td> <td>    0.400</td> <td> 0.689</td> <td>-4224.299</td> <td> 6390.494</td>\n",
       "</tr>\n",
       "<tr>\n",
       "  <th>Saturday</th>       <td> 2302.5495</td> <td> 2757.784</td> <td>    0.835</td> <td> 0.404</td> <td>-3102.608</td> <td> 7707.707</td>\n",
       "</tr>\n",
       "<tr>\n",
       "  <th>ar.L1</th>          <td>    1.1694</td> <td>    0.116</td> <td>   10.064</td> <td> 0.000</td> <td>    0.942</td> <td>    1.397</td>\n",
       "</tr>\n",
       "<tr>\n",
       "  <th>ar.L2</th>          <td>   -0.1788</td> <td>    0.111</td> <td>   -1.606</td> <td> 0.108</td> <td>   -0.397</td> <td>    0.039</td>\n",
       "</tr>\n",
       "<tr>\n",
       "  <th>ma.L1</th>          <td>   -0.9139</td> <td>    0.062</td> <td>  -14.840</td> <td> 0.000</td> <td>   -1.035</td> <td>   -0.793</td>\n",
       "</tr>\n",
       "<tr>\n",
       "  <th>ma.S.L12</th>       <td>   -0.9388</td> <td>    0.107</td> <td>   -8.768</td> <td> 0.000</td> <td>   -1.149</td> <td>   -0.729</td>\n",
       "</tr>\n",
       "<tr>\n",
       "  <th>ma.S.L24</th>       <td>    0.0406</td> <td>    0.110</td> <td>    0.369</td> <td> 0.712</td> <td>   -0.175</td> <td>    0.256</td>\n",
       "</tr>\n",
       "<tr>\n",
       "  <th>sigma2</th>         <td> 1.456e+06</td> <td> 1.48e+05</td> <td>    9.859</td> <td> 0.000</td> <td> 1.17e+06</td> <td> 1.75e+06</td>\n",
       "</tr>\n",
       "</table>\n",
       "<table class=\"simpletable\">\n",
       "<tr>\n",
       "  <th>Ljung-Box (Q):</th>          <td>42.64</td> <th>  Jarque-Bera (JB):  </th> <td>22.15</td>\n",
       "</tr>\n",
       "<tr>\n",
       "  <th>Prob(Q):</th>                <td>0.36</td>  <th>  Prob(JB):          </th> <td>0.00</td> \n",
       "</tr>\n",
       "<tr>\n",
       "  <th>Heteroskedasticity (H):</th> <td>1.08</td>  <th>  Skew:              </th> <td>0.19</td> \n",
       "</tr>\n",
       "<tr>\n",
       "  <th>Prob(H) (two-sided):</th>    <td>0.68</td>  <th>  Kurtosis:          </th> <td>4.10</td> \n",
       "</tr>\n",
       "</table><br/><br/>Warnings:<br/>[1] Covariance matrix calculated using the outer product of gradients (complex-step).<br/>[2] Covariance matrix is singular or near-singular, with condition number 1.49e+22. Standard errors may be unstable."
      ],
      "text/plain": [
       "<class 'statsmodels.iolib.summary.Summary'>\n",
       "\"\"\"\n",
       "                                        SARIMAX Results                                        \n",
       "===============================================================================================\n",
       "Dep. Variable:                             Gross Sales   No. Observations:                  404\n",
       "Model:             SARIMAX(2, 0, 1)x(0, 1, [1, 2], 12)   Log Likelihood               -3254.563\n",
       "Date:                                 Wed, 11 Mar 2020   AIC                           6549.125\n",
       "Time:                                         21:38:02   BIC                           6628.551\n",
       "Sample:                                     06-08-2018   HQIC                          6580.604\n",
       "                                          - 07-17-2019                                         \n",
       "Covariance Type:                                   opg                                         \n",
       "==================================================================================\n",
       "                     coef    std err          z      P>|z|      [0.025      0.975]\n",
       "----------------------------------------------------------------------------------\n",
       "Voids              0.1657      1.072      0.155      0.877      -1.935       2.267\n",
       "Discounts          0.5960      1.287      0.463      0.643      -1.926       3.118\n",
       "Net Sales          0.1724      0.228      0.755      0.450      -0.275       0.620\n",
       "Menu Item Cost     0.2260      0.528      0.428      0.669      -0.810       1.262\n",
       "Labor Cost        -0.0334      0.459     -0.073      0.942      -0.932       0.865\n",
       "Margin            -0.0113      0.223     -0.051      0.959      -0.448       0.425\n",
       "Bill Count        -0.2444      9.366     -0.026      0.979     -18.602      18.113\n",
       "Sunday           160.5637   2719.877      0.059      0.953   -5170.297    5491.425\n",
       "Monday         -1359.7197   2724.173     -0.499      0.618   -6699.001    3979.561\n",
       "Tuesday        -1168.3983   2706.516     -0.432      0.666   -6473.072    4136.276\n",
       "Wednesday       -835.0325   2685.707     -0.311      0.756   -6098.921    4428.856\n",
       "Thursday        -183.0282   2670.256     -0.069      0.945   -5416.634    5050.578\n",
       "Friday          1083.0973   2707.905      0.400      0.689   -4224.299    6390.494\n",
       "Saturday        2302.5495   2757.784      0.835      0.404   -3102.608    7707.707\n",
       "ar.L1              1.1694      0.116     10.064      0.000       0.942       1.397\n",
       "ar.L2             -0.1788      0.111     -1.606      0.108      -0.397       0.039\n",
       "ma.L1             -0.9139      0.062    -14.840      0.000      -1.035      -0.793\n",
       "ma.S.L12          -0.9388      0.107     -8.768      0.000      -1.149      -0.729\n",
       "ma.S.L24           0.0406      0.110      0.369      0.712      -0.175       0.256\n",
       "sigma2          1.456e+06   1.48e+05      9.859      0.000    1.17e+06    1.75e+06\n",
       "===================================================================================\n",
       "Ljung-Box (Q):                       42.64   Jarque-Bera (JB):                22.15\n",
       "Prob(Q):                              0.36   Prob(JB):                         0.00\n",
       "Heteroskedasticity (H):               1.08   Skew:                             0.19\n",
       "Prob(H) (two-sided):                  0.68   Kurtosis:                         4.10\n",
       "===================================================================================\n",
       "\n",
       "Warnings:\n",
       "[1] Covariance matrix calculated using the outer product of gradients (complex-step).\n",
       "[2] Covariance matrix is singular or near-singular, with condition number 1.49e+22. Standard errors may be unstable.\n",
       "\"\"\""
      ]
     },
     "execution_count": 133,
     "metadata": {},
     "output_type": "execute_result"
    }
   ],
   "source": [
    "model.summary()"
   ]
  },
  {
   "cell_type": "code",
   "execution_count": 172,
   "metadata": {},
   "outputs": [
    {
     "data": {
      "text/plain": [
       "PeriodIndex(['2018-06-08', '2018-06-09', '2018-06-10', '2018-06-11',\n",
       "             '2018-06-12', '2018-06-13', '2018-06-14', '2018-06-15',\n",
       "             '2018-06-16', '2018-06-17',\n",
       "             ...\n",
       "             '2019-07-08', '2019-07-09', '2019-07-10', '2019-07-11',\n",
       "             '2019-07-12', '2019-07-13', '2019-07-14', '2019-07-15',\n",
       "             '2019-07-16', '2019-07-17'],\n",
       "            dtype='period[D]', name='Date', length=404, freq='D')"
      ]
     },
     "execution_count": 172,
     "metadata": {},
     "output_type": "execute_result"
    }
   ],
   "source": [
    "y_train.index"
   ]
  },
  {
   "cell_type": "code",
   "execution_count": 135,
   "metadata": {},
   "outputs": [
    {
     "data": {
      "text/html": [
       "<div>\n",
       "<style scoped>\n",
       "    .dataframe tbody tr th:only-of-type {\n",
       "        vertical-align: middle;\n",
       "    }\n",
       "\n",
       "    .dataframe tbody tr th {\n",
       "        vertical-align: top;\n",
       "    }\n",
       "\n",
       "    .dataframe thead th {\n",
       "        text-align: right;\n",
       "    }\n",
       "</style>\n",
       "<table border=\"1\" class=\"dataframe\">\n",
       "  <thead>\n",
       "    <tr style=\"text-align: right;\">\n",
       "      <th></th>\n",
       "      <th>Voids</th>\n",
       "      <th>Discounts</th>\n",
       "      <th>Net Sales</th>\n",
       "      <th>Menu Item Cost</th>\n",
       "      <th>Labor Cost</th>\n",
       "      <th>Margin</th>\n",
       "      <th>Bill Count</th>\n",
       "      <th>Sunday</th>\n",
       "      <th>Monday</th>\n",
       "      <th>Tuesday</th>\n",
       "      <th>Wednesday</th>\n",
       "      <th>Thursday</th>\n",
       "      <th>Friday</th>\n",
       "      <th>Saturday</th>\n",
       "    </tr>\n",
       "    <tr>\n",
       "      <th>Date</th>\n",
       "      <th></th>\n",
       "      <th></th>\n",
       "      <th></th>\n",
       "      <th></th>\n",
       "      <th></th>\n",
       "      <th></th>\n",
       "      <th></th>\n",
       "      <th></th>\n",
       "      <th></th>\n",
       "      <th></th>\n",
       "      <th></th>\n",
       "      <th></th>\n",
       "      <th></th>\n",
       "      <th></th>\n",
       "    </tr>\n",
       "  </thead>\n",
       "  <tbody>\n",
       "    <tr>\n",
       "      <td>2019-07-18</td>\n",
       "      <td>163.0</td>\n",
       "      <td>23.50</td>\n",
       "      <td>3460.50</td>\n",
       "      <td>46.0</td>\n",
       "      <td>1429.30</td>\n",
       "      <td>1985.20</td>\n",
       "      <td>68.0</td>\n",
       "      <td>0.0</td>\n",
       "      <td>0.0</td>\n",
       "      <td>0.0</td>\n",
       "      <td>0.0</td>\n",
       "      <td>1.0</td>\n",
       "      <td>0.0</td>\n",
       "      <td>0.0</td>\n",
       "    </tr>\n",
       "    <tr>\n",
       "      <td>2019-07-19</td>\n",
       "      <td>80.0</td>\n",
       "      <td>220.50</td>\n",
       "      <td>6498.50</td>\n",
       "      <td>268.0</td>\n",
       "      <td>1416.77</td>\n",
       "      <td>4813.73</td>\n",
       "      <td>128.0</td>\n",
       "      <td>0.0</td>\n",
       "      <td>0.0</td>\n",
       "      <td>0.0</td>\n",
       "      <td>0.0</td>\n",
       "      <td>0.0</td>\n",
       "      <td>1.0</td>\n",
       "      <td>0.0</td>\n",
       "    </tr>\n",
       "    <tr>\n",
       "      <td>2019-07-20</td>\n",
       "      <td>252.0</td>\n",
       "      <td>40.00</td>\n",
       "      <td>6852.00</td>\n",
       "      <td>192.0</td>\n",
       "      <td>1497.93</td>\n",
       "      <td>5162.07</td>\n",
       "      <td>139.0</td>\n",
       "      <td>0.0</td>\n",
       "      <td>0.0</td>\n",
       "      <td>0.0</td>\n",
       "      <td>0.0</td>\n",
       "      <td>0.0</td>\n",
       "      <td>0.0</td>\n",
       "      <td>1.0</td>\n",
       "    </tr>\n",
       "    <tr>\n",
       "      <td>2019-07-21</td>\n",
       "      <td>105.0</td>\n",
       "      <td>35.75</td>\n",
       "      <td>4103.25</td>\n",
       "      <td>46.0</td>\n",
       "      <td>1142.04</td>\n",
       "      <td>2915.21</td>\n",
       "      <td>81.0</td>\n",
       "      <td>1.0</td>\n",
       "      <td>0.0</td>\n",
       "      <td>0.0</td>\n",
       "      <td>0.0</td>\n",
       "      <td>0.0</td>\n",
       "      <td>0.0</td>\n",
       "      <td>0.0</td>\n",
       "    </tr>\n",
       "    <tr>\n",
       "      <td>2019-07-22</td>\n",
       "      <td>40.0</td>\n",
       "      <td>52.20</td>\n",
       "      <td>3293.80</td>\n",
       "      <td>48.0</td>\n",
       "      <td>947.51</td>\n",
       "      <td>2298.29</td>\n",
       "      <td>72.0</td>\n",
       "      <td>0.0</td>\n",
       "      <td>1.0</td>\n",
       "      <td>0.0</td>\n",
       "      <td>0.0</td>\n",
       "      <td>0.0</td>\n",
       "      <td>0.0</td>\n",
       "      <td>0.0</td>\n",
       "    </tr>\n",
       "    <tr>\n",
       "      <td>...</td>\n",
       "      <td>...</td>\n",
       "      <td>...</td>\n",
       "      <td>...</td>\n",
       "      <td>...</td>\n",
       "      <td>...</td>\n",
       "      <td>...</td>\n",
       "      <td>...</td>\n",
       "      <td>...</td>\n",
       "      <td>...</td>\n",
       "      <td>...</td>\n",
       "      <td>...</td>\n",
       "      <td>...</td>\n",
       "      <td>...</td>\n",
       "      <td>...</td>\n",
       "    </tr>\n",
       "    <tr>\n",
       "      <td>2020-02-12</td>\n",
       "      <td>139.0</td>\n",
       "      <td>84.40</td>\n",
       "      <td>4335.60</td>\n",
       "      <td>196.0</td>\n",
       "      <td>1077.08</td>\n",
       "      <td>3062.52</td>\n",
       "      <td>78.0</td>\n",
       "      <td>0.0</td>\n",
       "      <td>0.0</td>\n",
       "      <td>0.0</td>\n",
       "      <td>1.0</td>\n",
       "      <td>0.0</td>\n",
       "      <td>0.0</td>\n",
       "      <td>0.0</td>\n",
       "    </tr>\n",
       "    <tr>\n",
       "      <td>2020-02-13</td>\n",
       "      <td>127.0</td>\n",
       "      <td>33.00</td>\n",
       "      <td>3643.00</td>\n",
       "      <td>36.0</td>\n",
       "      <td>1188.58</td>\n",
       "      <td>2418.42</td>\n",
       "      <td>78.0</td>\n",
       "      <td>0.0</td>\n",
       "      <td>0.0</td>\n",
       "      <td>0.0</td>\n",
       "      <td>0.0</td>\n",
       "      <td>1.0</td>\n",
       "      <td>0.0</td>\n",
       "      <td>0.0</td>\n",
       "    </tr>\n",
       "    <tr>\n",
       "      <td>2020-02-14</td>\n",
       "      <td>136.0</td>\n",
       "      <td>45.00</td>\n",
       "      <td>4715.00</td>\n",
       "      <td>12.0</td>\n",
       "      <td>1175.89</td>\n",
       "      <td>3527.11</td>\n",
       "      <td>79.0</td>\n",
       "      <td>0.0</td>\n",
       "      <td>0.0</td>\n",
       "      <td>0.0</td>\n",
       "      <td>0.0</td>\n",
       "      <td>0.0</td>\n",
       "      <td>1.0</td>\n",
       "      <td>0.0</td>\n",
       "    </tr>\n",
       "    <tr>\n",
       "      <td>2020-02-15</td>\n",
       "      <td>190.0</td>\n",
       "      <td>0.00</td>\n",
       "      <td>9249.00</td>\n",
       "      <td>252.0</td>\n",
       "      <td>1323.40</td>\n",
       "      <td>7673.60</td>\n",
       "      <td>164.0</td>\n",
       "      <td>0.0</td>\n",
       "      <td>0.0</td>\n",
       "      <td>0.0</td>\n",
       "      <td>0.0</td>\n",
       "      <td>0.0</td>\n",
       "      <td>0.0</td>\n",
       "      <td>1.0</td>\n",
       "    </tr>\n",
       "    <tr>\n",
       "      <td>2020-02-16</td>\n",
       "      <td>26.0</td>\n",
       "      <td>71.20</td>\n",
       "      <td>5015.90</td>\n",
       "      <td>54.0</td>\n",
       "      <td>1134.05</td>\n",
       "      <td>3827.85</td>\n",
       "      <td>112.0</td>\n",
       "      <td>1.0</td>\n",
       "      <td>0.0</td>\n",
       "      <td>0.0</td>\n",
       "      <td>0.0</td>\n",
       "      <td>0.0</td>\n",
       "      <td>0.0</td>\n",
       "      <td>0.0</td>\n",
       "    </tr>\n",
       "  </tbody>\n",
       "</table>\n",
       "<p>210 rows × 14 columns</p>\n",
       "</div>"
      ],
      "text/plain": [
       "            Voids  Discounts  Net Sales  Menu Item Cost  Labor Cost   Margin  \\\n",
       "Date                                                                           \n",
       "2019-07-18  163.0      23.50    3460.50            46.0     1429.30  1985.20   \n",
       "2019-07-19   80.0     220.50    6498.50           268.0     1416.77  4813.73   \n",
       "2019-07-20  252.0      40.00    6852.00           192.0     1497.93  5162.07   \n",
       "2019-07-21  105.0      35.75    4103.25            46.0     1142.04  2915.21   \n",
       "2019-07-22   40.0      52.20    3293.80            48.0      947.51  2298.29   \n",
       "...           ...        ...        ...             ...         ...      ...   \n",
       "2020-02-12  139.0      84.40    4335.60           196.0     1077.08  3062.52   \n",
       "2020-02-13  127.0      33.00    3643.00            36.0     1188.58  2418.42   \n",
       "2020-02-14  136.0      45.00    4715.00            12.0     1175.89  3527.11   \n",
       "2020-02-15  190.0       0.00    9249.00           252.0     1323.40  7673.60   \n",
       "2020-02-16   26.0      71.20    5015.90            54.0     1134.05  3827.85   \n",
       "\n",
       "            Bill Count  Sunday  Monday  Tuesday  Wednesday  Thursday  Friday  \\\n",
       "Date                                                                           \n",
       "2019-07-18        68.0     0.0     0.0      0.0        0.0       1.0     0.0   \n",
       "2019-07-19       128.0     0.0     0.0      0.0        0.0       0.0     1.0   \n",
       "2019-07-20       139.0     0.0     0.0      0.0        0.0       0.0     0.0   \n",
       "2019-07-21        81.0     1.0     0.0      0.0        0.0       0.0     0.0   \n",
       "2019-07-22        72.0     0.0     1.0      0.0        0.0       0.0     0.0   \n",
       "...                ...     ...     ...      ...        ...       ...     ...   \n",
       "2020-02-12        78.0     0.0     0.0      0.0        1.0       0.0     0.0   \n",
       "2020-02-13        78.0     0.0     0.0      0.0        0.0       1.0     0.0   \n",
       "2020-02-14        79.0     0.0     0.0      0.0        0.0       0.0     1.0   \n",
       "2020-02-15       164.0     0.0     0.0      0.0        0.0       0.0     0.0   \n",
       "2020-02-16       112.0     1.0     0.0      0.0        0.0       0.0     0.0   \n",
       "\n",
       "            Saturday  \n",
       "Date                  \n",
       "2019-07-18       0.0  \n",
       "2019-07-19       0.0  \n",
       "2019-07-20       1.0  \n",
       "2019-07-21       0.0  \n",
       "2019-07-22       0.0  \n",
       "...              ...  \n",
       "2020-02-12       0.0  \n",
       "2020-02-13       0.0  \n",
       "2020-02-14       0.0  \n",
       "2020-02-15       1.0  \n",
       "2020-02-16       0.0  \n",
       "\n",
       "[210 rows x 14 columns]"
      ]
     },
     "execution_count": 135,
     "metadata": {},
     "output_type": "execute_result"
    }
   ],
   "source": [
    "X_test.to_timestamp(freq = 'd')"
   ]
  },
  {
   "cell_type": "code",
   "execution_count": 158,
   "metadata": {},
   "outputs": [],
   "source": [
    "X_test.index = pd.DatetimeIndex(X_test.index.to_timestamp()).to_period('d')\n",
    "idx = pd.date_range('2019-07-18','2020-02-17').to_period('d');\n",
    "X_test = X_test.reindex(idx, method = 'pad', fill_value=0)\n"
   ]
  },
  {
   "cell_type": "code",
   "execution_count": 159,
   "metadata": {},
   "outputs": [],
   "source": [
    "X_test = X_test.fillna(method='ffill')"
   ]
  },
  {
   "cell_type": "code",
   "execution_count": 160,
   "metadata": {},
   "outputs": [],
   "source": [
    "preds = model.predict(start = '2019-07-18', end = '2020-02-16', exog = X_test).to_frame()"
   ]
  },
  {
   "cell_type": "code",
   "execution_count": 161,
   "metadata": {},
   "outputs": [],
   "source": [
    "y_test.index = pd.DatetimeIndex(y_test.index).to_period('d')"
   ]
  },
  {
   "cell_type": "code",
   "execution_count": null,
   "metadata": {},
   "outputs": [],
   "source": [
    "X_test.index = pd.DatetimeIndex(X_test.index.to_timestamp()).to_period('d')\n",
    "idx = pd.date_range('2019-07-18','2020-02-17').to_period('d');\n",
    "X_test = X_test.reindex(idx, method = 'pad', fill_value=0)"
   ]
  },
  {
   "cell_type": "code",
   "execution_count": 162,
   "metadata": {},
   "outputs": [],
   "source": [
    "preds.drop(preds.index.difference(y_test.index), inplace=True)"
   ]
  },
  {
   "cell_type": "markdown",
   "metadata": {},
   "source": [
    "## Model Evaluation"
   ]
  },
  {
   "cell_type": "markdown",
   "metadata": {},
   "source": [
    "### Baseline Model"
   ]
  },
  {
   "cell_type": "code",
   "execution_count": 163,
   "metadata": {},
   "outputs": [
    {
     "data": {
      "text/plain": [
       "4563.761674718196"
      ]
     },
     "execution_count": 163,
     "metadata": {},
     "output_type": "execute_result"
    }
   ],
   "source": [
    "merge[\"Gross Sales\"].mean()"
   ]
  },
  {
   "cell_type": "code",
   "execution_count": 164,
   "metadata": {},
   "outputs": [
    {
     "data": {
      "text/plain": [
       "-0.15831183571449858"
      ]
     },
     "execution_count": 164,
     "metadata": {},
     "output_type": "execute_result"
    }
   ],
   "source": [
    "metrics.r2_score(y_test, preds)"
   ]
  },
  {
   "cell_type": "code",
   "execution_count": 165,
   "metadata": {},
   "outputs": [
    {
     "data": {
      "text/plain": [
       "3596077.796109827"
      ]
     },
     "execution_count": 165,
     "metadata": {},
     "output_type": "execute_result"
    }
   ],
   "source": [
    "mse = mean_squared_error(y_test[0:len(y_test)], preds)\n",
    "mse"
   ]
  },
  {
   "cell_type": "code",
   "execution_count": 166,
   "metadata": {},
   "outputs": [
    {
     "data": {
      "text/plain": [
       "1896.3327229444276"
      ]
     },
     "execution_count": 166,
     "metadata": {},
     "output_type": "execute_result"
    }
   ],
   "source": [
    "math.sqrt(mse)"
   ]
  },
  {
   "cell_type": "code",
   "execution_count": 167,
   "metadata": {},
   "outputs": [
    {
     "data": {
      "text/plain": [
       "<matplotlib.axes._subplots.AxesSubplot at 0x138ad7fd0>"
      ]
     },
     "execution_count": 167,
     "metadata": {},
     "output_type": "execute_result"
    },
    {
     "data": {
      "image/png": "[encoded data removed]",
      "text/plain": [
       "<Figure size 432x288 with 1 Axes>"
      ]
     },
     "metadata": {
      "needs_background": "light"
     },
     "output_type": "display_data"
    }
   ],
   "source": [
    "sns.residplot(preds, y_test)"
   ]
  },
  {
   "cell_type": "code",
   "execution_count": 168,
   "metadata": {},
   "outputs": [],
   "source": [
    "y_test.index = y_test.index.to_timestamp()"
   ]
  },
  {
   "cell_type": "code",
   "execution_count": 169,
   "metadata": {},
   "outputs": [],
   "source": [
    "preds.index = preds.index.to_timestamp()"
   ]
  },
  {
   "cell_type": "code",
   "execution_count": 196,
   "metadata": {},
   "outputs": [],
   "source": [
    "y_train.index = y_train.index.to_timestamp()"
   ]
  },
  {
   "cell_type": "code",
   "execution_count": 198,
   "metadata": {
    "scrolled": true
   },
   "outputs": [
    {
     "data": {
      "image/png": "[encoded data removed]",
      "text/plain": [
       "<Figure size 720x432 with 1 Axes>"
      ]
     },
     "metadata": {
      "needs_background": "light"
     },
     "output_type": "display_data"
    }
   ],
   "source": [
    "plt.figure(figsize=(10,6))\n",
    "plt.plot(y_train, color = 'blue')\n",
    "plt.plot(y_test, color = 'orange')\n",
    "plt.plot(preds, color = 'green')\n",
    "\n",
    "\n",
    "plt.title(label = 'Sales Predictions SARIMAX Test', fontsize=16)\n",
    "plt.show();"
   ]
  },
  {
   "cell_type": "markdown",
   "metadata": {},
   "source": [
    "## Conclusion & Reccomendations"
   ]
  },
  {
   "cell_type": "markdown",
   "metadata": {},
   "source": [
    "### The Bible:\n",
    "\n",
    "● Total prime less than 60%\n",
    "\n",
    "● Food cost 25 to 30%\n",
    "\n",
    "● Labor cost BOH 15% to 20%\n",
    "\n",
    "● Labor cost FOH 10 to 15%\n",
    "\n",
    "● Profitmax15%\n",
    "\n",
    "● 7 extreme low. 12% average 15 is excellent "
   ]
  },
  {
   "cell_type": "markdown",
   "metadata": {},
   "source": [
    "## References"
   ]
  }
 ],
 "metadata": {
  "kernelspec": {
   "display_name": "Python 3",
   "language": "python",
   "name": "python3"
  },
  "language_info": {
   "codemirror_mode": {
    "name": "ipython",
    "version": 3
   },
   "file_extension": ".py",
   "mimetype": "text/x-python",
   "name": "python",
   "nbconvert_exporter": "python",
   "pygments_lexer": "ipython3",
   "version": "3.7.4"
  },
  "toc": {
   "base_numbering": 1,
   "nav_menu": {},
   "number_sections": true,
   "sideBar": true,
   "skip_h1_title": false,
   "title_cell": "Table of Contents",
   "title_sidebar": "Contents",
   "toc_cell": true,
   "toc_position": {
    "height": "calc(100% - 180px)",
    "left": "10px",
    "top": "150px",
    "width": "243.188px"
   },
   "toc_section_display": true,
   "toc_window_display": true
  }
 },
 "nbformat": 4,
 "nbformat_minor": 2
}
